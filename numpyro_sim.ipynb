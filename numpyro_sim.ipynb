{
 "cells": [
  {
   "cell_type": "code",
   "execution_count": 1,
   "metadata": {},
   "outputs": [
    {
     "name": "stderr",
     "output_type": "stream",
     "text": [
      "/home/frans/.local/lib/python3.12/site-packages/tqdm/auto.py:21: TqdmWarning: IProgress not found. Please update jupyter and ipywidgets. See https://ipywidgets.readthedocs.io/en/stable/user_install.html\n",
      "  from .autonotebook import tqdm as notebook_tqdm\n"
     ]
    }
   ],
   "source": [
    "import numpyro\n",
    "import numpyro.distributions as dist\n",
    "from numpyro.handlers import seed, trace\n",
    "import jax\n",
    "import jax.numpy as jnp\n",
    "from jax import random\n",
    "from jax.scipy.integrate import trapezoid\n",
    "import numpy as np\n",
    "\n",
    "from sim_utils import *\n",
    "from clip import *\n",
    "import matplotlib.pylab as plt"
   ]
  },
  {
   "cell_type": "code",
   "execution_count": 2,
   "metadata": {},
   "outputs": [],
   "source": [
    "def vmapped_sim_fn(sim_fn, params):\n",
    "    # print(jax.tree_map(lambda x: x.shape if hasattr(x, 'shape') else None, params))\n",
    "    if params['L'].ndim == 1:\n",
    "        return jax.vmap(sim_fn, in_axes=0, out_axes=0)(params)\n",
    "    else:\n",
    "        return jax.vmap(partial(vmapped_sim_fn, sim_fn), in_axes=0, out_axes=0)(params)"
   ]
  },
  {
   "cell_type": "code",
   "execution_count": 20,
   "metadata": {},
   "outputs": [],
   "source": [
    "def sim_worms(nworms, batch_size, n_frames):\n",
    "    duration = 0.55\n",
    "    snapshots = 10\n",
    "    kpoints = 6\n",
    "    box_size = 64\n",
    "    with numpyro.plate('batch', batch_size, dim=-2):\n",
    "        with numpyro.plate('nworms', nworms, dim=-1):\n",
    "            # L = numpyro.sample('L', dist.Uniform(30, 45))\n",
    "            L = numpyro.sample('L', dist.Uniform(10, 15))\n",
    "            A = numpyro.sample('A', dist.Normal(1, 0.1))\n",
    "            T = numpyro.sample('T', dist.Normal(0.8, 0.1))\n",
    "            kw = numpyro.sample('kw', dist.Uniform(0, 2 * jnp.pi))\n",
    "            ku = numpyro.sample('ku', dist.Normal(jnp.pi, 1))\n",
    "            \n",
    "            inc = numpyro.sample('inc', dist.Uniform(0, 2 * jnp.pi))\n",
    "            dr = numpyro.sample('dr', dist.Uniform(0.2, 0.8))\n",
    "            phase_1 = numpyro.sample('phase_1', dist.Uniform(0, 2 * jnp.pi))\n",
    "            phase_2 = numpyro.sample('phase_2', dist.Uniform(0, 2 * jnp.pi))\n",
    "            phase_3 = numpyro.sample('phase_3', dist.Normal(0, 0.1))\n",
    "            alpha = numpyro.sample('alpha', dist.Normal(4, 4))\n",
    "\n",
    "            alpha = jnp.abs(alpha + 1.0)\n",
    "            half_box = box_size // 2\n",
    "            x0 = numpyro.sample('x0', dist.Uniform(-1, 1))\n",
    "            y0 = numpyro.sample('y0', dist.Uniform(-1, 1))\n",
    "            x0 = x0 * half_box\n",
    "            y0 = y0 * half_box\n",
    "\n",
    "            params = {'L': L, 'A': A, 'T': T, 'kw': kw, 'ku': ku, 'inc': inc, 'dr': dr, 'phase_1': phase_1, 'phase_2': phase_2, 'phase_3': phase_3, 'alpha': alpha, 'x0': x0, 'y0': y0}\n",
    "            \n",
    "            print(params['L'].shape)\n",
    "            # params0 = {'L': 12.5, 'A': 0, 'T': 0.8, 'kw': jnp.pi, 'ku': 0, 'inc': jnp.pi, 'dr': 0.5, 'phase_1': jnp.pi, 'phase_2': jnp.pi, 'phase_3': phase_3, 'alpha': alpha, 'x0': x0, 'y0': y0}\n",
    "            params0 = {'L': 12.5 * jnp.ones((nworms, batch_size)), 'A': 0 * jnp.ones((nworms, batch_size)), 'T': 0.8 * jnp.ones((nworms, batch_size)), 'kw': jnp.pi * jnp.ones((nworms, batch_size)), 'ku': 0 * jnp.ones((nworms, batch_size)), 'inc': jnp.pi * jnp.ones((nworms, batch_size)), 'dr': 0.5 * jnp.ones((nworms, batch_size)), 'phase_1': jnp.pi * jnp.ones((nworms, batch_size)), 'phase_2': jnp.pi * jnp.ones((nworms, batch_size)), 'phase_3': phase_3 * jnp.ones((nworms, batch_size)), 'alpha': alpha * jnp.ones((nworms, batch_size)), 'x0': x0 * jnp.ones((nworms, batch_size)), 'y0': y0 * jnp.ones((nworms, batch_size))}\n",
    "            print(params0['L'].shape)\n",
    "\n",
    "            sim_fn = partial(\n",
    "                worm_simulation,\n",
    "                duration=duration,\n",
    "                snapshots=snapshots,\n",
    "                kpoints=kpoints,\n",
    "            )\n",
    "\n",
    "            # with numpyro.plate('n_frames', n_frames, dim=-4):\n",
    "            with numpyro.plate('n_frames', n_frames):\n",
    "                worms = vmapped_sim_fn(sim_fn, params)\n",
    "                \n",
    "                worms = worms + half_box\n",
    "                numpyro.deterministic('worms', worms)\n",
    "\n",
    "            print(jnp.any(jnp.isnan(vmapped_sim_fn(sim_fn, params0))))\n",
    "    return worms, x0, y0"
   ]
  },
  {
   "cell_type": "code",
   "execution_count": 21,
   "metadata": {},
   "outputs": [
    {
     "name": "stdout",
     "output_type": "stream",
     "text": [
      "(2, 2)\n",
      "(2, 2)\n",
      "False\n"
     ]
    }
   ],
   "source": [
    "# seed and trace\n",
    "key, nworms, box_size = random.PRNGKey(0), 2, 64\n",
    "\n",
    "\n",
    "seeded_model = seed(sim_worms, key)\n",
    "tr = trace(seeded_model).get_trace(nworms=nworms, batch_size=2, n_frames=10)"
   ]
  },
  {
   "cell_type": "code",
   "execution_count": 45,
   "metadata": {},
   "outputs": [],
   "source": [
    "# seed and trace\n",
    "key, nworms, box_size = random.PRNGKey(0), 2, 64\n",
    "\n",
    "\n",
    "seeded_model = seed(sim_worms, key)\n",
    "tr = trace(seeded_model).get_trace(nworms, 20_000, 10)"
   ]
  },
  {
   "cell_type": "code",
   "execution_count": 46,
   "metadata": {},
   "outputs": [
    {
     "data": {
      "text/plain": [
       "(20000, 2, 10, 6, 2)"
      ]
     },
     "execution_count": 46,
     "metadata": {},
     "output_type": "execute_result"
    }
   ],
   "source": [
    "tr['worms']['value'].shape"
   ]
  },
  {
   "cell_type": "code",
   "execution_count": 50,
   "metadata": {},
   "outputs": [],
   "source": [
    "worms = tr['worms']['value'].transpose(0, 2, 1, 3, 4)\n",
    "clips = jax.vmap(convert_to_clip, in_axes=(0, None))(worms, box_size)"
   ]
  },
  {
   "cell_type": "code",
   "execution_count": 52,
   "metadata": {},
   "outputs": [],
   "source": [
    "# save as npy\n",
    "np.save('worms_train_20k.npy', clips)"
   ]
  },
  {
   "cell_type": "code",
   "execution_count": 61,
   "metadata": {},
   "outputs": [
    {
     "data": {
      "text/plain": [
       "<matplotlib.collections.PathCollection at 0x7c05fc241d60>"
      ]
     },
     "execution_count": 61,
     "metadata": {},
     "output_type": "execute_result"
    },
    {
     "data": {
      "image/png": "[encoded data removed]",
      "text/plain": [
       "<Figure size 640x480 with 1 Axes>"
      ]
     },
     "metadata": {},
     "output_type": "display_data"
    }
   ],
   "source": [
    "i = 10\n",
    "frame = 7\n",
    "plt.imshow(clips[i][frame])\n",
    "# plot points at means\n",
    "# plt.scatter(tr['x0']['value'], tr['y0']['value'])\n",
    "plt.scatter(worms.mean(axis=-2)[i, frame, ..., 0], worms.mean(axis=-2)[i, frame, ..., 1], c='r')\n",
    "# plt.scatter(tr['worm']['value'].mean(axis=-2)[0, ..., 0], tr['worm']['value'].mean(axis=-2)[0, ..., 1], c='r')"
   ]
  },
  {
   "cell_type": "code",
   "execution_count": null,
   "metadata": {},
   "outputs": [],
   "source": []
  }
 ],
 "metadata": {
  "kernelspec": {
   "display_name": "Python 3",
   "language": "python",
   "name": "python3"
  },
  "language_info": {
   "codemirror_mode": {
    "name": "ipython",
    "version": 3
   },
   "file_extension": ".py",
   "mimetype": "text/x-python",
   "name": "python",
   "nbconvert_exporter": "python",
   "pygments_lexer": "ipython3",
   "version": "3.12.3"
  }
 },
 "nbformat": 4,
 "nbformat_minor": 2
}
