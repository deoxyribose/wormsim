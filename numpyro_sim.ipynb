{
 "cells": [
  {
   "cell_type": "code",
   "execution_count": 1,
   "metadata": {},
   "outputs": [
    {
     "name": "stderr",
     "output_type": "stream",
     "text": [
      "/home/frans/.local/lib/python3.12/site-packages/tqdm/auto.py:21: TqdmWarning: IProgress not found. Please update jupyter and ipywidgets. See https://ipywidgets.readthedocs.io/en/stable/user_install.html\n",
      "  from .autonotebook import tqdm as notebook_tqdm\n"
     ]
    }
   ],
   "source": [
    "import numpyro\n",
    "import numpyro.distributions as dist\n",
    "from numpyro.handlers import seed, trace\n",
    "import jax\n",
    "import jax.numpy as jnp\n",
    "from jax import random\n",
    "from jax.scipy.integrate import trapezoid\n",
    "import numpy as np\n",
    "\n",
    "from sim_utils import *\n",
    "from clip import *\n",
    "import matplotlib.pylab as plt"
   ]
  },
  {
   "cell_type": "code",
   "execution_count": 2,
   "metadata": {},
   "outputs": [],
   "source": [
    "def vmapped_sim_fn(sim_fn, params):\n",
    "    # print(jax.tree_map(lambda x: x.shape if hasattr(x, 'shape') else None, params))\n",
    "    if params['L'].ndim == 1:\n",
    "        return jax.vmap(sim_fn, in_axes=0, out_axes=0)(params)\n",
    "    else:\n",
    "        return jax.vmap(partial(vmapped_sim_fn, sim_fn), in_axes=0, out_axes=0)(params)"
   ]
  },
  {
   "cell_type": "code",
   "execution_count": 301,
   "metadata": {},
   "outputs": [],
   "source": [
    "def sim_worms_orig(nworms, batch_size, n_frames):\n",
    "    duration = 0.55\n",
    "    snapshots = 10\n",
    "    kpoints = 6\n",
    "    box_size = 64\n",
    "    with numpyro.plate('batch', batch_size, dim=-2):\n",
    "        with numpyro.plate('nworms', nworms, dim=-1):\n",
    "            # L = numpyro.sample('L', dist.Uniform(30, 45))\n",
    "            L = numpyro.sample('L', dist.Uniform(10, 15))\n",
    "            A = numpyro.sample('A', dist.Normal(1, 0.1))\n",
    "            T = numpyro.sample('T', dist.Normal(0.8, 0.1))\n",
    "            kw = numpyro.sample('kw', dist.Uniform(0, 2 * jnp.pi))\n",
    "            ku = numpyro.sample('ku', dist.Normal(jnp.pi, 1))\n",
    "            \n",
    "            inc = numpyro.sample('inc', dist.Uniform(0, 2 * jnp.pi))\n",
    "            dr = numpyro.sample('dr', dist.Uniform(0.2, 0.8))\n",
    "            phase_1 = numpyro.sample('phase_1', dist.Uniform(0, 2 * jnp.pi))\n",
    "            phase_2 = numpyro.sample('phase_2', dist.Uniform(0, 2 * jnp.pi))\n",
    "            phase_3 = numpyro.sample('phase_3', dist.Normal(0, 0.1))\n",
    "            alpha = numpyro.sample('alpha', dist.Normal(4, 4))\n",
    "\n",
    "            alpha = jnp.abs(alpha + 1.0)\n",
    "            half_box = box_size // 2\n",
    "            x0 = numpyro.sample('x0', dist.Uniform(-1, 1))\n",
    "            y0 = numpyro.sample('y0', dist.Uniform(-1, 1))\n",
    "            x0 = x0 * half_box\n",
    "            y0 = y0 * half_box\n",
    "\n",
    "            params = {'L': L, 'A': A, 'T': T, 'kw': kw, 'ku': ku, 'inc': inc, 'dr': dr, 'phase_1': phase_1, 'phase_2': phase_2, 'phase_3': phase_3, 'alpha': alpha, 'x0': x0, 'y0': y0}\n",
    "\n",
    "            sim_fn = partial(\n",
    "                worm_simulation,\n",
    "                duration=duration,\n",
    "                snapshots=snapshots,\n",
    "                kpoints=kpoints,\n",
    "            )\n",
    "\n",
    "            with numpyro.plate('n_frames', n_frames):\n",
    "                worms = vmapped_sim_fn(sim_fn, params)\n",
    "                worms = worms + half_box\n",
    "                # subtract mean and divide by standard deviation\n",
    "                # worms = (worms - jnp.mean(worms, axis=(-5), keepdims=True)) / jnp.std(worms, axis=(-5), keepdims=True)\n",
    "                numpyro.deterministic('worms', worms)\n",
    "    return worms, x0, y0"
   ]
  },
  {
   "cell_type": "code",
   "execution_count": 344,
   "metadata": {},
   "outputs": [],
   "source": [
    "def sim_worms(nworms, batch_size, n_frames):\n",
    "    duration = 0.55\n",
    "    snapshots = 10\n",
    "    kpoints = 6\n",
    "    box_size = 64\n",
    "    with numpyro.plate('batch', batch_size, dim=-2):\n",
    "        with numpyro.plate('nworms', nworms, dim=-1):\n",
    "            # L = numpyro.sample('L', dist.Uniform(30, 45))\n",
    "            L = numpyro.sample('L', dist.Uniform(10, 15))\n",
    "            A = numpyro.sample('A', dist.Normal(1, 0.1))\n",
    "            T = numpyro.sample('T', dist.Normal(0.8, 0.1))\n",
    "            kw = numpyro.sample('kw', dist.Uniform(0, 2 * jnp.pi))\n",
    "            ku = numpyro.sample('ku', dist.Normal(jnp.pi, 1))\n",
    "            \n",
    "            inc = numpyro.sample('inc', dist.Uniform(0, 2 * jnp.pi))\n",
    "            dr = numpyro.sample('dr', dist.Uniform(0.2, 0.8))\n",
    "            phase_1 = numpyro.sample('phase_1', dist.Uniform(0, 2 * jnp.pi))\n",
    "            phase_2 = numpyro.sample('phase_2', dist.Uniform(0, 2 * jnp.pi))\n",
    "            phase_3 = numpyro.sample('phase_3', dist.Normal(0, 0.1))\n",
    "            alpha = numpyro.sample('alpha', dist.Normal(4, 4))\n",
    "\n",
    "            alpha = jnp.abs(alpha + 1.0)\n",
    "            half_box = box_size // 2\n",
    "            x0 = numpyro.sample('x0', dist.Uniform(-1, 1))\n",
    "            y0 = numpyro.sample('y0', dist.Uniform(-1, 1))\n",
    "            # x0 = x0 * half_box\n",
    "            # y0 = y0 * half_box\n",
    "\n",
    "            params = {'L': L, 'A': A, 'T': T, 'kw': kw, 'ku': ku, 'inc': inc, 'dr': dr, 'phase_1': phase_1, 'phase_2': phase_2, 'phase_3': phase_3, 'alpha': alpha, 'x0': x0, 'y0': y0}\n",
    "\n",
    "            sim_fn = partial(\n",
    "                worm_simulation,\n",
    "                duration=duration,\n",
    "                snapshots=snapshots,\n",
    "                kpoints=kpoints,\n",
    "            )\n",
    "\n",
    "            with numpyro.plate('n_frames', n_frames):\n",
    "                worms = vmapped_sim_fn(sim_fn, params)\n",
    "                print(worms.shape)\n",
    "                print(L.shape)\n",
    "                print(x0.shape)\n",
    "                worms = worms - jnp.array([x0, y0]).reshape(2, 2, 1, 1, 2)\n",
    "                # worms = worms / L.reshape(2, 2, 1, 1, 1)\n",
    "                worms = worms / 12.5\n",
    "                # worms = worms + half_box\n",
    "                # subtract mean and divide by standard deviation\n",
    "                # worms = (worms - jnp.mean(worms, axis=(-5), keepdims=True)) / jnp.std(worms, axis=(-5), keepdims=True)\n",
    "                numpyro.deterministic('worms', worms)\n",
    "    return worms, x0, y0"
   ]
  },
  {
   "cell_type": "code",
   "execution_count": 345,
   "metadata": {},
   "outputs": [],
   "source": [
    "def scale_and_translate(image, where, scale, out_size):\n",
    "  translate = abs(image.shape[-1] - out_size) * (where[..., ::-1] + 1) / 2\n",
    "  return jax.image.scale_and_translate(\n",
    "      image,\n",
    "      (out_size, out_size),\n",
    "      (0, 1),\n",
    "      scale * jnp.ones(2),\n",
    "      translate,\n",
    "      method=\"cubic\",\n",
    "      antialias=False,\n",
    "  )"
   ]
  },
  {
   "cell_type": "code",
   "execution_count": 374,
   "metadata": {},
   "outputs": [],
   "source": [
    "def embed_worms(digits, z_where, scale, frame_size=64):\n",
    "  # digits:  (digits).      .digit_size.digit_size\n",
    "  # z_where: (digits).(time).2\n",
    "  # out:     (digits).(time).frame_size.frame_size\n",
    "  if digits.ndim == 2 and z_where.ndim == 1:\n",
    "    return scale_and_translate(digits, z_where, scale, out_size=frame_size)\n",
    "  elif digits.ndim == 2 and z_where.ndim == 2:\n",
    "    in_axes = (None, 0, 0)\n",
    "  elif digits.ndim >= z_where.ndim:\n",
    "    in_axes = (0, 0, 0)\n",
    "  else:\n",
    "    in_axes = (None, 0, 0)\n",
    "  # print(\"in_axes\", in_axes)\n",
    "  # print(digits.shape)\n",
    "  # print(z_where.shape)\n",
    "  return jax.vmap(partial(embed_worms, frame_size=frame_size), in_axes)(\n",
    "      digits, z_where, scale\n",
    "  )"
   ]
  },
  {
   "cell_type": "code",
   "execution_count": 347,
   "metadata": {},
   "outputs": [],
   "source": [
    "# generate a size x size image of  circle\n",
    "def circle_image(size):\n",
    "    x = jnp.linspace(-1, 1, size)\n",
    "    y = jnp.linspace(-1, 1, size)\n",
    "    xx, yy = jnp.meshgrid(x, y)\n",
    "    circle = jnp.exp(-(xx ** 2 + yy ** 2)/0.4)\n",
    "    circle /= circle.max()\n",
    "    circle += jnp.abs(circle.min())\n",
    "    return circle"
   ]
  },
  {
   "cell_type": "code",
   "execution_count": 348,
   "metadata": {},
   "outputs": [
    {
     "data": {
      "text/plain": [
       "<matplotlib.colorbar.Colorbar at 0x775395b75b80>"
      ]
     },
     "execution_count": 348,
     "metadata": {},
     "output_type": "execute_result"
    },
    {
     "data": {
      "image/png": "[encoded data removed]",
      "text/plain": [
       "<Figure size 640x480 with 2 Axes>"
      ]
     },
     "metadata": {},
     "output_type": "display_data"
    }
   ],
   "source": [
    "plt.figure()\n",
    "plt.imshow(circle_image(14), vmin=0, vmax=2)\n",
    "plt.colorbar()"
   ]
  },
  {
   "cell_type": "code",
   "execution_count": 349,
   "metadata": {},
   "outputs": [
    {
     "data": {
      "text/plain": [
       "(6, 14, 14)"
      ]
     },
     "execution_count": 349,
     "metadata": {},
     "output_type": "execute_result"
    }
   ],
   "source": [
    "foo.shape"
   ]
  },
  {
   "cell_type": "code",
   "execution_count": 350,
   "metadata": {},
   "outputs": [
    {
     "name": "stdout",
     "output_type": "stream",
     "text": [
      "(2, 2, 10, 6, 2)\n",
      "(2, 2)\n",
      "(2, 2)\n"
     ]
    }
   ],
   "source": [
    "# seed and trace\n",
    "key, nworms, box_size = random.PRNGKey(0), 2, 64\n",
    "\n",
    "\n",
    "seeded_model = seed(sim_worms, key)\n",
    "tr = trace(seeded_model).get_trace(nworms=nworms, batch_size=2, n_frames=10)"
   ]
  },
  {
   "cell_type": "code",
   "execution_count": 351,
   "metadata": {},
   "outputs": [
    {
     "data": {
      "text/plain": [
       "(2, 2, 10, 6, 2)"
      ]
     },
     "execution_count": 351,
     "metadata": {},
     "output_type": "execute_result"
    }
   ],
   "source": [
    "tr[\"worms\"][\"value\"].shape"
   ]
  },
  {
   "cell_type": "code",
   "execution_count": 352,
   "metadata": {},
   "outputs": [
    {
     "data": {
      "text/plain": [
       "Array([[-0.36054087, -0.4437638 ],\n",
       "       [-0.2578748 , -0.28211683],\n",
       "       [-0.10665018, -0.16463837],\n",
       "       [ 0.06763603, -0.08530124],\n",
       "       [ 0.23744734,  0.00320981],\n",
       "       [ 0.36871338,  0.14263459]], dtype=float32)"
      ]
     },
     "execution_count": 352,
     "metadata": {},
     "output_type": "execute_result"
    }
   ],
   "source": [
    "tr[\"worms\"][\"value\"][0, 0, 0]"
   ]
  },
  {
   "cell_type": "code",
   "execution_count": 396,
   "metadata": {},
   "outputs": [],
   "source": [
    "def make_worm_frames(worms):\n",
    "    # make worm widths for all knots\n",
    "    R = 0.8\n",
    "    K = 6\n",
    "    i = jnp.arange(K)\n",
    "    r = R * jnp.abs(jnp.sin(jnp.arccos((i - K / 2) / (K / 2 + 0.2))))\n",
    "    r = jnp.tile(r, (worms.shape[:-2] + (1,)))\n",
    "\n",
    "    # draw the circles\n",
    "    circles = embed_digits(circle_image(4), worms * 2, r, frame_size=14)\n",
    "    # overlay the circles\n",
    "    p = dist.util.clamp_probs(circles.mean(-3))\n",
    "    return p\n"
   ]
  },
  {
   "cell_type": "code",
   "execution_count": 395,
   "metadata": {},
   "outputs": [
    {
     "data": {
      "text/plain": [
       "(2, 2, 10, 14, 14)"
      ]
     },
     "execution_count": 395,
     "metadata": {},
     "output_type": "execute_result"
    }
   ],
   "source": [
    "p.shape"
   ]
  },
  {
   "cell_type": "code",
   "execution_count": 408,
   "metadata": {},
   "outputs": [
    {
     "data": {
      "text/plain": [
       "<matplotlib.image.AxesImage at 0x775394599040>"
      ]
     },
     "execution_count": 408,
     "metadata": {},
     "output_type": "execute_result"
    },
    {
     "data": {
      "image/png": "[encoded data removed]",
      "text/plain": [
       "<Figure size 640x480 with 1 Axes>"
      ]
     },
     "metadata": {},
     "output_type": "display_data"
    }
   ],
   "source": [
    "p = make_worm_frames(tr[\"worms\"][\"value\"])\n",
    "plt.figure()\n",
    "plt.imshow(p[0, 1, 2])"
   ]
  },
  {
   "cell_type": "code",
   "execution_count": 302,
   "metadata": {},
   "outputs": [],
   "source": [
    "seeded_model_orig = seed(sim_worms_orig, key)\n",
    "tr_orig = trace(seeded_model_orig).get_trace(nworms=nworms, batch_size=2, n_frames=10)\n",
    "\n",
    "worms = tr_orig['worms']['value'].transpose(0, 2, 1, 3, 4)\n",
    "clips = jax.vmap(convert_to_clip, in_axes=(0, None))(worms, box_size)"
   ]
  },
  {
   "cell_type": "code",
   "execution_count": 303,
   "metadata": {},
   "outputs": [
    {
     "data": {
      "text/plain": [
       "(2, 10, 64, 64)"
      ]
     },
     "execution_count": 303,
     "metadata": {},
     "output_type": "execute_result"
    }
   ],
   "source": [
    "clips.shape"
   ]
  },
  {
   "cell_type": "code",
   "execution_count": 312,
   "metadata": {},
   "outputs": [
    {
     "data": {
      "text/plain": [
       "<matplotlib.image.AxesImage at 0x7753a39aa840>"
      ]
     },
     "execution_count": 312,
     "metadata": {},
     "output_type": "execute_result"
    },
    {
     "data": {
      "image/png": "[encoded data removed]",
      "text/plain": [
       "<Figure size 640x480 with 1 Axes>"
      ]
     },
     "metadata": {},
     "output_type": "display_data"
    },
    {
     "data": {
      "image/png": "[encoded data removed]",
      "text/plain": [
       "<Figure size 640x480 with 1 Axes>"
      ]
     },
     "metadata": {},
     "output_type": "display_data"
    }
   ],
   "source": [
    "i = 0\n",
    "frame = 4\n",
    "plt.imshow(clips[i][frame][7:(7+14), 46:(46+14)])\n",
    "plt.figure()\n",
    "plt.imshow(clips[i][frame])\n",
    "# plot points at means\n",
    "# plt.scatter(tr['x0']['value'], tr['y0']['value'])\n",
    "# plt.scatter(worms.mean(axis=-2)[i, frame, ..., 0], worms.mean(axis=-2)[i, frame, ..., 1], c='r')\n",
    "# plt.scatter(tr['worm']['value'].mean(axis=-2)[0, ..., 0], tr['worm']['value'].mean(axis=-2)[0, ..., 1], c='r')"
   ]
  },
  {
   "cell_type": "code",
   "execution_count": 45,
   "metadata": {},
   "outputs": [],
   "source": [
    "# seed and trace\n",
    "key, nworms, box_size = random.PRNGKey(0), 2, 64\n",
    "\n",
    "\n",
    "seeded_model = seed(sim_worms, key)\n",
    "tr = trace(seeded_model).get_trace(nworms, 20_000, 10)"
   ]
  },
  {
   "cell_type": "code",
   "execution_count": 46,
   "metadata": {},
   "outputs": [
    {
     "data": {
      "text/plain": [
       "(20000, 2, 10, 6, 2)"
      ]
     },
     "execution_count": 46,
     "metadata": {},
     "output_type": "execute_result"
    }
   ],
   "source": [
    "tr['worms']['value'].shape"
   ]
  },
  {
   "cell_type": "code",
   "execution_count": 50,
   "metadata": {},
   "outputs": [],
   "source": [
    "worms = tr['worms']['value'].transpose(0, 2, 1, 3, 4)\n",
    "clips = jax.vmap(convert_to_clip, in_axes=(0, None))(worms, box_size)"
   ]
  },
  {
   "cell_type": "code",
   "execution_count": 52,
   "metadata": {},
   "outputs": [],
   "source": [
    "# save as npy\n",
    "np.save('worms_train_20k.npy', clips)"
   ]
  },
  {
   "cell_type": "code",
   "execution_count": 61,
   "metadata": {},
   "outputs": [
    {
     "data": {
      "text/plain": [
       "<matplotlib.collections.PathCollection at 0x7c05fc241d60>"
      ]
     },
     "execution_count": 61,
     "metadata": {},
     "output_type": "execute_result"
    },
    {
     "data": {
      "image/png": "[encoded data removed]",
      "text/plain": [
       "<Figure size 640x480 with 1 Axes>"
      ]
     },
     "metadata": {},
     "output_type": "display_data"
    }
   ],
   "source": [
    "i = 10\n",
    "frame = 7\n",
    "plt.imshow(clips[i][frame])\n",
    "# plot points at means\n",
    "# plt.scatter(tr['x0']['value'], tr['y0']['value'])\n",
    "plt.scatter(worms.mean(axis=-2)[i, frame, ..., 0], worms.mean(axis=-2)[i, frame, ..., 1], c='r')\n",
    "# plt.scatter(tr['worm']['value'].mean(axis=-2)[0, ..., 0], tr['worm']['value'].mean(axis=-2)[0, ..., 1], c='r')"
   ]
  },
  {
   "cell_type": "code",
   "execution_count": null,
   "metadata": {},
   "outputs": [],
   "source": []
  }
 ],
 "metadata": {
  "kernelspec": {
   "display_name": "Python 3",
   "language": "python",
   "name": "python3"
  },
  "language_info": {
   "codemirror_mode": {
    "name": "ipython",
    "version": 3
   },
   "file_extension": ".py",
   "mimetype": "text/x-python",
   "name": "python",
   "nbconvert_exporter": "python",
   "pygments_lexer": "ipython3",
   "version": "3.12.3"
  }
 },
 "nbformat": 4,
 "nbformat_minor": 2
}
