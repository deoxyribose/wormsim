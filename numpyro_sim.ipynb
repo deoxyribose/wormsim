{
 "cells": [
  {
   "cell_type": "code",
   "execution_count": 8,
   "metadata": {},
   "outputs": [],
   "source": [
    "import numpyro\n",
    "import numpyro.distributions as dist\n",
    "from numpyro.handlers import seed, trace\n",
    "import jax\n",
    "import jax.numpy as jnp\n",
    "from jax import random\n",
    "from jax.scipy.integrate import trapezoid\n",
    "import numpy as np\n",
    "\n",
    "from sim_utils import *\n",
    "from clip import *\n",
    "import matplotlib.pylab as plt"
   ]
  },
  {
   "cell_type": "code",
   "execution_count": 2,
   "metadata": {},
   "outputs": [],
   "source": [
    "\n",
    "def sample(nworms):\n",
    "    with numpyro.plate('nworms', nworms):\n",
    "        # L = numpyro.sample('L', dist.Uniform(30, 45))\n",
    "        L = numpyro.sample('L', dist.Uniform(10, 15))\n",
    "        A = numpyro.sample('A', dist.Normal(1, 0.1))\n",
    "        T = numpyro.sample('T', dist.Normal(0.8, 0.1))\n",
    "        kw = numpyro.sample('kw', dist.Uniform(0, 2 * jnp.pi))\n",
    "        ku = numpyro.sample('ku', dist.Normal(jnp.pi, 1))\n",
    "        \n",
    "        inc = numpyro.sample('inc', dist.Uniform(0, 2 * jnp.pi))\n",
    "        dr = numpyro.sample('dr', dist.Uniform(0.2, 0.8))\n",
    "        phase_1 = numpyro.sample('phase_1', dist.Uniform(0, 2 * jnp.pi))\n",
    "        phase_2 = numpyro.sample('phase_2', dist.Uniform(0, 2 * jnp.pi))\n",
    "        phase_3 = numpyro.sample('phase_3', dist.Normal(0, 0.1))\n",
    "        alpha = numpyro.sample('alpha', dist.Normal(4, 4))\n",
    "\n",
    "        alpha = jnp.abs(alpha + 1.0)\n",
    "        half_box = box_size // 2\n",
    "        x0 = numpyro.sample('x0', dist.Uniform(-half_box, half_box))\n",
    "        y0 = numpyro.sample('y0', dist.Uniform(-half_box, half_box))\n",
    "\n",
    "        params = {'L': L, 'A': A, 'T': T, 'kw': kw, 'ku': ku, 'inc': inc, 'dr': dr, 'phase_1': phase_1, 'phase_2': phase_2, 'phase_3': phase_3, 'alpha': alpha, 'x0': x0, 'y0': y0}\n",
    "        duration = 0.55\n",
    "        snapshots = 10\n",
    "        kpoints = 6\n",
    "\n",
    "        sim_fn = partial(\n",
    "            worm_simulation,\n",
    "            duration=duration,\n",
    "            snapshots=snapshots,\n",
    "            kpoints=kpoints,\n",
    "        )\n",
    "        worm = jax.vmap(sim_fn, out_axes=1)(params)\n",
    "        worm = worm + box_size // 2\n",
    "        numpyro.deterministic('worm', worm)\n"
   ]
  },
  {
   "cell_type": "code",
   "execution_count": 5,
   "metadata": {},
   "outputs": [],
   "source": [
    "# seed and trace\n",
    "key, nworms, box_size = random.PRNGKey(0), 2, 64\n",
    "\n",
    "seeded_model = seed(sample, key)\n",
    "trs = []\n",
    "for i in range(12):\n",
    "    tr = trace(seeded_model).get_trace(nworms)\n",
    "    trs.append(tr)"
   ]
  },
  {
   "cell_type": "code",
   "execution_count": 4,
   "metadata": {},
   "outputs": [
    {
     "data": {
      "text/plain": [
       "Array([[[[14.014416 , 37.77558  ],\n",
       "         [13.685234 , 39.897324 ],\n",
       "         [12.446371 , 41.650993 ],\n",
       "         [10.312077 , 41.885372 ],\n",
       "         [ 8.2374935, 41.33197  ],\n",
       "         [ 6.2057533, 42.026363 ]],\n",
       "\n",
       "        [[43.033928 , 58.29866  ],\n",
       "         [41.514317 , 59.465607 ],\n",
       "         [39.905575 , 60.506233 ],\n",
       "         [39.11317  , 62.25067  ],\n",
       "         [39.609703 , 64.1012   ],\n",
       "         [40.348877 , 65.86884  ]]],\n",
       "\n",
       "\n",
       "       [[[12.940207 , 38.907017 ],\n",
       "         [13.750624 , 40.895325 ],\n",
       "         [12.334057 , 42.508858 ],\n",
       "         [10.390612 , 41.596077 ],\n",
       "         [ 8.64884  , 40.340534 ],\n",
       "         [ 6.778595 , 41.39521  ]],\n",
       "\n",
       "        [[43.16144  , 58.227562 ],\n",
       "         [41.6985   , 59.464806 ],\n",
       "         [40.03902  , 60.422455 ],\n",
       "         [39.261078 , 62.17339  ],\n",
       "         [39.54255  , 64.06858  ],\n",
       "         [39.541687 , 65.98456  ]]],\n",
       "\n",
       "\n",
       "       [[[13.133179 , 39.874645 ],\n",
       "         [13.881973 , 41.88697  ],\n",
       "         [11.905695 , 42.726303 ],\n",
       "         [10.488333 , 41.11347  ],\n",
       "         [ 8.713448 , 39.905197 ],\n",
       "         [ 7.196474 , 41.424717 ]],\n",
       "\n",
       "        [[43.021587 , 58.02684  ],\n",
       "         [41.605022 , 59.316925 ],\n",
       "         [40.15991  , 60.574944 ],\n",
       "         [39.662514 , 62.425232 ],\n",
       "         [39.46065  , 64.33054  ],\n",
       "         [38.27318  , 65.83416  ]]],\n",
       "\n",
       "\n",
       "       [[[14.442158 , 40.967834 ],\n",
       "         [13.766144 , 43.00576  ],\n",
       "         [11.673706 , 42.52425  ],\n",
       "         [10.38899  , 40.803883 ],\n",
       "         [ 8.290916 , 40.347565 ],\n",
       "         [ 6.9960823, 42.060326 ]],\n",
       "\n",
       "        [[42.452374 , 58.061913 ],\n",
       "         [41.192734 , 59.505615 ],\n",
       "         [40.36535  , 61.233734 ],\n",
       "         [40.172096 , 63.13994  ],\n",
       "         [39.176205 , 64.776764 ],\n",
       "         [37.274696 , 65.01179  ]]],\n",
       "\n",
       "\n",
       "       [[[15.070606 , 42.360607 ],\n",
       "         [12.997488 , 42.91947  ],\n",
       "         [11.297186 , 41.608322 ],\n",
       "         [ 9.440159 , 40.53055  ],\n",
       "         [ 7.4819202, 41.411148 ],\n",
       "         [ 6.10758  , 43.060795 ]],\n",
       "\n",
       "        [[41.547897 , 58.52121  ],\n",
       "         [40.663094 , 60.220646 ],\n",
       "         [40.695587 , 62.136345 ],\n",
       "         [40.551907 , 64.046936 ],\n",
       "         [38.864628 , 64.95471  ],\n",
       "         [37.15798  , 64.08389  ]]],\n",
       "\n",
       "\n",
       "       [[[13.8603115, 42.779266 ],\n",
       "         [12.109556 , 41.536285 ],\n",
       "         [10.438496 , 40.188057 ],\n",
       "         [ 8.343359 , 40.657684 ],\n",
       "         [ 7.294771 , 42.531345 ],\n",
       "         [ 5.624876 , 43.881012 ]],\n",
       "\n",
       "        [[40.7077   , 58.90356  ],\n",
       "         [40.399284 , 60.79455  ],\n",
       "         [41.06801  , 62.59004  ],\n",
       "         [40.707523 , 64.471794 ],\n",
       "         [38.80691  , 64.71396  ],\n",
       "         [37.20261  , 63.666492 ]]],\n",
       "\n",
       "\n",
       "       [[[12.440338 , 42.06487  ],\n",
       "         [11.519516 , 40.125217 ],\n",
       "         [ 9.523876 , 39.33303  ],\n",
       "         [ 8.263229 , 41.071106 ],\n",
       "         [ 7.9661674, 43.197586 ],\n",
       "         [ 6.0075493, 44.077335 ]],\n",
       "\n",
       "        [[40.584465 , 58.81387  ],\n",
       "         [40.626945 , 60.729378 ],\n",
       "         [41.343544 , 62.506298 ],\n",
       "         [40.600864 , 64.27248  ],\n",
       "         [38.69205  , 64.438    ],\n",
       "         [36.803215 , 64.11664  ]]],\n",
       "\n",
       "\n",
       "       [[[11.934742 , 41.248356 ],\n",
       "         [11.113705 , 39.264412 ],\n",
       "         [ 8.967632 , 39.33163  ],\n",
       "         [ 8.505798 , 41.428497 ],\n",
       "         [ 8.296633 , 43.56541  ],\n",
       "         [ 6.2214584, 44.116596 ]],\n",
       "\n",
       "        [[41.384296 , 58.31553  ],\n",
       "         [41.185318 , 60.221146 ],\n",
       "         [41.340927 , 62.130795 ],\n",
       "         [40.29168  , 63.733932 ],\n",
       "         [38.524574 , 64.474396 ],\n",
       "         [36.891483 , 65.476395 ]]],\n",
       "\n",
       "\n",
       "       [[[12.289907 , 40.300457 ],\n",
       "         [10.84786  , 38.709656 ],\n",
       "         [ 8.852781 , 39.50326  ],\n",
       "         [ 8.500429 , 41.621277 ],\n",
       "         [ 7.971039 , 43.702118 ],\n",
       "         [ 5.925699 , 44.355366 ]],\n",
       "\n",
       "        [[42.50489  , 58.160027 ],\n",
       "         [41.564312 , 59.829243 ],\n",
       "         [40.88317  , 61.620056 ],\n",
       "         [39.78927  , 63.19306  ],\n",
       "         [38.64845  , 64.732376 ],\n",
       "         [38.090557 , 66.56534  ]]],\n",
       "\n",
       "\n",
       "       [[[12.104321 , 38.954453 ],\n",
       "         [10.045565 , 38.344803 ],\n",
       "         [ 8.626781 , 39.956387 ],\n",
       "         [ 8.354296 , 42.08615  ],\n",
       "         [ 7.207325 , 43.901257 ],\n",
       "         [ 5.097254 , 44.29843  ]],\n",
       "\n",
       "        [[42.547485 , 58.511375 ],\n",
       "         [41.441605 , 60.07598  ],\n",
       "         [40.34067  , 61.644073 ],\n",
       "         [39.153027 , 63.14756  ],\n",
       "         [38.646805 , 64.99545  ],\n",
       "         [39.27082  , 66.80696  ]]]], dtype=float32)"
      ]
     },
     "execution_count": 4,
     "metadata": {},
     "output_type": "execute_result"
    }
   ],
   "source": [
    "tr['worm']['value']"
   ]
  },
  {
   "cell_type": "code",
   "execution_count": 6,
   "metadata": {},
   "outputs": [],
   "source": [
    "# clip = convert_to_clip(tr['worm']['value'], box_size)\n",
    "clips = [convert_to_clip(tr['worm']['value'], box_size) for tr in trs]"
   ]
  },
  {
   "cell_type": "code",
   "execution_count": 11,
   "metadata": {},
   "outputs": [],
   "source": [
    "# save as npy\n",
    "np.save('worms_train.npy', np.stack(clips))"
   ]
  },
  {
   "cell_type": "code",
   "execution_count": 27,
   "metadata": {},
   "outputs": [
    {
     "data": {
      "text/plain": [
       "(10, 4, 6, 2)"
      ]
     },
     "execution_count": 27,
     "metadata": {},
     "output_type": "execute_result"
    }
   ],
   "source": [
    "tr['worm']['value'].shape"
   ]
  },
  {
   "cell_type": "code",
   "execution_count": 40,
   "metadata": {},
   "outputs": [
    {
     "data": {
      "text/plain": [
       "<matplotlib.collections.PathCollection at 0x7c48b5295310>"
      ]
     },
     "execution_count": 40,
     "metadata": {},
     "output_type": "execute_result"
    },
    {
     "data": {
      "image/png": "[encoded data removed]",
      "text/plain": [
       "<Figure size 640x480 with 1 Axes>"
      ]
     },
     "metadata": {},
     "output_type": "display_data"
    }
   ],
   "source": [
    "i = 9\n",
    "plt.imshow(clip[i])\n",
    "# plot points at means\n",
    "# plt.scatter(tr['x0']['value'], tr['y0']['value'])\n",
    "plt.scatter(tr['worm']['value'].mean(axis=-2)[i, ..., 0], tr['worm']['value'].mean(axis=-2)[i, ..., 1], c='r')\n",
    "# plt.scatter(tr['worm']['value'].mean(axis=-2)[0, ..., 0], tr['worm']['value'].mean(axis=-2)[0, ..., 1], c='r')"
   ]
  },
  {
   "cell_type": "code",
   "execution_count": null,
   "metadata": {},
   "outputs": [],
   "source": []
  }
 ],
 "metadata": {
  "kernelspec": {
   "display_name": "Python 3",
   "language": "python",
   "name": "python3"
  },
  "language_info": {
   "codemirror_mode": {
    "name": "ipython",
    "version": 3
   },
   "file_extension": ".py",
   "mimetype": "text/x-python",
   "name": "python",
   "nbconvert_exporter": "python",
   "pygments_lexer": "ipython3",
   "version": "3.12.3"
  }
 },
 "nbformat": 4,
 "nbformat_minor": 2
}
