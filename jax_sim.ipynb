{
 "cells": [
  {
   "cell_type": "code",
   "execution_count": 1,
   "metadata": {},
   "outputs": [],
   "source": [
    "import jax\n",
    "import jax.numpy as jnp\n",
    "from jax import random\n",
    "from jax.scipy.integrate import trapezoid\n",
    "\n",
    "from sim_utils import *\n",
    "from clip import *\n",
    "import matplotlib.pylab as plt"
   ]
  },
  {
   "cell_type": "code",
   "execution_count": 2,
   "metadata": {},
   "outputs": [
    {
     "name": "stderr",
     "output_type": "stream",
     "text": [
      "An NVIDIA GPU may be present on this machine, but a CUDA-enabled jaxlib is not installed. Falling back to cpu.\n"
     ]
    }
   ],
   "source": [
    "nworms = 4\n",
    "box_size = 128\n",
    "\n",
    "params = sampling_params(random.PRNGKey(0), nworms, box_size)"
   ]
  },
  {
   "cell_type": "code",
   "execution_count": 3,
   "metadata": {},
   "outputs": [
    {
     "data": {
      "text/plain": [
       "{'L': Array([43.086216, 36.645313, 34.156208, 41.798923], dtype=float32),\n",
       " 'A': Array([0.99339277, 1.0792781 , 1.1178004 , 0.9703278 ], dtype=float32),\n",
       " 'T': Array([0.57948554, 0.6586126 , 0.74894655, 0.7826692 ], dtype=float32),\n",
       " 'kw': Array([4.14773  , 5.6099415, 2.843915 , 3.4405828], dtype=float32),\n",
       " 'ku': Array([2.2803974, 3.0517597, 4.7610183, 3.3255749], dtype=float32),\n",
       " 'inc': Array([0.85100734, 1.4250113 , 1.0710055 , 4.3312488 ], dtype=float32),\n",
       " 'dr': Array([0.44553643, 0.36233962, 0.6502103 , 0.31997785], dtype=float32),\n",
       " 'phase_1': Array([0.14201532, 5.376521  , 0.1882602 , 5.503852  ], dtype=float32),\n",
       " 'phase_2': Array([4.529222  , 0.34904656, 6.171592  , 3.4905696 ], dtype=float32),\n",
       " 'phase_3': Array([ 0.00651327, -0.1851805 , -0.10317023,  0.05226613], dtype=float32),\n",
       " 'alpha': Array([8.258242 , 8.751446 , 3.5973513, 3.320312 ], dtype=float32),\n",
       " 'x0': Array([ 19.090149,  27.572372, -22.159218, -16.562302], dtype=float32),\n",
       " 'y0': Array([-20.645607,  27.143166, -29.634949,  24.086647], dtype=float32)}"
      ]
     },
     "execution_count": 3,
     "metadata": {},
     "output_type": "execute_result"
    }
   ],
   "source": [
    "params"
   ]
  },
  {
   "cell_type": "code",
   "execution_count": 4,
   "metadata": {},
   "outputs": [
    {
     "name": "stdout",
     "output_type": "stream",
     "text": [
      "L (4,)\n",
      "A (4,)\n",
      "T (4,)\n",
      "kw (4,)\n",
      "ku (4,)\n",
      "inc (4,)\n",
      "dr (4,)\n",
      "phase_1 (4,)\n",
      "phase_2 (4,)\n",
      "phase_3 (4,)\n",
      "alpha (4,)\n",
      "x0 (4,)\n",
      "y0 (4,)\n"
     ]
    }
   ],
   "source": [
    "# print all shapes in params\n",
    "for k, v in params.items():\n",
    "    print(k, v.shape)"
   ]
  },
  {
   "cell_type": "code",
   "execution_count": 5,
   "metadata": {},
   "outputs": [
    {
     "data": {
      "text/plain": [
       "(4,)"
      ]
     },
     "execution_count": 5,
     "metadata": {},
     "output_type": "execute_result"
    }
   ],
   "source": [
    "params['L'].shape"
   ]
  },
  {
   "cell_type": "code",
   "execution_count": 6,
   "metadata": {},
   "outputs": [
    {
     "name": "stdout",
     "output_type": "stream",
     "text": [
      "(12, 2)\n",
      "()\n"
     ]
    }
   ],
   "source": [
    "duration = 9.55\n",
    "# snapshots = 30\n",
    "# kpoints = 49\n",
    "snapshots = 10\n",
    "kpoints = 12\n",
    "# worm = worm_simulation(params, duration, snapshots, kpoints)\n",
    "sim_fn = partial(\n",
    "    worm_simulation,\n",
    "    duration=duration,\n",
    "    snapshots=snapshots,\n",
    "    kpoints=kpoints,\n",
    ")\n",
    "# disable jit\n",
    "with jax.disable_jit():\n",
    "    X = jax.vmap(sim_fn, out_axes=1)(params)\n",
    "    X = X + box_size // 2"
   ]
  },
  {
   "cell_type": "code",
   "execution_count": 7,
   "metadata": {},
   "outputs": [
    {
     "data": {
      "text/plain": [
       "(10, 4, 12, 2)"
      ]
     },
     "execution_count": 7,
     "metadata": {},
     "output_type": "execute_result"
    }
   ],
   "source": [
    "X.shape"
   ]
  },
  {
   "cell_type": "code",
   "execution_count": 8,
   "metadata": {},
   "outputs": [
    {
     "data": {
      "text/plain": [
       "Array([[ 43.948368  , -23.055866  ],\n",
       "       [ 43.53225   , -19.48954   ],\n",
       "       [ 43.531998  , -15.899025  ],\n",
       "       [ 44.069336  , -12.348942  ],\n",
       "       [ 45.16772   ,  -8.930553  ],\n",
       "       [ 46.752205  ,  -5.708561  ],\n",
       "       [ 48.677387  ,  -2.677803  ],\n",
       "       [ 50.763428  ,   0.24456787],\n",
       "       [ 52.817535  ,   3.1894722 ],\n",
       "       [ 54.63872   ,   6.28384   ],\n",
       "       [ 56.024513  ,   9.596149  ],\n",
       "       [ 56.798923  ,  13.102158  ]], dtype=float32)"
      ]
     },
     "execution_count": 8,
     "metadata": {},
     "output_type": "execute_result"
    }
   ],
   "source": [
    "X[0, 0, :, :]"
   ]
  },
  {
   "cell_type": "code",
   "execution_count": 9,
   "metadata": {},
   "outputs": [],
   "source": [
    "clip = convert_to_clip(X, box_size)"
   ]
  },
  {
   "cell_type": "code",
   "execution_count": 18,
   "metadata": {},
   "outputs": [
    {
     "data": {
      "text/plain": [
       "<matplotlib.image.AxesImage at 0x7f0c647b0390>"
      ]
     },
     "execution_count": 18,
     "metadata": {},
     "output_type": "execute_result"
    },
    {
     "data": {
      "image/png": "[encoded data removed]",
      "text/plain": [
       "<Figure size 640x480 with 1 Axes>"
      ]
     },
     "metadata": {},
     "output_type": "display_data"
    }
   ],
   "source": [
    "plt.imshow(clip[5])"
   ]
  },
  {
   "cell_type": "code",
   "execution_count": null,
   "metadata": {},
   "outputs": [],
   "source": []
  }
 ],
 "metadata": {
  "kernelspec": {
   "display_name": ".venv",
   "language": "python",
   "name": "python3"
  },
  "language_info": {
   "codemirror_mode": {
    "name": "ipython",
    "version": 3
   },
   "file_extension": ".py",
   "mimetype": "text/x-python",
   "name": "python",
   "nbconvert_exporter": "python",
   "pygments_lexer": "ipython3",
   "version": "3.11.4"
  }
 },
 "nbformat": 4,
 "nbformat_minor": 2
}
