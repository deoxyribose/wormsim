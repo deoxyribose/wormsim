{
  "cells": [
    {
      "cell_type": "markdown",
      "metadata": {},
      "source": [
        "\n",
        "# Simulator-based unsupervised detection and tracking of worms\n",
        "\n",
        "**References**\n",
        "\n",
        "    1. Wu, Hao, et al. Amortized population Gibbs samplers with neural\n",
        "       sufficient statistics. ICML 2020.\n",
        "\n",
        "<img src=\"file://../_static/wormsim.gif\" align=\"center\">\n"
      ]
    },
    {
      "cell_type": "code",
      "execution_count": 1,
      "metadata": {
        "collapsed": false
      },
      "outputs": [
        {
          "name": "stderr",
          "output_type": "stream",
          "text": [
            "/home/frans/.local/lib/python3.12/site-packages/tqdm/auto.py:21: TqdmWarning: IProgress not found. Please update jupyter and ipywidgets. See https://ipywidgets.readthedocs.io/en/stable/user_install.html\n",
            "  from .autonotebook import tqdm as notebook_tqdm\n",
            "2024-08-20 16:58:55.113387: E external/local_xla/xla/stream_executor/cuda/cuda_fft.cc:485] Unable to register cuFFT factory: Attempting to register factory for plugin cuFFT when one has already been registered\n",
            "2024-08-20 16:58:55.143339: E external/local_xla/xla/stream_executor/cuda/cuda_dnn.cc:8454] Unable to register cuDNN factory: Attempting to register factory for plugin cuDNN when one has already been registered\n",
            "2024-08-20 16:58:55.152715: E external/local_xla/xla/stream_executor/cuda/cuda_blas.cc:1452] Unable to register cuBLAS factory: Attempting to register factory for plugin cuBLAS when one has already been registered\n",
            "2024-08-20 16:58:55.905737: W tensorflow/compiler/tf2tensorrt/utils/py_utils.cc:38] TF-TRT Warning: Could not find TensorRT\n"
          ]
        }
      ],
      "source": [
        "import argparse\n",
        "from functools import partial, reduce\n",
        "\n",
        "import coix\n",
        "from coix.core import detach\n",
        "from coix.api import compose, propose\n",
        "from coix import util\n",
        "import flax.linen as nn\n",
        "import jax\n",
        "from jax import random\n",
        "import jax.numpy as jnp\n",
        "import numpy as np\n",
        "import matplotlib.animation as animation\n",
        "from matplotlib.patches import Rectangle\n",
        "import matplotlib.pyplot as plt\n",
        "import numpyro\n",
        "import numpyro.distributions as dist\n",
        "import optax\n",
        "from optax import cosine_decay_schedule\n",
        "from optax import clip_by_global_norm\n",
        "import tensorflow as tf\n",
        "import tensorflow_datasets as tfds\n",
        "\n",
        "from sim_utils import *\n",
        "from pprint import pprint"
      ]
    },
    {
      "cell_type": "code",
      "execution_count": 2,
      "metadata": {
        "collapsed": false
      },
      "outputs": [],
      "source": [
        "def dataset_generator(file_path, n_data=-1):\n",
        "    ds = np.load(file_path, mmap_mode='r')\n",
        "    ds = ds[:n_data] if n_data != -1 else ds\n",
        "    for data in ds:\n",
        "        yield data\n",
        "\n",
        "def load_dataset(*, is_training, batch_size, n_data=-1, file_path=\"worms_train_40k.npy\"):\n",
        "    # Create a dataset from the generator\n",
        "    ds = tf.data.Dataset.from_generator(\n",
        "        dataset_generator,\n",
        "        args=(file_path, n_data),\n",
        "        output_signature=tf.TensorSpec(shape=(None, None, None), dtype=tf.float32)\n",
        "    )\n",
        "    \n",
        "    ds = ds.repeat()\n",
        "    if is_training:\n",
        "        ds = ds.shuffle(10 * batch_size, seed=0)\n",
        "    ds = ds.batch(batch_size)\n",
        "    \n",
        "    # Standardize the data between 0 and 1\n",
        "    ds = ds.map(lambda x: x / 0.80999994)\n",
        "    return iter(tfds.as_numpy(ds))"
      ]
    },
    {
      "cell_type": "code",
      "execution_count": 3,
      "metadata": {},
      "outputs": [],
      "source": [
        "def vmapped_sim_fn(sim_fn, params):\n",
        "    if params['L'].ndim == 1:\n",
        "        return jax.vmap(sim_fn, in_axes=0, out_axes=0)(params)\n",
        "    else:\n",
        "        return jax.vmap(partial(vmapped_sim_fn, sim_fn), in_axes=0, out_axes=0)(params)"
      ]
    },
    {
      "cell_type": "code",
      "execution_count": 4,
      "metadata": {},
      "outputs": [],
      "source": [
        "def sim_worms(nworms, n_frames):\n",
        "    duration = 1.55\n",
        "    snapshots = 10\n",
        "    kpoints = 6\n",
        "    L_low = 23\n",
        "    L_high = 28\n",
        "    L = numpyro.sample('L', dist.Uniform(L_low, L_high).expand([nworms]).to_event())\n",
        "    A = numpyro.sample('A', dist.Normal(1, 0.1).expand([nworms]).to_event())\n",
        "    T = numpyro.sample('T', dist.Normal(0.8, 0.1).expand([nworms]).to_event())\n",
        "    kw = numpyro.sample('kw', dist.Uniform(0, 2 * jnp.pi).expand([nworms]).to_event())\n",
        "    ku = numpyro.sample('ku', dist.Normal(jnp.pi, 1).expand([nworms]).to_event())\n",
        "\n",
        "    inc = numpyro.sample('inc', dist.Uniform(0, 2 * jnp.pi).expand([nworms]).to_event())\n",
        "    dr = numpyro.sample('dr', dist.Uniform(0.2, 0.8).expand([nworms]).to_event())\n",
        "    phase_1 = numpyro.sample('phase_1', dist.Uniform(0, 2 * jnp.pi).expand([nworms]).to_event())\n",
        "    phase_2 = numpyro.sample('phase_2', dist.Uniform(0, 2 * jnp.pi).expand([nworms]).to_event())\n",
        "    phase_3 = numpyro.sample('phase_3', dist.Normal(0, 0.1).expand([nworms]).to_event())\n",
        "    alpha = numpyro.sample('alpha', dist.Normal(4, 4).expand([nworms]).to_event())\n",
        "    alpha = jnp.abs(alpha + 1.0)\n",
        "\n",
        "    x0 = jnp.zeros_like(L)\n",
        "    y0 = jnp.zeros_like(L)\n",
        "\n",
        "    params = {'L': L, 'A': A, 'T': T, 'kw': kw, 'ku': ku, 'inc': inc, 'dr': dr, 'phase_1': phase_1, 'phase_2': phase_2, 'phase_3': phase_3, 'alpha': alpha, 'x0': x0, 'y0': y0}\n",
        "    sim_fn = partial(\n",
        "        worm_simulation,\n",
        "        duration=duration,\n",
        "        snapshots=snapshots,\n",
        "        kpoints=kpoints,\n",
        "    )\n",
        "    worms = vmapped_sim_fn(sim_fn, params)\n",
        "    worms = worms / ((L_high + L_low) / 2)\n",
        "    numpyro.deterministic('worms', worms)\n",
        "    return worms, params"
      ]
    },
    {
      "cell_type": "code",
      "execution_count": 5,
      "metadata": {
        "collapsed": false
      },
      "outputs": [],
      "source": [
        "def scale_and_translate(image, where, out_size):\n",
        "  translate = abs(image.shape[-1] - out_size) * (where[..., ::-1] + 1) / 2\n",
        "  return jax.image.scale_and_translate(\n",
        "      image,\n",
        "      (out_size, out_size),\n",
        "      (0, 1),\n",
        "      jnp.ones(2),\n",
        "      translate,\n",
        "      method=\"cubic\",\n",
        "      antialias=False,\n",
        "  )\n",
        "\n",
        "def scale_and_translate_variable_scale(image, where, scale, out_size):\n",
        "  translate = abs(image.shape[-1] - out_size) * (where[..., ::-1] + 1) / 2\n",
        "  return jax.image.scale_and_translate(\n",
        "      image,\n",
        "      (out_size, out_size),\n",
        "      (0, 1),\n",
        "      scale * jnp.ones(2),\n",
        "      translate,\n",
        "      method=\"cubic\",\n",
        "      antialias=False,\n",
        "  )\n",
        "\n",
        "def crop_frames(frames, z_where, digit_size=28):\n",
        "  # frames:           time.frame_size.frame_size\n",
        "  # z_where: (worm_frames).time.2\n",
        "  # out:     (digits).time.digit_size.digit_size\n",
        "  if frames.ndim == 2 and z_where.ndim == 1:\n",
        "    return scale_and_translate(frames, z_where, out_size=digit_size)\n",
        "  elif frames.ndim == 3 and z_where.ndim == 2:\n",
        "    in_axes = (0, 0)\n",
        "  elif frames.ndim == 4 and z_where.ndim == 3:\n",
        "    in_axes = (0, 0)\n",
        "  elif frames.ndim == 2 and z_where.ndim == 2:\n",
        "    in_axes = (None, 0)\n",
        "  elif frames.ndim == z_where.ndim:\n",
        "    in_axes = (0, 0)\n",
        "  elif frames.ndim > z_where.ndim:\n",
        "    in_axes = (0, None)\n",
        "  else:\n",
        "    in_axes = (None, 0)\n",
        "  return jax.vmap(partial(crop_frames, digit_size=digit_size), in_axes)(\n",
        "      frames, z_where\n",
        "  )\n",
        "\n",
        "\n",
        "def embed_frames(worm_frames, z_where, frame_size=64):\n",
        "  # worm_frames:  (worm_frames).      .digit_size.digit_size\n",
        "  # z_where: (worm_frames).(time).2\n",
        "  # out:     (worm_frames).(time).frame_size.frame_size\n",
        "  if worm_frames.ndim == 2 and z_where.ndim == 1:\n",
        "    return scale_and_translate(worm_frames, z_where, out_size=frame_size)\n",
        "  elif worm_frames.ndim == 2 and z_where.ndim == 2:\n",
        "    in_axes = (None, 0)\n",
        "  elif worm_frames.ndim >= z_where.ndim:\n",
        "    in_axes = (0, 0)\n",
        "  else:\n",
        "    in_axes = (None, 0)\n",
        "  return jax.vmap(partial(embed_frames, frame_size=frame_size), in_axes)(\n",
        "      worm_frames, z_where\n",
        "  )\n",
        "\n",
        "def embed_worms(worm_frames, z_where, scale, frame_size=64):\n",
        "  # worm_frames:  (worm_frames).      .digit_size.digit_size\n",
        "  # z_where: (worm_frames).(time).2\n",
        "  # out:     (worm_frames).(time).frame_size.frame_size\n",
        "  if worm_frames.ndim == 2 and z_where.ndim == 1:\n",
        "    return scale_and_translate_variable_scale(worm_frames, z_where, scale, out_size=frame_size)\n",
        "  elif worm_frames.ndim == 2 and z_where.ndim == 2:\n",
        "    in_axes = (None, 0, 0)\n",
        "  elif worm_frames.ndim >= z_where.ndim:\n",
        "    in_axes = (0, 0, 0)\n",
        "  else:\n",
        "    in_axes = (None, 0, 0)\n",
        "  return jax.vmap(partial(embed_worms, frame_size=frame_size), in_axes)(\n",
        "      worm_frames, z_where, scale\n",
        "  )\n",
        "\n",
        "def conv2d(frames, worm_frames):\n",
        "  # frames:          (time).frame_size.frame_size\n",
        "  # worm_frames: (worm_frames).      .digit_size.digit_size\n",
        "  # out:    (worm_frames).(time).conv_size .conv_size\n",
        "  if frames.ndim == 2 and worm_frames.ndim == 2:\n",
        "    return jax.scipy.signal.convolve2d(frames, worm_frames, mode=\"valid\")\n",
        "  elif frames.ndim == worm_frames.ndim:\n",
        "    in_axes = (0, 0)\n",
        "  elif frames.ndim > worm_frames.ndim:\n",
        "    in_axes = (0, None)\n",
        "  else:\n",
        "    in_axes = (None, 0)\n",
        "  return jax.vmap(conv2d, in_axes=in_axes)(frames, worm_frames)\n",
        "\n",
        "def resize_batch(frames, size):\n",
        "  if frames.ndim == 2:\n",
        "    return jax.image.resize(frames, (size, size), method=\"cubic\")\n",
        "  elif frames.ndim > 2:\n",
        "    return jax.vmap(partial(resize_batch, size=size))(frames)\n",
        "\n",
        "# interpolate the sparse points outputted by the simulator\n",
        "def interpolate(worms, n_points=32):\n",
        "  if worms.ndim == 1:\n",
        "    return jnp.interp(jnp.linspace(0, 1, n_points), jnp.linspace(0, 1, worms.shape[0]), worms)\n",
        "  elif worms.ndim == 2:\n",
        "    return jax.vmap(partial(interpolate, n_points=n_points), in_axes=1, out_axes=1)(worms)\n",
        "  else:\n",
        "    return jax.vmap(partial(interpolate, n_points=n_points), in_axes=0)(worms)\n",
        "  \n",
        "# def coords2vec(coords, frame_size=28):\n",
        "#     foo = jnp.zeros((frame_size, frame_size))\n",
        "#     idxs = (coords.reshape(6, 2) * frame_size + frame_size/2).astype(int)\n",
        "#     for i, idx in enumerate(idxs):\n",
        "#         foo = foo.at[idx[1], idx[0]].set(1)    \n",
        "#     return foo.reshape(frame_size*frame_size)\n",
        "\n",
        "# def vmapped_coords2vec(coords, frame_size=28):\n",
        "#     if coords.ndim == 1:\n",
        "#         return coords2vec(coords, frame_size)\n",
        "#     else:\n",
        "#         return jax.vmap(partial(vmapped_coords2vec, frame_size=frame_size), in_axes=0, out_axes=0)(coords)\n",
        "    \n",
        "# def vec2coords(vec, frame_size=28):\n",
        "#   img = vec.reshape(frame_size, frame_size)\n",
        "#   return (jnp.argwhere(img, size=6)[::-1, [1, 0]] - (frame_size/2)) / frame_size\n",
        "\n",
        "# def vmapped_vec2coords(vec, frame_size=28):\n",
        "#     if vec.ndim == 1:\n",
        "#         return vec2coords(vec, frame_size)\n",
        "#     else:\n",
        "#         return jax.vmap(partial(vmapped_vec2coords, frame_size=frame_size), in_axes=0, out_axes=0)(vec)"
      ]
    },
    {
      "cell_type": "code",
      "execution_count": 6,
      "metadata": {},
      "outputs": [],
      "source": [
        "class EncoderSim(nn.Module):\n",
        "  \"\"\"\n",
        "  Takes sequence of z_what and encodes them into a distribution over worm simulator parameters\n",
        "  \"\"\"\n",
        "\n",
        "  @nn.compact\n",
        "  def __call__(self, z_what, carry=None):\n",
        "    broadcast_dims = z_what.shape[:-2]\n",
        "    \n",
        "    hidden_dim = 512\n",
        "    \n",
        "    # x = z_what.reshape(z_what.shape[:-2] + (-1,)) # flatten frame into vector\n",
        "    x = z_what\n",
        "    \n",
        "    if carry is None:\n",
        "      carry = self.param('carry_init', \n",
        "                         lambda rng, shape: jnp.zeros(shape), \n",
        "                         (hidden_dim,))\n",
        "    GRU = nn.scan(nn.GRUCell,\n",
        "                  in_axes=-2,\n",
        "                  out_axes=-2,\n",
        "                  variable_broadcast='params',\n",
        "                  split_rngs={'params': False}\n",
        "                  )(hidden_dim)\n",
        "    \n",
        "    x = nn.LayerNorm()(x)\n",
        "    # tile the carry state to match the batch size\n",
        "    carry = jnp.tile(carry, broadcast_dims + (1,))\n",
        "    carry, x = GRU(carry, x)\n",
        "    # x = x[..., -1, :] # use the last time step\n",
        "    x = x.sum(-2) # sum across time\n",
        "    x = nn.Dense(64)(x)\n",
        "    x = nn.relu(x)\n",
        "    x = nn.LayerNorm()(x)\n",
        "    \n",
        "    x_L = nn.Dense(10)(x)\n",
        "    x_L = nn.relu(x_L)\n",
        "    x_L_loc = nn.Dense(1)(x_L)\n",
        "    # scale to 10-15\n",
        "    x_L_loc = nn.tanh(x_L_loc) * ((28 - 23) / 2) + (23 + 28) / 2\n",
        "    x_L_scale = 0.5 * nn.Dense(1)(x_L)\n",
        "\n",
        "    x_A = nn.Dense(10)(x)\n",
        "    x_A = nn.relu(x_A)\n",
        "    x_A_loc = nn.Dense(1)(x_A)\n",
        "    x_A_scale = 0.5 * nn.Dense(1)(x_A)\n",
        "\n",
        "    x_T = nn.Dense(10)(x)\n",
        "    x_T = nn.relu(x_T)\n",
        "    x_T_loc = nn.Dense(1)(x_T)\n",
        "    # constrain to positive\n",
        "    x_T_loc = nn.softplus(x_T_loc)\n",
        "    x_T_scale = 0.5 * nn.Dense(1)(x_T)\n",
        "\n",
        "    x_kw = nn.Dense(10)(x)\n",
        "    x_kw = nn.relu(x_kw)\n",
        "    x_kw_loc = nn.Dense(1)(x_kw)\n",
        "    # scale to 0-2pi\n",
        "    x_kw_loc = nn.tanh(x_kw_loc) * jnp.pi + jnp.pi\n",
        "    x_kw_scale = 0.5 * nn.Dense(1)(x_kw)\n",
        "\n",
        "    x_ku = nn.Dense(10)(x)\n",
        "    x_ku = nn.relu(x_ku)\n",
        "    x_ku_loc = nn.Dense(1)(x_ku)\n",
        "    x_ku_scale = 0.5 * nn.Dense(1)(x_ku)\n",
        "\n",
        "    x_inc = nn.Dense(10)(x)\n",
        "    x_inc = nn.relu(x_inc)\n",
        "    x_inc_loc = nn.Dense(1)(x_inc)\n",
        "    # scale to 0-2pi\n",
        "    x_inc_loc = nn.tanh(x_inc_loc) * jnp.pi + jnp.pi\n",
        "    x_inc_scale = 0.5 * nn.Dense(1)(x_inc)\n",
        "\n",
        "    x_dr = nn.Dense(10)(x)\n",
        "    x_dr = nn.relu(x_dr)\n",
        "    x_dr_loc = nn.Dense(1)(x_dr)\n",
        "    # scale to 0.2-0.8\n",
        "    x_dr_loc = nn.tanh(x_dr_loc) * 0.3 + 0.5\n",
        "    x_dr_scale = 0.5 * nn.Dense(1)(x_dr)\n",
        "\n",
        "    x_phase_1 = nn.Dense(10)(x)\n",
        "    x_phase_1 = nn.relu(x_phase_1)\n",
        "    x_phase_1_loc = nn.Dense(1)(x_phase_1)\n",
        "    # scale to 0-2pi\n",
        "    x_phase_1_loc = nn.tanh(x_phase_1_loc) * jnp.pi + jnp.pi\n",
        "    x_phase_1_scale = 0.5 * nn.Dense(1)(x_phase_1)\n",
        "\n",
        "    x_phase_2 = nn.Dense(10)(x)\n",
        "    x_phase_2 = nn.relu(x_phase_2)\n",
        "    x_phase_2_loc = nn.Dense(1)(x_phase_2)\n",
        "    # scale to 0-2pi\n",
        "    x_phase_2_loc = nn.tanh(x_phase_2_loc) * jnp.pi + jnp.pi\n",
        "    x_phase_2_scale = 0.5 * nn.Dense(1)(x_phase_2)\n",
        "\n",
        "    x_phase_3 = nn.Dense(10)(x)\n",
        "    x_phase_3 = nn.relu(x_phase_3)\n",
        "    x_phase_3_loc = nn.Dense(1)(x_phase_3)\n",
        "    x_phase_3_scale = 0.5 * nn.Dense(1)(x_phase_3)\n",
        "\n",
        "    x_alpha = nn.Dense(10)(x)\n",
        "    x_alpha = nn.relu(x_alpha)\n",
        "    x_alpha_loc = nn.Dense(1)(x_alpha)\n",
        "    x_alpha_scale = 0.5 * nn.Dense(1)(x_alpha)\n",
        "\n",
        "    return x_L_loc.squeeze(-1), jnp.exp(x_L_scale.squeeze(-1)), x_A_loc.squeeze(-1), jnp.exp(x_A_scale.squeeze(-1)), x_T_loc.squeeze(-1), jnp.exp(x_T_scale.squeeze(-1)), x_kw_loc.squeeze(-1), jnp.exp(x_kw_scale.squeeze(-1)), x_ku_loc.squeeze(-1), jnp.exp(x_ku_scale.squeeze(-1)), x_inc_loc.squeeze(-1), jnp.exp(x_inc_scale.squeeze(-1)), x_dr_loc.squeeze(-1), jnp.exp(x_dr_scale.squeeze(-1)), x_phase_1_loc.squeeze(-1), jnp.exp(x_phase_1_scale.squeeze(-1)), x_phase_2_loc.squeeze(-1), jnp.exp(x_phase_2_scale.squeeze(-1)), x_phase_3_loc.squeeze(-1), jnp.exp(x_phase_3_scale.squeeze(-1)), x_alpha_loc.squeeze(-1), jnp.exp(x_alpha_scale.squeeze(-1))\n",
        "\n",
        "class EncoderWhat(nn.Module):\n",
        "\n",
        "  @nn.compact\n",
        "  def __call__(self, digits):\n",
        "    x = jnp.expand_dims(digits, -1)\n",
        "    x = nn.Conv(features=32, kernel_size=(3, 3), strides=(1, 1))(x)\n",
        "    # x = nn.Conv(features=4, kernel_size=(3, 3), strides=(1, 1))(x)\n",
        "    x = nn.relu(x)\n",
        "    x = nn.Conv(features=64, kernel_size=(3, 3), strides=(2, 2))(x)\n",
        "    # x = nn.Conv(features=8, kernel_size=(3, 3), strides=(2, 2))(x)\n",
        "    x = nn.relu(x)\n",
        "    x = nn.Conv(features=128, kernel_size=(3, 3), strides=(2, 2))(x)\n",
        "    # x = nn.Conv(features=16, kernel_size=(3, 3), strides=(2, 2))(x)\n",
        "    x = nn.relu(x)\n",
        "    # flatten\n",
        "    x = x.reshape(x.shape[:-3] + (-1,))\n",
        "    x = nn.Dense(512)(x)\n",
        "    x = nn.relu(x)\n",
        "    loc_raw = nn.Dense(12)(x)\n",
        "    loc_raw = nn.sigmoid(loc_raw)\n",
        "    scale_raw = 0.5 * nn.Dense(12)(x)\n",
        "    return loc_raw, jnp.exp(scale_raw)\n",
        "\n",
        "class EncoderWhere(nn.Module):\n",
        "\n",
        "  @nn.compact\n",
        "  def __call__(self, frame_conv):\n",
        "    x = jnp.expand_dims(frame_conv, -1)\n",
        "    x = nn.Conv(features=64, kernel_size=(3, 3), strides=(2, 2))(x)\n",
        "    x = nn.relu(x) \n",
        "    x = nn.Conv(features=32, kernel_size=(3, 3), strides=(2, 2))(x)\n",
        "    x = nn.relu(x) \n",
        "    x = x.reshape(x.shape[:-3] + (-1,))\n",
        "    x = nn.Dense(64)(x)\n",
        "    x = x.reshape(x.shape[:-1] + (2, 32))\n",
        "    x = nn.relu(x)\n",
        "    loc_raw = nn.Dense(2)(x[..., 0, :])\n",
        "    scale_raw = 0.5 * nn.Dense(2)(x[..., 1, :])\n",
        "    return nn.tanh(loc_raw), jnp.exp(scale_raw)\n",
        "\n",
        "class DecoderWhat(nn.Module):\n",
        "  \"\"\"\n",
        "  Hardcoded decoder to plot worm coordinates on a frame\n",
        "  \"\"\"\n",
        "  @nn.compact\n",
        "  def __call__(self, worms):\n",
        "    # vmap interpolate over all worms\n",
        "    worms = interpolate(worms, n_points = 16)    \n",
        "\n",
        "    # make worm widths for all knots\n",
        "    # R = 0.8\n",
        "    R = nn.softplus(nn.Dense(1)(jnp.ones(1))) + 0.7 # we need some params for the module to be registered\n",
        "    # worm_scale = nn.softplus(nn.Dense(1)(jnp.ones(1))) * 2\n",
        "    worm_scale = 2.5\n",
        "    # print(\"R:\", R)\n",
        "    K = worms.shape[-2]\n",
        "    i = jnp.arange(K)\n",
        "    r = R * jnp.abs(jnp.sin(jnp.arccos((i - K / 2) / (K / 2 + 0.2))))\n",
        "    r = jnp.tile(r, (worms.shape[:-2] + (1,)))\n",
        "\n",
        "    # draw the circles\n",
        "    # circles = embed_worms(circle_image(4), worms * worm_scale, r, frame_size=28)\n",
        "    circles = embed_worms(jnp.ones((2, 2)), worms * worm_scale, r, frame_size=28)\n",
        "    # overlay the circles\n",
        "    p = circles.sum(-3)\n",
        "    p = p ** 0.001\n",
        "    p -= p.min()\n",
        "    p = p / p.max()\n",
        "    return p\n",
        "\n",
        "# class DecoderWhat(nn.Module):\n",
        "#   \"\"\"\n",
        "#   Hardcoded decoder to plot worm coordinates on a frame\n",
        "#   \"\"\"\n",
        "#   @nn.compact\n",
        "#   def __call__(self, worms):\n",
        "#     # vmap interpolate over all worms\n",
        "#     worms = interpolate(worms, n_points = 12)    \n",
        "\n",
        "#     # make worm widths for all knots\n",
        "#     # R = 0.8\n",
        "#     R = nn.softplus(nn.Dense(1)(jnp.ones(1))) + 0.6\n",
        "#     worm_scale = nn.softplus(nn.Dense(1)(jnp.ones(1))) * 2\n",
        "#     # print(\"R:\", R)\n",
        "#     K = worms.shape[-2]\n",
        "#     i = jnp.arange(K)\n",
        "#     r = R * jnp.abs(jnp.sin(jnp.arccos((i - K / 2) / (K / 2 + 0.2))))\n",
        "#     r = jnp.tile(r, (worms.shape[:-2] + (1,)))\n",
        "\n",
        "#     # draw the circles\n",
        "#     circles = embed_worms(circle_image(4), worms * worm_scale, r, frame_size=28)\n",
        "#     # print(\"circles.shape\", circles.shape)\n",
        "#     circles_sum_flatten = circles.sum(-3).reshape(circles.shape[:-3] + (-1,))\n",
        "#     # overlay the circles\n",
        "#     p = nn.sigmoid(nn.Dense(28 * 28)(circles_sum_flatten))\n",
        "#     p = p.reshape(circles_sum_flatten.shape[:-1] + (28, 28))\n",
        "#     return p\n",
        "\n",
        "# class DecoderWhat(nn.Module):\n",
        "\n",
        "#   @nn.compact\n",
        "#   def __call__(self, z_what):\n",
        "#     # x = nn.Dense(3136)(z_what)\n",
        "#     x = nn.Dense(784)(z_what)\n",
        "#     x = nn.relu(x)\n",
        "#     # x = x.reshape(x.shape[:-1] + (7, 7, 64))\n",
        "#     x = x.reshape(x.shape[:-1] + (7, 7, 16))\n",
        "#     x = nn.ConvTranspose(features=32, kernel_size=(3, 3), strides=(2, 2))(x)\n",
        "#     x = nn.relu(x)\n",
        "#     x = nn.ConvTranspose(features=1, kernel_size=(3, 3), strides=(2, 2))(x)\n",
        "#     x = nn.relu(x)\n",
        "#     logits = x.squeeze(-1)\n",
        "#     p = nn.sigmoid(logits)\n",
        "#     return p\n",
        "\n",
        "class wormsimAutoEncoder(nn.Module):\n",
        "  num_particles: int\n",
        "  batch_size: int\n",
        "  frame_size: int\n",
        "\n",
        "  def setup(self):\n",
        "    self.encode_sim = EncoderSim()\n",
        "    self.encode_what = EncoderWhat()\n",
        "    self.encode_where = EncoderWhere()\n",
        "    self.decode_what = DecoderWhat()\n",
        "\n",
        "  def __call__(self, frames):\n",
        "    \"\"\"\n",
        "    Only used to initialize the model\n",
        "    \"\"\"\n",
        "    T = 10\n",
        "    batch_size = frames.shape[0]\n",
        "    \n",
        "    # print(\"frames.shape\", frames.shape)\n",
        "    resized_frames = resize_batch(frames, 32)\n",
        "    # print(\"resized_frames.shape\", resized_frames.shape)\n",
        "    z_where, _ = self.encode_where(resized_frames)\n",
        "    worm_frames = crop_frames(frames, -2-z_where)\n",
        "    # print(\"worm_frames.shape\", worm_frames.shape)\n",
        "    z_what, _ = self.encode_what(worm_frames)\n",
        "\n",
        "    # print(\"z_what_tile.shape\", z_what_tile.shape)\n",
        "    proposed_sim_params = self.encode_sim(z_what)\n",
        "    worm_sim = numpyro.handlers.condition(sim_worms, {'L': proposed_sim_params[0], 'A': proposed_sim_params[2], 'T': proposed_sim_params[4], 'kw': proposed_sim_params[6], 'ku': proposed_sim_params[8], 'inc': proposed_sim_params[10], 'dr': proposed_sim_params[12], 'phase_1': proposed_sim_params[14], 'phase_2': proposed_sim_params[16], 'phase_3': proposed_sim_params[18], 'alpha': proposed_sim_params[20]})\n",
        "    worm_trace = numpyro.handlers.trace(worm_sim).get_trace(2, T)\n",
        "    worms = worm_trace[\"worms\"][\"value\"]\n",
        "\n",
        "    # print(\"L shape\", proposed_sim_params[0].shape)\n",
        "\n",
        "    # # z_what is normally sampled from a Gaussian with mean worms, \n",
        "    # # but doesn't matter for the purpose of initializing NNs\n",
        "\n",
        "    # print(\"reshape_z_what.shape\", reshape_z_what.shape)\n",
        "    worm_frame_recon = self.decode_what(worms)\n",
        "    # worm_frame_recon = self.decode_what(z_what)\n",
        "    frames_recon = embed_frames(worm_frame_recon, z_where, self.frame_size)\n",
        "    # print(\"frames_recon.shape\", frames_recon.shape)\n",
        "    return frames_recon"
      ]
    },
    {
      "cell_type": "markdown",
      "metadata": {},
      "source": [
        "Then, we define the target and kernels as in Section 6.4.\n",
        "\n"
      ]
    },
    {
      "cell_type": "code",
      "execution_count": 7,
      "metadata": {
        "collapsed": false
      },
      "outputs": [],
      "source": [
        "def wormsim_target(network, inputs, D=2, T=10, sleep_phase = False):\n",
        "\n",
        "  worms, params = sim_worms(D, T)\n",
        "\n",
        "  # print(\"L target\", params['L'][0, 0])\n",
        "\n",
        "  z_where = []\n",
        "  for d in range(D):\n",
        "    z_where_d = []\n",
        "    z_where_d_t = jnp.zeros(2)\n",
        "    for t in range(T):\n",
        "      scale = 1 if t == 0 else 0.05\n",
        "      z_where_d_t = numpyro.sample(\n",
        "          # f\"z_where_{d}_{t}\", dist.Normal(z_where_d_t, scale).to_event(1)\n",
        "          f\"z_where_{d}_{t}\", dist.TruncatedNormal(z_where_d_t, scale, low=-1.2, high=1.2).to_event(1)\n",
        "      )\n",
        "      # print(\"z_where_d_t target\", z_where_d_t[0, 0, 0])\n",
        "      z_where_d.append(z_where_d_t)\n",
        "    z_where_d = jnp.stack(z_where_d, -2)\n",
        "    z_where.append(z_where_d)\n",
        "  z_where = jnp.stack(z_where, -3)\n",
        "\n",
        "  z_what = []\n",
        "  for t in range(T):\n",
        "    z_what_t_mean = worms[..., t, :, :].reshape(worms.shape[:-3] + (12,))\n",
        "    z_what_t = numpyro.sample(\n",
        "        f\"z_what_{t}\", dist.Normal(z_what_t_mean, 0.002).to_event(2)\n",
        "    )\n",
        "    z_what.append(z_what_t)\n",
        "  z_what = jnp.stack(z_what, -2)\n",
        "  \n",
        "  worm_frames = network.decode_what(z_what.reshape(z_what.shape[:-1] + (6, 2)))\n",
        "  \n",
        "  # worm_frames = network.decode_what(z_what)\n",
        "  # print(\"worm_frames.shape target\", worm_frames.shape)\n",
        "\n",
        "  # print(\"z_where target\", z_where.shape)\n",
        "  p = embed_frames(worm_frames, z_where, network.frame_size)\n",
        "  # print(\"p.shape target\", p.shape)\n",
        "  p = dist.util.clamp_probs(p.sum(-4))  # sum across worm_frames\n",
        "  # print(\"summed p.shape target\", p.shape)\n",
        "  # print(\"inputs.shape\", inputs.shape)\n",
        "  if sleep_phase:\n",
        "    frames = numpyro.sample(\"frames\", dist.Bernoulli(p).to_event(3))\n",
        "  else:\n",
        "    frames = numpyro.sample(\"frames\", dist.Bernoulli(p).to_event(3), obs=inputs)\n",
        "\n",
        "  out = {\n",
        "      \"frames\": frames,\n",
        "      # \"frames_recon\": p,\n",
        "      \"frames_recon\": jax.lax.stop_gradient(p),\n",
        "      \"worms\": worms,\n",
        "      **{f\"z_what_{t}\": z_what[..., t, :] for t in range(T)},\n",
        "      \"worm_frames\": jax.lax.stop_gradient(worm_frames),\n",
        "      \"params\": params,\n",
        "      **{f\"z_where_{t}\": z_where[..., t, :] for t in range(T)},\n",
        "  }\n",
        "  return (out,)\n",
        "\n",
        "\n",
        "def kernel_where(network, inputs, D=2, t=0, T=10, sleep_phase = False):\n",
        "  if not isinstance(inputs, dict):\n",
        "    # print('making inputs')\n",
        "    inputs = {\n",
        "        \"frames\": inputs,\n",
        "        \"worm_frames\": jnp.ones((D, T, 28, 28)),\n",
        "    }\n",
        "\n",
        "  if sleep_phase:\n",
        "    frame = inputs[\"frames_recon\"][..., t, :, :]\n",
        "  else:\n",
        "    frame = inputs[\"frames\"][..., t, :, :]\n",
        "  z_where_t = []\n",
        "\n",
        "  for d in range(D):\n",
        "    # print(inputs[\"worm_frames\"].shape)\n",
        "    worm_frame = inputs[\"worm_frames\"][..., d, t, :, :]\n",
        "    # print(\"worm_frame shape where\", worm_frame.shape)\n",
        "    resized_frame = resize_batch(frame, 32)\n",
        "    loc, scale = network.encode_where(resized_frame)\n",
        "    # print(loc.shape)\n",
        "    if sleep_phase:\n",
        "      z_where_d_t = numpyro.sample(\n",
        "          f\"z_where_{d}_{t}\", dist.Normal(loc, scale).to_event(1),\n",
        "          obs=inputs[f\"z_where_{d}_{t}\"]\n",
        "      )\n",
        "      # print(\"z_where_d_t where\", z_where_d_t[0, 0, 0])\n",
        "    else:\n",
        "      z_where_d_t = numpyro.sample(\n",
        "          f\"z_where_{d}_{t}\", dist.Normal(loc, scale).to_event(1)\n",
        "      )\n",
        "    z_where_t.append(z_where_d_t)\n",
        "    # print(\"worm_frame shape where\", worm_frame.shape)\n",
        "    # print(\"z_where_d_t shape where\", z_where_d_t.shape)\n",
        "    frame_recon = embed_frames(worm_frame, z_where_d_t, network.frame_size)\n",
        "    # print(\"frame_recon shape where\", frame_recon)\n",
        "    frame = frame - frame_recon\n",
        "  z_where_t = jnp.stack(z_where_t, -2)\n",
        "  # print(\"z_where_t.shape where\", z_where_t.shape)\n",
        "  out = {**inputs, **{f\"z_where_{t}\": z_where_t}}\n",
        "  return (out,)\n",
        "\n",
        "\n",
        "def kernel_what(network, inputs, D=2, t=0, sleep_phase = False):\n",
        "  if sleep_phase:\n",
        "    worm_frames = crop_frames(inputs[\"frames_recon\"][..., t, :, :], -2 -inputs[f\"z_where_{t}\"], 28)\n",
        "  else:\n",
        "    worm_frames = crop_frames(inputs[\"frames\"][..., t, :, :], -2 -inputs[f\"z_where_{t}\"], 28)\n",
        "  loc, scale = network.encode_what(worm_frames)\n",
        "\n",
        "  if sleep_phase:\n",
        "    z_what_t = numpyro.sample(f\"z_what_{t}\", dist.Normal(loc, scale).to_event(2), obs=inputs[f\"z_what_{t}\"])\n",
        "    # print(\"z_what_t what\", z_what_t[0, 0, 0])\n",
        "  else:\n",
        "    z_what_t = numpyro.sample(f\"z_what_{t}\", dist.Normal(loc, scale).to_event(2))\n",
        "\n",
        "  out = {**inputs, **{f\"z_what_{t}\": z_what_t}}\n",
        "  return (out,)\n",
        "\n",
        "\n",
        "def kernel_sim(network, inputs, T=10, sleep_phase = False):\n",
        "  z_what = jnp.stack([inputs[f\"z_what_{t}\"] for t in range(T)], -2)\n",
        "\n",
        "  proposed_sim_params = network.encode_sim(z_what)\n",
        "  loc_L, scale_L, loc_A, scale_A, loc_T, scale_T, loc_kw, scale_kw, loc_ku, scale_ku, loc_inc, scale_inc, loc_dr, scale_dr, loc_phase_1, scale_phase_1, loc_phase_2, scale_phase_2, loc_phase_3, scale_phase_3, loc_alpha, scale_alpha = proposed_sim_params\n",
        "\n",
        "  if sleep_phase:\n",
        "    L = numpyro.sample(\"L\", dist.Normal(loc_L, scale_L).to_event(1), obs=inputs[\"L\"])\n",
        "    # print(\"L sim\", L[0, 0])\n",
        "    A = numpyro.sample(\"A\", dist.Normal(loc_A, scale_A).to_event(1), obs=inputs[\"A\"])\n",
        "    T = numpyro.sample(\"T\", dist.Normal(loc_T, scale_T).to_event(1), obs=inputs[\"T\"])\n",
        "    kw = numpyro.sample(\"kw\", dist.Normal(loc_kw, scale_kw).to_event(1), obs=inputs[\"kw\"])\n",
        "    ku = numpyro.sample(\"ku\", dist.Normal(loc_ku, scale_ku).to_event(1), obs=inputs[\"ku\"])\n",
        "    inc = numpyro.sample(\"inc\", dist.Normal(loc_inc, scale_inc).to_event(1), obs=inputs[\"inc\"])\n",
        "    dr = numpyro.sample(\"dr\", dist.Normal(loc_dr, scale_dr).to_event(1), obs=inputs[\"dr\"])\n",
        "    phase_1 = numpyro.sample(\"phase_1\", dist.Normal(loc_phase_1, scale_phase_1).to_event(1), obs=inputs[\"phase_1\"])\n",
        "    phase_2 = numpyro.sample(\"phase_2\", dist.Normal(loc_phase_2, scale_phase_2).to_event(1), obs=inputs[\"phase_2\"])\n",
        "    phase_3 = numpyro.sample(\"phase_3\", dist.Normal(loc_phase_3, scale_phase_3).to_event(1), obs=inputs[\"phase_3\"])\n",
        "    alpha = numpyro.sample(\"alpha\", dist.Normal(loc_alpha, scale_alpha).to_event(1), obs=inputs[\"alpha\"])\n",
        "  else:\n",
        "    L = numpyro.sample('L', dist.TruncatedNormal(loc_L, scale_L, low=23, high=28).to_event(1))\n",
        "    A = numpyro.sample('A', dist.Normal(loc_A, scale_A).to_event(1))\n",
        "    T = numpyro.sample('T', dist.Normal(loc_T, scale_T).to_event(1))\n",
        "    kw = numpyro.sample('kw', dist.TruncatedNormal(loc_kw, scale_kw, low=0, high=2 * jnp.pi).to_event(1))\n",
        "    ku = numpyro.sample('ku', dist.Normal(loc_ku, scale_ku).to_event(1))\n",
        "    inc = numpyro.sample('inc', dist.TruncatedNormal(loc_inc, scale_inc, low=0, high=2 * jnp.pi).to_event(1))\n",
        "    dr = numpyro.sample('dr', dist.TruncatedNormal(loc_dr, scale_dr, low=0.2, high=0.8).to_event(1))\n",
        "    phase_1 = numpyro.sample('phase_1', dist.TruncatedNormal(loc_phase_1, scale_phase_1, low=0, high=2 * jnp.pi).to_event(1))\n",
        "    phase_2 = numpyro.sample('phase_2', dist.TruncatedNormal(loc_phase_2, scale_phase_2, low=0, high=2 * jnp.pi).to_event(1))\n",
        "    phase_3 = numpyro.sample('phase_3', dist.Normal(loc_phase_3, scale_phase_3).to_event(1))\n",
        "    alpha = numpyro.sample('alpha', dist.Normal(loc_alpha, scale_alpha).to_event(1))\n",
        "\n",
        "  out = {**inputs, **{'L': L, 'A': A, 'T': T, 'kw': kw, 'ku': ku, 'inc': inc, 'dr': dr, 'phase_1': phase_1, 'phase_2': phase_2, 'phase_3': phase_3, 'alpha': alpha}}\n",
        "  return (out,)"
      ]
    },
    {
      "cell_type": "markdown",
      "metadata": {},
      "source": [
        "Finally, we create the inference program, define the loss function,\n",
        "run the training loop, and plot the results.\n",
        "\n"
      ]
    },
    {
      "cell_type": "code",
      "execution_count": 8,
      "metadata": {},
      "outputs": [],
      "source": [
        "class Args(argparse.Namespace):\n",
        "  batch_size = 512\n",
        "  # batch_size = 16\n",
        "  num_sweeps = 5\n",
        "  num_particles = 1\n",
        "  # learning_rate = 3e-4\n",
        "  # learning_rate = 1e-4\n",
        "  learning_rate = 1e-5\n",
        "  # num_steps = 600_000\n",
        "  # num_steps = 10\n",
        "  num_steps = 100_000\n",
        "  # num_steps = 4000\n",
        "  # num_steps = 2000\n",
        "  device = \"gpu\"\n",
        "\n",
        "args = Args()"
      ]
    },
    {
      "cell_type": "code",
      "execution_count": 9,
      "metadata": {},
      "outputs": [
        {
          "name": "stderr",
          "output_type": "stream",
          "text": [
            "WARNING: All log messages before absl::InitializeLog() is called are written to STDERR\n",
            "I0000 00:00:1724165936.869919   64026 cuda_executor.cc:1015] successful NUMA node read from SysFS had negative value (-1), but there must be at least one NUMA node, so returning NUMA node zero. See more at https://github.com/torvalds/linux/blob/v6.0/Documentation/ABI/testing/sysfs-bus-pci#L344-L355\n",
            "2024-08-20 16:58:56.953326: W tensorflow/core/common_runtime/gpu/gpu_device.cc:2343] Cannot dlopen some GPU libraries. Please make sure the missing libraries mentioned above are installed properly if you would like to use GPU. Follow the guide at https://www.tensorflow.org/install/gpu for how to download and setup the required libraries for your platform.\n",
            "Skipping registering GPU devices...\n",
            "2024-08-20 16:58:57.377695: W external/xla/xla/service/gpu/nvptx_compiler.cc:836] The NVIDIA driver's CUDA version is 12.2 which is older than the PTX compiler version (12.5.82). Because the driver is older than the PTX compiler version, XLA is disabling parallel compilation, which may slow down compilation. You should update your NVIDIA driver or use the NVIDIA-provided CUDA forward compatibility packages.\n"
          ]
        }
      ],
      "source": [
        "lr = args.learning_rate\n",
        "num_steps = args.num_steps\n",
        "batch_size = args.batch_size\n",
        "num_sweeps = args.num_sweeps\n",
        "num_particles = args.num_particles\n",
        "\n",
        "train_ds = load_dataset(is_training=True, batch_size=batch_size, n_data=-1)\n",
        "\n",
        "test_ds = load_dataset(is_training=False, batch_size=batch_size)\n",
        "test_data = next(test_ds)\n",
        "frame_size = test_data.shape[-1]\n",
        "wormsim_net = wormsimAutoEncoder(num_particles=num_particles, batch_size=batch_size, frame_size=frame_size)\n",
        "init_params = wormsim_net.init(jax.random.PRNGKey(0), test_data)\n"
      ]
    },
    {
      "cell_type": "code",
      "execution_count": 10,
      "metadata": {},
      "outputs": [],
      "source": [
        "def make_proposal(network, make_particle_plate, T=10, sleep_phase=False):\n",
        "  kernels = []\n",
        "  for t in range(T):\n",
        "    kernels.append(\n",
        "        make_particle_plate()(partial(kernel_where, network, D=2, t=t, sleep_phase=sleep_phase))\n",
        "    )\n",
        "    kernels.append(make_particle_plate()(partial(kernel_what, network, D=2, t=t, sleep_phase=sleep_phase))\n",
        "    )\n",
        "  kernels.append(make_particle_plate()(partial(kernel_sim, network, T=T, sleep_phase=sleep_phase)))\n",
        "\n",
        "  kernels = [detach(k) for k in kernels]\n",
        "  q = reduce(lambda a, b: compose(b, a), kernels[1:], kernels[0])\n",
        "  return q"
      ]
    },
    {
      "cell_type": "code",
      "execution_count": 11,
      "metadata": {},
      "outputs": [],
      "source": [
        "# def loss_fn(params, key, batch, wormsim_net, num_particles):\n",
        "def loss_fn(params, key, wormsim_net, num_particles, batch_size):\n",
        "    D = 2\n",
        "    T = 10\n",
        "    network = coix.util.BindModule(wormsim_net, params)\n",
        "    make_particle_plate = lambda: numpyro.plate(\"particle\", num_particles, dim=-2)\n",
        "    make_batch_plate = lambda: numpyro.plate(\"batch\", batch_size, dim=-1)\n",
        "    target = make_particle_plate()(make_batch_plate()(partial(wormsim_target, network, D=D, T=T)))\n",
        "\n",
        "    shuffle_rng, rng_key = random.split(key)\n",
        "    # sample from the target\n",
        "    out_model, tr_model, _ = coix.traced_evaluate(target, seed=jax.random.PRNGKey(rng_key[0]))(\n",
        "        None, sleep_phase=True\n",
        "    )\n",
        "    model_sample = {k: v[\"value\"] for k, v in tr_model.items()}\n",
        "\n",
        "    proposal_io = {**out_model[0], **model_sample}\n",
        "\n",
        "    q = make_proposal(network, make_particle_plate, T=T, sleep_phase=True)\n",
        "\n",
        "    out_q, tr_q, metrics = coix.traced_evaluate(q, seed=jax.random.PRNGKey(rng_key[1]))(proposal_io, sleep_phase=True)\n",
        "    q_log_probs = {\n",
        "        name: util.get_site_log_prob(site) for name, site in tr_q.items()\n",
        "    }\n",
        "    # print({k: v[\"is_observed\"] for k, v in tr_q.items()})\n",
        "    # print(model_sample['z_what_0'][0, 0, 0])\n",
        "    # print(tr_q['z_what_0']['value'][0, 0, 0])\n",
        "    # print(out_model[0]['worm_frames'].shape)\n",
        "    # plt.figure()\n",
        "    # plt.imshow(out_model[0]['worm_frames'][0, 0, 0, 0])\n",
        "    # plt.figure()\n",
        "    # plt.imshow(out_model[0]['frames_recon'][0, 0, 0])\n",
        "\n",
        "    # print(model_sample[f\"z_what_{0}\"][0, 0, 0][:5])\n",
        "    # print(tr_q[f\"z_what_{0}\"]['value'][0, 0, 0][:5])\n",
        "    q_log_density = sum(q_log_probs.values()).mean()\n",
        "    z_what_loss = sum(\n",
        "        q_log_probs[f\"z_what_{t}\"]\n",
        "        for t in range(T)\n",
        "    ).mean()\n",
        "    z_where_loss = sum(\n",
        "        q_log_probs[f\"z_where_{d}_{t}\"]\n",
        "        for d in range(D)\n",
        "        for t in range(T)\n",
        "    ).mean()\n",
        "    sim_loss = q_log_probs[\"L\"] + q_log_probs[\"A\"] + q_log_probs[\"T\"] + q_log_probs[\"kw\"] + q_log_probs[\"ku\"] + q_log_probs[\"inc\"] + q_log_probs[\"dr\"] + q_log_probs[\"phase_1\"] + q_log_probs[\"phase_2\"] + q_log_probs[\"phase_3\"] + q_log_probs[\"alpha\"]\n",
        "    metrics['z_what_loss'] = -z_what_loss\n",
        "    metrics['z_where_loss'] = -z_where_loss\n",
        "    metrics['sim_loss'] = -sim_loss.mean()\n",
        "    metrics['loss'] = -q_log_density\n",
        "    return -q_log_density, metrics"
      ]
    },
    {
      "cell_type": "code",
      "execution_count": 12,
      "metadata": {},
      "outputs": [],
      "source": [
        "# foo, bar = loss_fn(init_params, jax.random.PRNGKey(0), wormsim_net, num_particles, batch_size)"
      ]
    },
    {
      "cell_type": "code",
      "execution_count": 13,
      "metadata": {},
      "outputs": [],
      "source": [
        "lr_schedule = cosine_decay_schedule(lr, num_steps, 0.5)\n",
        "# lr_schedule = cosine_decay_schedule(lr, num_steps, 1.0)\n",
        "\n",
        "opt = optax.chain(\n",
        "    clip_by_global_norm(1.0),\n",
        "    optax.adam(lr_schedule),\n",
        ")"
      ]
    },
    {
      "cell_type": "code",
      "execution_count": 14,
      "metadata": {},
      "outputs": [],
      "source": [
        "# wormsim_params = np.load(\"worm_learned_params_2.npy\", allow_pickle=True).item()"
      ]
    },
    {
      "cell_type": "code",
      "execution_count": 15,
      "metadata": {},
      "outputs": [],
      "source": [
        "# eval_fn(step, params, opt_state, metrics)\n",
        "\n",
        "def eval_fn(step, params, opt_state, metrics):\n",
        "    # print all params norms using tree map\n",
        "    pprint(jax.tree.map(lambda x: jnp.linalg.norm(x), params))\n",
        "    if 'param_norms' in metrics:\n",
        "        metrics['param_norms'].append(jax.tree_map(lambda x: jnp.linalg.norm(x), params))\n",
        "    else:\n",
        "        metrics['params_norms'] = []\n",
        "    # print all metrics"
      ]
    },
    {
      "cell_type": "code",
      "execution_count": 18,
      "metadata": {},
      "outputs": [],
      "source": [
        "wormsim_params = np.load(\"worm_sleep_phase_learned_params.npy\", allow_pickle=True).item()"
      ]
    },
    {
      "cell_type": "code",
      "execution_count": 19,
      "metadata": {},
      "outputs": [
        {
          "name": "stdout",
          "output_type": "stream",
          "text": [
            "Compiling the first train step...\n",
            "Time to compile a train step: 69.51511812210083\n",
            "=====\n",
            "Step 500   | loss  -124.0632 | sim_loss     2.4189 | squared_grad_norm 262277.6250 | z_what_loss  -131.2052 | z_where_loss     4.7231\n",
            "Step 1000  | loss  -143.2889 | sim_loss     1.9253 | squared_grad_norm 260053.0156 | z_what_loss  -149.0519 | z_where_loss     3.8377\n",
            "Step 1500  | loss  -143.4071 | sim_loss     2.0904 | squared_grad_norm 799558.2500 | z_what_loss  -150.1517 | z_where_loss     4.6542\n",
            "Step 2000  | loss  -130.3024 | sim_loss     2.1020 | squared_grad_norm 610082.1875 | z_what_loss  -137.0473 | z_where_loss     4.6430\n",
            "Step 2500  | loss  -125.4399 | sim_loss     2.2487 | squared_grad_norm 343175.9688 | z_what_loss  -132.2732 | z_where_loss     4.5846\n",
            "Step 3000  | loss  -123.3493 | sim_loss     2.2577 | squared_grad_norm 520818.2500 | z_what_loss  -130.1229 | z_where_loss     4.5159\n",
            "Step 3500  | loss  -135.1930 | sim_loss     1.8403 | squared_grad_norm 615372.8750 | z_what_loss  -141.5731 | z_where_loss     4.5398\n",
            "Step 4000  | loss  -123.4180 | sim_loss     2.2327 | squared_grad_norm 1034642.9375 | z_what_loss  -129.2262 | z_where_loss     3.5755\n",
            "Step 4500  | loss  -140.3991 | sim_loss     1.8648 | squared_grad_norm 1034740.3125 | z_what_loss  -146.7816 | z_where_loss     4.5178\n",
            "Step 5000  | loss  -128.0224 | sim_loss     2.4217 | squared_grad_norm 102392.0703 | z_what_loss  -134.9081 | z_where_loss     4.4639\n",
            "Step 5500  | loss  -130.7622 | sim_loss     1.7774 | squared_grad_norm 254192.4062 | z_what_loss  -135.6300 | z_where_loss     3.0903\n",
            "Step 6000  | loss  -130.8070 | sim_loss     1.9446 | squared_grad_norm 136950.4219 | z_what_loss  -136.3990 | z_where_loss     3.6474\n",
            "Step 6500  | loss  -148.1881 | sim_loss     1.5501 | squared_grad_norm 237671.9062 | z_what_loss  -153.1092 | z_where_loss     3.3710\n",
            "Step 7000  | loss  -132.3049 | sim_loss     1.8041 | squared_grad_norm 386102.9688 | z_what_loss  -137.5967 | z_where_loss     3.4877\n",
            "Step 7500  | loss  -141.0117 | sim_loss     1.7529 | squared_grad_norm 636994.5000 | z_what_loss  -147.9746 | z_where_loss     5.2100\n",
            "Step 8000  | loss  -128.7362 | sim_loss     1.4597 | squared_grad_norm 226277.8125 | z_what_loss  -133.7807 | z_where_loss     3.5848\n",
            "Step 8500  | loss  -127.2160 | sim_loss     1.4379 | squared_grad_norm 1296911.3750 | z_what_loss  -132.4415 | z_where_loss     3.7876\n",
            "Step 9000  | loss  -123.3682 | sim_loss     1.9316 | squared_grad_norm 2197737.7500 | z_what_loss  -129.7614 | z_where_loss     4.4615\n",
            "Step 9500  | loss  -136.5029 | sim_loss     1.9721 | squared_grad_norm 368560.0625 | z_what_loss  -142.1171 | z_where_loss     3.6422\n",
            "Step 10000 | loss  -137.0733 | sim_loss     1.5759 | squared_grad_norm 494835.8125 | z_what_loss  -142.1413 | z_where_loss     3.4921\n",
            "Step 10500 | loss  -128.2298 | sim_loss     1.9884 | squared_grad_norm 1428466.1250 | z_what_loss  -133.4351 | z_where_loss     3.2169\n",
            "Step 11000 | loss  -132.2033 | sim_loss     1.4466 | squared_grad_norm 388981.9688 | z_what_loss  -137.6950 | z_where_loss     4.0451\n",
            "Step 11500 | loss  -133.6064 | sim_loss     1.6785 | squared_grad_norm 113018.1953 | z_what_loss  -139.5564 | z_where_loss     4.2715\n",
            "Step 12000 | loss  -137.3012 | sim_loss     1.1556 | squared_grad_norm 401568.9375 | z_what_loss  -143.0881 | z_where_loss     4.6313\n",
            "Step 12500 | loss  -132.1431 | sim_loss     1.7166 | squared_grad_norm 882793.0000 | z_what_loss  -136.5935 | z_where_loss     2.7337\n",
            "Step 13000 | loss  -139.9041 | sim_loss     1.7497 | squared_grad_norm 227110.9844 | z_what_loss  -144.4454 | z_where_loss     2.7917\n",
            "Step 13500 | loss  -130.6785 | sim_loss     1.1944 | squared_grad_norm 410128.7500 | z_what_loss  -136.1525 | z_where_loss     4.2796\n",
            "Step 14000 | loss  -130.6379 | sim_loss     1.6086 | squared_grad_norm 503593.1875 | z_what_loss  -136.6746 | z_where_loss     4.4280\n",
            "Step 14500 | loss  -137.0011 | sim_loss     1.2278 | squared_grad_norm 346174.0625 | z_what_loss  -141.4832 | z_where_loss     3.2542\n",
            "Step 15000 | loss  -132.8980 | sim_loss     1.1112 | squared_grad_norm 976429.7500 | z_what_loss  -138.3598 | z_where_loss     4.3506\n",
            "Step 15500 | loss  -143.2949 | sim_loss     0.9720 | squared_grad_norm 874510.9375 | z_what_loss  -149.0233 | z_where_loss     4.7564\n",
            "Step 16000 | loss  -131.6852 | sim_loss     1.1246 | squared_grad_norm 274782.3438 | z_what_loss  -136.5590 | z_where_loss     3.7492\n",
            "Step 16500 | loss  -122.0140 | sim_loss     1.7472 | squared_grad_norm 1379261.8750 | z_what_loss  -127.8459 | z_where_loss     4.0848\n",
            "Step 17000 | loss  -133.8378 | sim_loss     0.9576 | squared_grad_norm 159611.7188 | z_what_loss  -138.5789 | z_where_loss     3.7835\n",
            "Step 17500 | loss  -147.5361 | sim_loss     1.4332 | squared_grad_norm 694342.0625 | z_what_loss  -152.1899 | z_where_loss     3.2206\n",
            "Step 18000 | loss  -138.9101 | sim_loss     1.5900 | squared_grad_norm 362222.7188 | z_what_loss  -142.9415 | z_where_loss     2.4413\n",
            "Step 18500 | loss  -120.7851 | sim_loss     0.8087 | squared_grad_norm 4038906.2500 | z_what_loss  -126.1293 | z_where_loss     4.5355\n",
            "Step 19000 | loss  -137.1037 | sim_loss     1.0086 | squared_grad_norm 550326.2500 | z_what_loss  -140.9538 | z_where_loss     2.8415\n",
            "Step 19500 | loss  -137.4606 | sim_loss     1.1107 | squared_grad_norm 142403.6719 | z_what_loss  -141.3379 | z_where_loss     2.7667\n",
            "Step 20000 | loss  -149.2484 | sim_loss     1.2829 | squared_grad_norm 1106248.5000 | z_what_loss  -152.9153 | z_where_loss     2.3839\n",
            "Step 20500 | loss  -126.8417 | sim_loss     1.0963 | squared_grad_norm 654427.1875 | z_what_loss  -132.1209 | z_where_loss     4.1829\n",
            "Step 21000 | loss  -134.0898 | sim_loss     1.2159 | squared_grad_norm 444721.5312 | z_what_loss  -137.7758 | z_where_loss     2.4700\n",
            "Step 21500 | loss  -138.4617 | sim_loss     0.7914 | squared_grad_norm 885979.6875 | z_what_loss  -142.9449 | z_where_loss     3.6917\n",
            "Step 22000 | loss  -144.1815 | sim_loss     0.8157 | squared_grad_norm 250348.2188 | z_what_loss  -148.3406 | z_where_loss     3.3434\n",
            "Step 22500 | loss  -139.0542 | sim_loss     0.8443 | squared_grad_norm 256561.3594 | z_what_loss  -143.5034 | z_where_loss     3.6049\n",
            "Step 23000 | loss  -138.7756 | sim_loss     0.2408 | squared_grad_norm 600556.1875 | z_what_loss  -142.6067 | z_where_loss     3.5903\n",
            "Step 23500 | loss  -139.3655 | sim_loss     1.1131 | squared_grad_norm 300259.0000 | z_what_loss  -143.9477 | z_where_loss     3.4691\n",
            "Step 24000 | loss  -129.0185 | sim_loss     1.1903 | squared_grad_norm 568006.6250 | z_what_loss  -134.4910 | z_where_loss     4.2822\n",
            "Step 24500 | loss  -136.8444 | sim_loss     0.8447 | squared_grad_norm 1158624.2500 | z_what_loss  -140.1704 | z_where_loss     2.4814\n",
            "Step 25000 | loss  -138.2258 | sim_loss     0.8001 | squared_grad_norm 483929.7812 | z_what_loss  -141.4394 | z_where_loss     2.4135\n",
            "Step 25500 | loss  -128.8755 | sim_loss     0.7085 | squared_grad_norm 248405.3594 | z_what_loss  -133.2028 | z_where_loss     3.6187\n",
            "Step 26000 | loss  -136.3704 | sim_loss     0.5909 | squared_grad_norm 647498.4375 | z_what_loss  -139.9702 | z_where_loss     3.0090\n",
            "Step 26500 | loss  -142.7254 | sim_loss     1.1155 | squared_grad_norm 425785.1250 | z_what_loss  -146.1737 | z_where_loss     2.3327\n",
            "Step 27000 | loss  -139.9462 | sim_loss    -0.2766 | squared_grad_norm 344635.4375 | z_what_loss  -142.1922 | z_where_loss     2.5226\n",
            "Step 27500 | loss  -138.0520 | sim_loss     0.7266 | squared_grad_norm 513681.6875 | z_what_loss  -142.6267 | z_where_loss     3.8481\n",
            "Step 28000 | loss  -143.2940 | sim_loss     0.2442 | squared_grad_norm 836296.2500 | z_what_loss  -146.3282 | z_where_loss     2.7899\n",
            "Step 28500 | loss  -146.3290 | sim_loss     0.2959 | squared_grad_norm 471386.5312 | z_what_loss  -150.4761 | z_where_loss     3.8512\n",
            "Step 29000 | loss  -143.8589 | sim_loss     0.6013 | squared_grad_norm 312822.6250 | z_what_loss  -147.8329 | z_where_loss     3.3728\n",
            "Step 29500 | loss  -138.2831 | sim_loss     0.6126 | squared_grad_norm 732015.8750 | z_what_loss  -142.4860 | z_where_loss     3.5903\n",
            "Step 30000 | loss  -127.3744 | sim_loss     0.2845 | squared_grad_norm 711467.8750 | z_what_loss  -131.5067 | z_where_loss     3.8478\n",
            "Step 30500 | loss  -131.2142 | sim_loss     0.5922 | squared_grad_norm 1494757.0000 | z_what_loss  -135.4742 | z_where_loss     3.6677\n",
            "Step 31000 | loss  -134.1966 | sim_loss     0.2852 | squared_grad_norm 1003701.6875 | z_what_loss  -137.7453 | z_where_loss     3.2635\n",
            "Step 31500 | loss  -139.5437 | sim_loss     0.2840 | squared_grad_norm 1452389.8750 | z_what_loss  -141.7765 | z_where_loss     1.9488\n",
            "Step 32000 | loss  -144.5959 | sim_loss     0.3416 | squared_grad_norm 609141.2500 | z_what_loss  -148.2008 | z_where_loss     3.2633\n",
            "Step 32500 | loss  -139.0994 | sim_loss     0.3523 | squared_grad_norm 541522.1875 | z_what_loss  -143.3213 | z_where_loss     3.8696\n",
            "Step 33000 | loss  -150.1737 | sim_loss     0.1145 | squared_grad_norm 575663.6875 | z_what_loss  -153.2414 | z_where_loss     2.9532\n",
            "Step 33500 | loss  -142.3648 | sim_loss     0.7293 | squared_grad_norm 399190.6875 | z_what_loss  -146.3096 | z_where_loss     3.2156\n",
            "Step 34000 | loss  -141.5047 | sim_loss    -0.1015 | squared_grad_norm 594231.0625 | z_what_loss  -142.6374 | z_where_loss     1.2343\n",
            "Step 34500 | loss  -132.7650 | sim_loss    -0.1831 | squared_grad_norm 1035082.0000 | z_what_loss  -135.6746 | z_where_loss     3.0927\n",
            "Step 35000 | loss  -140.7057 | sim_loss     0.1363 | squared_grad_norm 236949.2188 | z_what_loss  -144.6432 | z_where_loss     3.8012\n",
            "Step 35500 | loss  -131.0381 | sim_loss     0.6793 | squared_grad_norm 2505842.2500 | z_what_loss  -135.0390 | z_where_loss     3.3215\n",
            "Step 36000 | loss  -143.5633 | sim_loss     0.2108 | squared_grad_norm 407531.3125 | z_what_loss  -146.7453 | z_where_loss     2.9713\n",
            "Step 36500 | loss  -136.0379 | sim_loss     0.1325 | squared_grad_norm 693993.9375 | z_what_loss  -141.0962 | z_where_loss     4.9258\n",
            "Step 37000 | loss  -138.6879 | sim_loss     0.4252 | squared_grad_norm 679087.3125 | z_what_loss  -142.7905 | z_where_loss     3.6774\n",
            "Step 37500 | loss  -142.3341 | sim_loss     0.1704 | squared_grad_norm 207401.5469 | z_what_loss  -146.9407 | z_where_loss     4.4362\n",
            "Step 38000 | loss  -135.4207 | sim_loss     0.2076 | squared_grad_norm 460336.7500 | z_what_loss  -138.8830 | z_where_loss     3.2547\n",
            "Step 38500 | loss  -144.5456 | sim_loss     0.8224 | squared_grad_norm 577426.5000 | z_what_loss  -148.2394 | z_where_loss     2.8714\n",
            "Step 39000 | loss  -136.9501 | sim_loss    -0.4631 | squared_grad_norm 346635.6562 | z_what_loss  -140.3629 | z_where_loss     3.8759\n",
            "Step 39500 | loss  -142.5744 | sim_loss     0.2831 | squared_grad_norm 769424.3750 | z_what_loss  -146.4393 | z_where_loss     3.5818\n",
            "Step 40000 | loss  -146.0998 | sim_loss    -0.2091 | squared_grad_norm 303297.9062 | z_what_loss  -148.7560 | z_where_loss     2.8652\n",
            "Step 40500 | loss  -138.7618 | sim_loss    -0.1280 | squared_grad_norm 1623721.7500 | z_what_loss  -141.6947 | z_where_loss     3.0610\n",
            "Step 41000 | loss  -147.5264 | sim_loss    -0.1141 | squared_grad_norm 523137.9375 | z_what_loss  -149.8820 | z_where_loss     2.4696\n",
            "Step 41500 | loss  -147.0994 | sim_loss     0.2084 | squared_grad_norm 280122.8125 | z_what_loss  -149.8610 | z_where_loss     2.5532\n",
            "Step 42000 | loss  -153.0798 | sim_loss     0.0400 | squared_grad_norm 445310.9062 | z_what_loss  -155.6230 | z_where_loss     2.5032\n",
            "Step 42500 | loss  -138.2294 | sim_loss     0.0460 | squared_grad_norm 481857.8438 | z_what_loss  -140.4366 | z_where_loss     2.1611\n",
            "Step 43000 | loss  -146.5988 | sim_loss     1.1348 | squared_grad_norm 769911.7500 | z_what_loss  -149.7551 | z_where_loss     2.0215\n",
            "Step 43500 | loss  -138.4856 | sim_loss    -0.0054 | squared_grad_norm 584945.6250 | z_what_loss  -141.0186 | z_where_loss     2.5384\n",
            "Step 44000 | loss  -137.3402 | sim_loss    -0.0733 | squared_grad_norm 954624.0000 | z_what_loss  -140.7595 | z_where_loss     3.4926\n",
            "Step 44500 | loss  -139.9258 | sim_loss    -0.7610 | squared_grad_norm 339438.8125 | z_what_loss  -142.5368 | z_where_loss     3.3720\n",
            "Step 45000 | loss  -141.8746 | sim_loss    -0.0553 | squared_grad_norm 197307.9844 | z_what_loss  -145.4185 | z_where_loss     3.5992\n",
            "Step 45500 | loss  -147.2278 | sim_loss     0.0595 | squared_grad_norm 685606.7500 | z_what_loss  -150.1416 | z_where_loss     2.8543\n",
            "Step 46000 | loss  -141.2768 | sim_loss     0.0924 | squared_grad_norm 540420.1250 | z_what_loss  -144.5785 | z_where_loss     3.2093\n",
            "Step 46500 | loss  -142.2187 | sim_loss    -0.4914 | squared_grad_norm 313998.6250 | z_what_loss  -144.2617 | z_where_loss     2.5345\n",
            "Step 47000 | loss  -143.8614 | sim_loss    -0.8665 | squared_grad_norm 469402.2812 | z_what_loss  -147.2486 | z_where_loss     4.2536\n",
            "Step 47500 | loss  -141.4927 | sim_loss    -0.1727 | squared_grad_norm 1729385.1250 | z_what_loss  -144.2546 | z_where_loss     2.9346\n",
            "Step 48000 | loss  -136.7253 | sim_loss    -0.5600 | squared_grad_norm 2309573.7500 | z_what_loss  -139.1032 | z_where_loss     2.9378\n",
            "Step 48500 | loss  -141.3476 | sim_loss    -0.4269 | squared_grad_norm 701659.2500 | z_what_loss  -143.9769 | z_where_loss     3.0562\n",
            "Step 49000 | loss  -150.5116 | sim_loss    -0.5588 | squared_grad_norm 399468.5312 | z_what_loss  -153.2759 | z_where_loss     3.3231\n",
            "Step 49500 | loss  -130.9997 | sim_loss    -0.2323 | squared_grad_norm 701194.7500 | z_what_loss  -135.1126 | z_where_loss     4.3452\n",
            "Step 50000 | loss  -136.8152 | sim_loss    -0.2813 | squared_grad_norm 940033.8125 | z_what_loss  -140.0054 | z_where_loss     3.4715\n",
            "Step 50500 | loss  -138.8126 | sim_loss    -0.1349 | squared_grad_norm 255045.6094 | z_what_loss  -142.2260 | z_where_loss     3.5483\n",
            "Step 51000 | loss  -138.6839 | sim_loss     0.1735 | squared_grad_norm 593288.8750 | z_what_loss  -143.1720 | z_where_loss     4.3146\n",
            "Step 51500 | loss  -147.2728 | sim_loss    -0.7692 | squared_grad_norm 517569.4688 | z_what_loss  -150.4655 | z_where_loss     3.9618\n",
            "Step 52000 | loss  -142.8048 | sim_loss    -0.4796 | squared_grad_norm 380848.4062 | z_what_loss  -144.1864 | z_where_loss     1.8612\n",
            "Step 52500 | loss  -146.3670 | sim_loss    -0.7581 | squared_grad_norm 282903.6250 | z_what_loss  -148.3843 | z_where_loss     2.7754\n",
            "Step 53000 | loss  -150.7577 | sim_loss    -0.5578 | squared_grad_norm 267186.8750 | z_what_loss  -151.8872 | z_where_loss     1.6874\n",
            "Step 53500 | loss  -149.6490 | sim_loss    -0.6308 | squared_grad_norm 605517.1875 | z_what_loss  -150.8238 | z_where_loss     1.8056\n",
            "Step 54000 | loss  -144.1140 | sim_loss    -0.7718 | squared_grad_norm 458144.3438 | z_what_loss  -145.8523 | z_where_loss     2.5101\n",
            "Step 54500 | loss  -151.2187 | sim_loss    -0.3742 | squared_grad_norm 1164613.1250 | z_what_loss  -153.3841 | z_where_loss     2.5396\n",
            "Step 55000 | loss  -152.1449 | sim_loss    -0.8653 | squared_grad_norm 930658.5000 | z_what_loss  -153.1448 | z_where_loss     1.8652\n",
            "Step 55500 | loss  -147.7720 | sim_loss    -0.6045 | squared_grad_norm 1075862.2500 | z_what_loss  -150.4009 | z_where_loss     3.2335\n",
            "Step 56000 | loss  -141.1899 | sim_loss    -0.4980 | squared_grad_norm 2044454.5000 | z_what_loss  -143.5956 | z_where_loss     2.9037\n",
            "Step 56500 | loss  -152.9726 | sim_loss    -0.7568 | squared_grad_norm 789302.1875 | z_what_loss  -154.5030 | z_where_loss     2.2872\n",
            "Step 57000 | loss  -141.8656 | sim_loss    -0.2869 | squared_grad_norm 647113.4375 | z_what_loss  -145.2721 | z_where_loss     3.6934\n",
            "Step 57500 | loss  -149.3768 | sim_loss    -0.5062 | squared_grad_norm 546378.9375 | z_what_loss  -151.9273 | z_where_loss     3.0567\n",
            "Step 58000 | loss  -153.1891 | sim_loss    -0.5471 | squared_grad_norm 343455.3125 | z_what_loss  -154.5580 | z_where_loss     1.9160\n",
            "Step 58500 | loss  -137.7521 | sim_loss    -0.3824 | squared_grad_norm 2947922.7500 | z_what_loss  -140.2744 | z_where_loss     2.9048\n",
            "Step 59000 | loss  -139.8866 | sim_loss    -0.4987 | squared_grad_norm 513981.5312 | z_what_loss  -142.5796 | z_where_loss     3.1917\n",
            "Step 59500 | loss  -146.2496 | sim_loss    -0.8109 | squared_grad_norm 458572.2500 | z_what_loss  -147.1587 | z_where_loss     1.7199\n",
            "Step 60000 | loss  -143.8155 | sim_loss    -0.8337 | squared_grad_norm 290974.8438 | z_what_loss  -145.8848 | z_where_loss     2.9030\n",
            "Step 60500 | loss  -147.6944 | sim_loss    -0.8107 | squared_grad_norm 561694.2500 | z_what_loss  -149.5280 | z_where_loss     2.6443\n",
            "Step 61000 | loss  -148.0695 | sim_loss    -1.1349 | squared_grad_norm 642928.5625 | z_what_loss  -151.0929 | z_where_loss     4.1583\n",
            "Step 61500 | loss  -153.5077 | sim_loss    -0.9773 | squared_grad_norm 451072.2812 | z_what_loss  -154.8848 | z_where_loss     2.3544\n",
            "Step 62000 | loss  -148.3377 | sim_loss    -0.7319 | squared_grad_norm 454360.0938 | z_what_loss  -150.4395 | z_where_loss     2.8337\n",
            "Step 62500 | loss  -141.2533 | sim_loss    -0.3306 | squared_grad_norm 678268.3125 | z_what_loss  -144.0132 | z_where_loss     3.0904\n",
            "Step 63000 | loss  -148.4602 | sim_loss    -0.4411 | squared_grad_norm 621601.3125 | z_what_loss  -150.6519 | z_where_loss     2.6327\n",
            "Step 63500 | loss  -148.3942 | sim_loss    -0.9860 | squared_grad_norm 575970.1250 | z_what_loss  -150.3571 | z_where_loss     2.9489\n",
            "Step 64000 | loss  -138.1346 | sim_loss    -0.9761 | squared_grad_norm 804993.0000 | z_what_loss  -140.8249 | z_where_loss     3.6664\n",
            "Step 64500 | loss  -148.7603 | sim_loss    -1.0394 | squared_grad_norm 621948.3125 | z_what_loss  -150.7960 | z_where_loss     3.0751\n",
            "Step 65000 | loss  -160.2007 | sim_loss    -1.1053 | squared_grad_norm 846682.9375 | z_what_loss  -162.3986 | z_where_loss     3.3031\n",
            "Step 65500 | loss  -143.0050 | sim_loss    -0.4127 | squared_grad_norm 344753.4688 | z_what_loss  -145.4421 | z_where_loss     2.8498\n",
            "Step 66000 | loss  -148.1402 | sim_loss    -1.0821 | squared_grad_norm 709576.2500 | z_what_loss  -151.6113 | z_where_loss     4.5533\n",
            "Step 66500 | loss  -144.2762 | sim_loss    -0.8037 | squared_grad_norm 226501.1562 | z_what_loss  -146.9419 | z_where_loss     3.4694\n",
            "Step 67000 | loss  -148.1828 | sim_loss    -0.6864 | squared_grad_norm 265876.6250 | z_what_loss  -151.1676 | z_where_loss     3.6712\n",
            "Step 67500 | loss  -143.5757 | sim_loss    -1.5195 | squared_grad_norm 325240.1250 | z_what_loss  -145.6882 | z_where_loss     3.6320\n",
            "Step 68000 | loss  -140.0554 | sim_loss    -0.3329 | squared_grad_norm 491474.7500 | z_what_loss  -143.1621 | z_where_loss     3.4396\n",
            "Step 68500 | loss  -161.6015 | sim_loss    -1.2962 | squared_grad_norm 1359679.7500 | z_what_loss  -161.7457 | z_where_loss     1.4404\n",
            "Step 69000 | loss  -138.7675 | sim_loss    -0.7077 | squared_grad_norm 983734.6875 | z_what_loss  -141.6387 | z_where_loss     3.5789\n",
            "Step 69500 | loss  -146.6474 | sim_loss    -1.0067 | squared_grad_norm 518882.0000 | z_what_loss  -149.6449 | z_where_loss     4.0042\n",
            "Step 70000 | loss  -149.3817 | sim_loss    -1.3594 | squared_grad_norm 437666.5938 | z_what_loss  -151.1721 | z_where_loss     3.1498\n",
            "Step 70500 | loss  -144.1586 | sim_loss    -0.7086 | squared_grad_norm 687643.1250 | z_what_loss  -146.8556 | z_where_loss     3.4056\n",
            "Step 71000 | loss  -156.4313 | sim_loss    -0.8295 | squared_grad_norm 614371.5625 | z_what_loss  -159.1232 | z_where_loss     3.5214\n",
            "Step 71500 | loss  -147.9981 | sim_loss    -1.3229 | squared_grad_norm 611518.8125 | z_what_loss  -149.6073 | z_where_loss     2.9321\n",
            "Step 72000 | loss  -144.9033 | sim_loss    -1.0976 | squared_grad_norm 1065604.6250 | z_what_loss  -144.9603 | z_where_loss     1.1545\n",
            "Step 72500 | loss  -143.1905 | sim_loss    -0.8439 | squared_grad_norm 470451.2500 | z_what_loss  -145.5349 | z_where_loss     3.1883\n",
            "Step 73000 | loss  -146.7512 | sim_loss    -1.0361 | squared_grad_norm 307414.3125 | z_what_loss  -147.9692 | z_where_loss     2.2542\n",
            "Step 73500 | loss  -152.2753 | sim_loss    -0.9309 | squared_grad_norm 276430.7500 | z_what_loss  -153.8627 | z_where_loss     2.5184\n",
            "Step 74000 | loss  -148.3401 | sim_loss    -0.5831 | squared_grad_norm 645209.8750 | z_what_loss  -149.5761 | z_where_loss     1.8190\n",
            "Step 74500 | loss  -147.4452 | sim_loss    -1.8051 | squared_grad_norm 1094474.3750 | z_what_loss  -148.8765 | z_where_loss     3.2364\n",
            "Step 75000 | loss  -155.8170 | sim_loss    -1.1976 | squared_grad_norm 538061.5625 | z_what_loss  -157.2054 | z_where_loss     2.5860\n",
            "Step 75500 | loss  -140.7589 | sim_loss    -1.5958 | squared_grad_norm 4872796.0000 | z_what_loss  -142.1877 | z_where_loss     3.0246\n",
            "Step 76000 | loss  -151.7236 | sim_loss    -1.0041 | squared_grad_norm 1236063.0000 | z_what_loss  -154.5123 | z_where_loss     3.7928\n",
            "Step 76500 | loss  -150.6710 | sim_loss    -1.3818 | squared_grad_norm 195412.0000 | z_what_loss  -152.2702 | z_where_loss     2.9811\n",
            "Step 77000 | loss  -144.8772 | sim_loss    -1.3201 | squared_grad_norm 1872114.6250 | z_what_loss  -145.8734 | z_where_loss     2.3163\n",
            "Step 77500 | loss  -156.8749 | sim_loss    -1.4236 | squared_grad_norm 516857.0625 | z_what_loss  -157.9296 | z_where_loss     2.4783\n",
            "Step 78000 | loss  -146.1543 | sim_loss    -1.2525 | squared_grad_norm 883650.6250 | z_what_loss  -146.5554 | z_where_loss     1.6536\n",
            "Step 78500 | loss  -144.7704 | sim_loss    -1.1526 | squared_grad_norm 307169.3125 | z_what_loss  -146.3941 | z_where_loss     2.7764\n",
            "Step 79000 | loss  -151.9960 | sim_loss    -1.1510 | squared_grad_norm 456320.1562 | z_what_loss  -153.4271 | z_where_loss     2.5821\n",
            "Step 79500 | loss  -153.3074 | sim_loss    -1.0893 | squared_grad_norm 203994.2656 | z_what_loss  -153.2020 | z_where_loss     0.9839\n",
            "Step 80000 | loss  -150.5924 | sim_loss    -1.5614 | squared_grad_norm 836934.6250 | z_what_loss  -151.0708 | z_where_loss     2.0398\n",
            "Step 80500 | loss  -154.5275 | sim_loss    -1.5678 | squared_grad_norm 710050.5625 | z_what_loss  -156.8548 | z_where_loss     3.8951\n",
            "Step 81000 | loss  -150.3439 | sim_loss    -0.6213 | squared_grad_norm 433344.6875 | z_what_loss  -152.0778 | z_where_loss     2.3552\n",
            "Step 81500 | loss  -152.2900 | sim_loss    -1.8620 | squared_grad_norm 614375.0625 | z_what_loss  -153.0180 | z_where_loss     2.5900\n",
            "Step 82000 | loss  -149.6994 | sim_loss    -1.7939 | squared_grad_norm 510300.7812 | z_what_loss  -150.9330 | z_where_loss     3.0275\n",
            "Step 82500 | loss  -146.0824 | sim_loss    -1.1682 | squared_grad_norm 616680.7500 | z_what_loss  -147.2480 | z_where_loss     2.3339\n",
            "Step 83000 | loss  -148.3477 | sim_loss    -1.7102 | squared_grad_norm 386469.1250 | z_what_loss  -149.4591 | z_where_loss     2.8216\n",
            "Step 83500 | loss  -145.3332 | sim_loss    -1.6789 | squared_grad_norm 722532.5000 | z_what_loss  -146.2926 | z_where_loss     2.6383\n",
            "Step 84000 | loss  -147.9464 | sim_loss    -1.4681 | squared_grad_norm 689065.4375 | z_what_loss  -149.1370 | z_where_loss     2.6587\n",
            "Step 84500 | loss  -142.1694 | sim_loss    -1.2397 | squared_grad_norm 2253432.2500 | z_what_loss  -143.3902 | z_where_loss     2.4606\n",
            "Step 85000 | loss  -153.6465 | sim_loss    -1.6610 | squared_grad_norm 362825.5938 | z_what_loss  -155.1530 | z_where_loss     3.1675\n",
            "Step 85500 | loss  -155.3775 | sim_loss    -1.3654 | squared_grad_norm 214611.8438 | z_what_loss  -156.1649 | z_where_loss     2.1528\n",
            "Step 86000 | loss  -151.2655 | sim_loss    -1.6219 | squared_grad_norm 224985.9688 | z_what_loss  -151.2904 | z_where_loss     1.6468\n",
            "Step 86500 | loss  -150.2951 | sim_loss    -1.8996 | squared_grad_norm 311510.1875 | z_what_loss  -150.7970 | z_where_loss     2.4015\n",
            "Step 87000 | loss  -148.3505 | sim_loss    -1.9828 | squared_grad_norm 508974.3750 | z_what_loss  -149.2397 | z_where_loss     2.8720\n",
            "Step 87500 | loss  -151.6409 | sim_loss    -1.4128 | squared_grad_norm 404470.5000 | z_what_loss  -152.6344 | z_where_loss     2.4063\n",
            "Step 88000 | loss  -148.4958 | sim_loss    -1.7108 | squared_grad_norm 544308.5000 | z_what_loss  -149.1557 | z_where_loss     2.3707\n",
            "Step 88500 | loss  -154.7447 | sim_loss    -1.6106 | squared_grad_norm 273798.0000 | z_what_loss  -155.1087 | z_where_loss     1.9746\n",
            "Step 89000 | loss  -153.9263 | sim_loss    -1.1982 | squared_grad_norm 438761.0938 | z_what_loss  -154.7241 | z_where_loss     1.9960\n",
            "Step 89500 | loss  -151.9079 | sim_loss    -1.7474 | squared_grad_norm 270147.5938 | z_what_loss  -153.0515 | z_where_loss     2.8909\n",
            "Step 90000 | loss  -148.9811 | sim_loss    -1.4216 | squared_grad_norm 481467.2500 | z_what_loss  -150.1591 | z_where_loss     2.5995\n",
            "Step 90500 | loss  -149.4296 | sim_loss    -1.9563 | squared_grad_norm 385971.9375 | z_what_loss  -149.9327 | z_where_loss     2.4594\n",
            "Step 91000 | loss  -149.5765 | sim_loss    -1.2764 | squared_grad_norm 586683.6250 | z_what_loss  -152.1250 | z_where_loss     3.8249\n",
            "Step 91500 | loss  -157.8109 | sim_loss    -1.2916 | squared_grad_norm 961215.4375 | z_what_loss  -159.5322 | z_where_loss     3.0129\n",
            "Step 92000 | loss  -149.6334 | sim_loss    -1.3940 | squared_grad_norm 696916.4375 | z_what_loss  -152.3193 | z_where_loss     4.0800\n",
            "Step 92500 | loss  -161.2188 | sim_loss    -1.3670 | squared_grad_norm 694334.8750 | z_what_loss  -161.9892 | z_where_loss     2.1374\n",
            "Step 93000 | loss  -156.0438 | sim_loss    -1.3046 | squared_grad_norm 737900.3750 | z_what_loss  -156.3151 | z_where_loss     1.5759\n",
            "Step 93500 | loss  -155.5743 | sim_loss    -1.9122 | squared_grad_norm 236043.7344 | z_what_loss  -156.2327 | z_where_loss     2.5706\n",
            "Step 94000 | loss  -146.0670 | sim_loss    -1.8875 | squared_grad_norm 511110.9062 | z_what_loss  -147.6521 | z_where_loss     3.4727\n",
            "Step 94500 | loss  -158.6829 | sim_loss    -2.0904 | squared_grad_norm 988912.6875 | z_what_loss  -160.1533 | z_where_loss     3.5607\n",
            "Step 95000 | loss  -141.5511 | sim_loss    -1.5595 | squared_grad_norm 1433121.5000 | z_what_loss  -143.1955 | z_where_loss     3.2039\n",
            "Step 95500 | loss  -153.6184 | sim_loss    -1.8908 | squared_grad_norm 214695.8594 | z_what_loss  -153.9993 | z_where_loss     2.2716\n",
            "Step 96000 | loss  -139.2238 | sim_loss    -1.4659 | squared_grad_norm 1057405.1250 | z_what_loss  -140.6841 | z_where_loss     2.9263\n",
            "Step 96500 | loss  -147.1642 | sim_loss    -1.6706 | squared_grad_norm 718100.9375 | z_what_loss  -149.1166 | z_where_loss     3.6230\n",
            "Step 97000 | loss  -149.5646 | sim_loss    -1.6178 | squared_grad_norm 211814.3906 | z_what_loss  -151.3946 | z_where_loss     3.4478\n",
            "Step 97500 | loss  -164.3774 | sim_loss    -1.3218 | squared_grad_norm 1460198.2500 | z_what_loss  -165.1182 | z_where_loss     2.0626\n",
            "Step 98000 | loss  -145.2258 | sim_loss    -0.9320 | squared_grad_norm 840195.5625 | z_what_loss  -148.5806 | z_where_loss     4.2868\n",
            "Step 98500 | loss  -140.8125 | sim_loss    -1.9254 | squared_grad_norm 870418.0000 | z_what_loss  -143.9115 | z_where_loss     5.0244\n",
            "Step 99000 | loss  -157.6598 | sim_loss    -2.0021 | squared_grad_norm 834625.8125 | z_what_loss  -157.8796 | z_where_loss     2.2218\n",
            "Step 99500 | loss  -149.0212 | sim_loss    -2.0026 | squared_grad_norm 648828.0000 | z_what_loss  -149.4395 | z_where_loss     2.4209\n",
            "Step 100000 | loss  -152.2482 | sim_loss    -1.6862 | squared_grad_norm 403501.7500 | z_what_loss  -153.8200 | z_where_loss     3.2580\n"
          ]
        }
      ],
      "source": [
        "# with jax.disable_jit():\n",
        "#     wormsim_params, metrics = coix.util.train(\n",
        "#         partial(\n",
        "#             loss_fn,\n",
        "#             wormsim_net=wormsim_net,\n",
        "#             num_particles=num_particles,\n",
        "#             batch_size=batch_size,\n",
        "#         ),\n",
        "#         init_params,\n",
        "#         # wormsim_params,\n",
        "#         # optax.adam(lr),\n",
        "#         opt,\n",
        "#         num_steps,\n",
        "#         # train_ds,\n",
        "#         # eval_fn=eval_fn,\n",
        "#         # log_every=500,\n",
        "#         log_every=1,\n",
        "#     )\n",
        "wormsim_params, metrics = coix.util.train(\n",
        "    partial(\n",
        "        loss_fn,\n",
        "        wormsim_net=wormsim_net,\n",
        "        num_particles=num_particles,\n",
        "        batch_size=batch_size,\n",
        "    ),\n",
        "    # init_params,\n",
        "    wormsim_params,\n",
        "    # optax.adam(lr),\n",
        "    opt,\n",
        "    num_steps,\n",
        "    # train_ds,\n",
        "    # eval_fn=eval_fn,\n",
        "    log_every=500,\n",
        ")\n"
      ]
    },
    {
      "cell_type": "code",
      "execution_count": 20,
      "metadata": {},
      "outputs": [
        {
          "data": {
            "text/plain": [
              "{'log_weight': Array([[   8.815384  ,  143.43356   ,  295.1394    ,  268.32574   ,\n",
              "          232.8496    ,  188.90459   ,  217.63953   ,  164.65451   ,\n",
              "          201.65132   ,   62.92931   ,  259.17035   ,   15.560617  ,\n",
              "          258.03058   ,   54.843903  ,   79.37788   ,  322.94614   ,\n",
              "           29.78964   ,  266.0437    ,  167.34113   ,  106.15037   ,\n",
              "          144.09251   ,  226.58777   ,  211.28004   ,   18.077023  ,\n",
              "          198.55983   ,  150.0109    ,  169.44414   ,   90.3943    ,\n",
              "          214.04446   ,  229.6862    ,  216.77707   ,  146.80124   ,\n",
              "          197.00114   ,  152.61832   ,  215.77087   ,  -69.03381   ,\n",
              "          226.88759   ,  -30.380585  ,  216.16046   , -421.3491    ,\n",
              "           94.85317   ,   69.520096  ,   12.98547   ,  142.58243   ,\n",
              "          100.50658   ,   37.31912   ,  205.85976   ,  168.65154   ,\n",
              "          252.79747   ,   61.31298   ,  191.96439   ,  240.49976   ,\n",
              "           80.60017   ,   -1.7963312 ,  248.81808   ,  171.03049   ,\n",
              "          224.91275   ,  296.35614   ,  191.0216    ,  192.0216    ,\n",
              "           87.88375   ,  112.261     ,  211.98523   ,  296.37357   ,\n",
              "          176.38399   ,  230.28008   ,  141.09026   ,  132.2843    ,\n",
              "          171.02338   ,  196.68045   ,  207.82222   ,  214.1679    ,\n",
              "          169.959     ,   28.631264  ,  268.23322   ,  132.12706   ,\n",
              "          254.971     ,   69.42381   ,   56.42932   ,   55.22577   ,\n",
              "          117.11183   ,  144.9908    ,  176.26657   ,  177.92853   ,\n",
              "          217.94371   ,   83.98827   ,  248.26973   ,   57.480495  ,\n",
              "          122.15763   ,  256.49045   ,  182.51453   ,   15.375477  ,\n",
              "          -69.492455  ,  228.897     ,  200.48007   ,  224.29228   ,\n",
              "          141.45174   ,  263.53754   ,  208.2908    ,  149.87775   ,\n",
              "          270.66046   ,  165.87001   ,  208.54944   ,  281.46033   ,\n",
              "          225.11288   ,   97.984634  ,   15.850153  ,  143.44646   ,\n",
              "           80.694984  ,  169.72324   ,  233.46126   ,  173.35983   ,\n",
              "          287.93082   ,  256.43655   ,  215.74918   ,  200.78346   ,\n",
              "          139.96265   ,  230.35788   ,  242.27643   ,  111.18593   ,\n",
              "          260.40085   ,  192.43979   ,  236.01541   ,  154.70074   ,\n",
              "           43.714787  ,  115.99321   ,   13.467072  ,  183.52287   ,\n",
              "          264.12158   ,   97.30232   ,  193.4259    ,  129.77618   ,\n",
              "           22.54101   ,  -47.629868  ,  204.2377    ,  162.20155   ,\n",
              "          177.11171   ,  141.15353   ,  232.29623   ,  115.006424  ,\n",
              "          211.61221   ,   18.687614  ,  130.94382   ,  189.45041   ,\n",
              "          255.29865   ,  227.60428   ,  185.39479   ,  219.52182   ,\n",
              "           95.12095   ,  226.70656   ,   75.51833   ,  206.36044   ,\n",
              "          265.3141    ,   51.04805   ,  116.92274   ,  230.28336   ,\n",
              "          150.25026   ,  262.7261    ,  136.4236    ,  217.72806   ,\n",
              "          250.60681   ,  195.45634   ,  128.57846   ,  162.61446   ,\n",
              "          189.05402   ,  185.09189   ,  112.746346  ,  217.5727    ,\n",
              "          172.17517   ,  228.10161   ,  233.80493   ,  175.92122   ,\n",
              "          108.36902   ,  226.0898    ,  236.3097    ,  238.87202   ,\n",
              "          258.9264    ,  172.08585   ,  185.19165   ,  215.96904   ,\n",
              "          192.87807   ,  167.831     ,  115.98334   ,  243.40018   ,\n",
              "          169.65392   ,   61.145645  ,  -15.311114  ,  152.6031    ,\n",
              "          188.46492   ,  232.00826   ,  201.58295   ,  249.5183    ,\n",
              "          155.18346   ,  -20.105896  ,   19.010395  ,   43.465023  ,\n",
              "          281.31738   ,  191.13773   ,  265.23117   ,  238.74046   ,\n",
              "         -196.27057   ,  183.49393   ,  182.89929   ,  231.53635   ,\n",
              "           95.5322    ,  243.88686   ,  -72.210815  ,  179.70807   ,\n",
              "          182.10922   ,  105.74429   ,  178.51578   ,  201.58846   ,\n",
              "          148.47694   ,   45.23462   , -132.07      ,   30.168415  ,\n",
              "          138.93158   ,  169.22815   ,  239.73894   ,  167.7973    ,\n",
              "          256.7227    ,  236.2767    ,  304.0795    ,  213.20467   ,\n",
              "          -52.517223  ,    1.7189817 ,  -20.680485  ,  198.88687   ,\n",
              "          219.63217   ,  136.83868   , -140.69759   ,  206.97183   ,\n",
              "           58.367157  ,   -6.159051  ,  234.1853    ,  275.47296   ,\n",
              "           64.50195   ,  203.08958   ,  200.86139   ,  109.297226  ,\n",
              "          138.6063    ,  203.99936   ,  199.54543   ,  156.6384    ,\n",
              "          170.7119    ,  147.19382   ,  180.1628    ,  211.47122   ,\n",
              "          260.41577   ,   14.423964  ,  241.57738   ,   24.790289  ,\n",
              "          211.78354   ,  201.70477   ,  122.61501   ,  189.5389    ,\n",
              "          101.99417   ,  253.93692   ,  242.26807   , -158.2216    ,\n",
              "          135.06534   ,  181.8091    ,  167.94858   ,  191.85242   ,\n",
              "          157.70367   ,  149.23672   ,  195.65103   ,  183.58414   ,\n",
              "          -14.220776  ,  296.54712   ,  258.6604    ,  226.43927   ,\n",
              "          203.25185   ,   75.66598   ,  201.83398   ,  121.31077   ,\n",
              "          149.56174   ,   60.869137  ,  332.07037   ,  230.68709   ,\n",
              "          179.0996    ,  234.9443    ,  115.959045  ,  245.94435   ,\n",
              "           73.567154  ,  179.61806   ,  280.83865   ,  -47.36701   ,\n",
              "          143.40204   ,  166.68315   ,  294.81793   ,  224.08594   ,\n",
              "          205.86992   ,  125.73992   ,  218.62555   ,  236.29283   ,\n",
              "          171.86275   ,  108.18057   ,  173.18428   ,  164.1122    ,\n",
              "           -1.445795  ,  155.46983   ,   94.84832   ,   39.722935  ,\n",
              "          197.3721    ,  223.55418   ,  163.2404    ,  223.90048   ,\n",
              "          266.35358   ,  246.41537   ,  147.70282   ,  207.32571   ,\n",
              "          185.87021   ,   -4.468615  ,  237.10121   ,   60.214115  ,\n",
              "          217.93971   ,  203.01068   ,  315.4997    ,  200.6347    ,\n",
              "           86.46164   ,  177.23996   ,  246.33664   ,   30.348255  ,\n",
              "          149.7732    ,  182.29341   , -165.6171    ,   95.66724   ,\n",
              "          -28.132715  ,  170.09412   ,   -9.733023  ,  198.76485   ,\n",
              "           85.49804   ,  173.2769    ,   84.94509   ,  244.60254   ,\n",
              "          205.13824   ,  200.88387   ,  116.56386   ,  181.76944   ,\n",
              "           24.427689  ,  229.91197   ,  105.885086  ,  206.08292   ,\n",
              "          228.59984   ,   53.186363  ,  238.97827   ,   91.70388   ,\n",
              "           92.3817    ,  166.98247   ,  166.43018   ,  196.37103   ,\n",
              "          143.35382   ,  105.92204   ,   67.04664   ,  179.03133   ,\n",
              "          182.57101   ,  267.45352   ,   91.262115  ,  111.09122   ,\n",
              "          127.213425  ,  220.90974   ,  167.18799   ,  201.37907   ,\n",
              "           74.585464  ,  232.377     ,  158.61848   ,  270.40802   ,\n",
              "           90.961784  ,  262.4234    ,  203.86385   ,  162.35042   ,\n",
              "          206.98268   , -150.20786   ,  214.54005   ,  108.99579   ,\n",
              "          220.8542    ,  120.349915  ,  229.90462   ,  209.78775   ,\n",
              "          123.89485   ,  185.88547   ,  -81.39001   ,  256.99744   ,\n",
              "          235.59698   , -180.20596   ,  224.31125   ,  207.65941   ,\n",
              "          199.03043   ,  217.10162   ,  304.46198   ,  -41.440056  ,\n",
              "          329.1746    ,  153.67166   ,  140.40532   ,  190.1133    ,\n",
              "          146.56331   ,    5.7271395 ,  192.67174   ,  -80.99942   ,\n",
              "          143.7866    ,   34.410088  ,  231.74721   ,  179.00253   ,\n",
              "            0.48924732,   92.58083   ,  148.48433   ,  298.93433   ,\n",
              "          193.2034    ,   62.052914  ,  123.93355   ,  246.15552   ,\n",
              "         -293.43173   ,  221.94746   ,  196.08643   ,  118.86766   ,\n",
              "           97.40132   ,  184.00082   ,  290.01126   ,  257.0384    ,\n",
              "          133.12561   ,  219.0745    ,  100.164116  ,  203.59996   ,\n",
              "          144.40048   ,  111.36184   ,  101.344765  ,  125.275375  ,\n",
              "          203.95122   ,  -31.798965  ,   42.12082   ,   44.942215  ,\n",
              "          223.09764   ,  288.96497   ,  -84.33629   ,  230.30276   ,\n",
              "          128.67223   ,   -9.9507475 ,  178.13086   ,  142.15268   ,\n",
              "          102.69498   ,  205.21007   ,   31.215778  ,  254.89433   ,\n",
              "          145.6072    ,  202.69688   ,  196.44313   ,   90.284294  ,\n",
              "          271.8775    ,   78.17525   ,  230.7745    ,  -59.4291    ,\n",
              "          116.32906   ,  232.49594   ,   -9.926289  ,  270.8132    ,\n",
              "          101.292305  ,  216.48128   ,  134.20486   ,  189.06584   ,\n",
              "          235.54517   ,  146.60097   ,   80.19024   ,   27.894955  ,\n",
              "         -130.6575    ,  197.05829   ,  -46.63271   ,  147.91013   ,\n",
              "          158.65565   ,   15.312769  ,  230.61719   ,  132.3718    ,\n",
              "          250.31303   ,  277.724     ,   75.796974  ,  127.88587   ,\n",
              "          175.09064   ,  -14.53002   ,  256.72757   ,  214.11456   ,\n",
              "          228.61143   ,  152.6078    ,  -18.125666  ,  207.36772   ,\n",
              "           49.14462   ,  202.85605   ,  177.15018   , -225.62143   ,\n",
              "          183.7898    ,  239.30092   ,  239.03679   ,  105.69135   ,\n",
              "          164.19751   ,  128.95049   ,  188.06349   ,  -18.646023  ,\n",
              "          229.98863   ,  211.1198    ,  236.17313   ,  107.45801   ,\n",
              "          191.82887   ,  -44.949535  ,  221.70886   ,  190.39113   ,\n",
              "           17.53615   ,  225.92346   ,  143.35725   ,   38.395306  ,\n",
              "          204.03758   ,  296.20605   ,  257.44656   ,  248.73514   ]],      dtype=float32),\n",
              " 'loss': Array(-152.24817, dtype=float32),\n",
              " 'sim_loss': Array(-1.6861541, dtype=float32),\n",
              " 'squared_grad_norm': Array(403501.75, dtype=float32),\n",
              " 'z_what_loss': Array(-153.82004, dtype=float32),\n",
              " 'z_where_loss': Array(3.2580132, dtype=float32)}"
            ]
          },
          "execution_count": 20,
          "metadata": {},
          "output_type": "execute_result"
        }
      ],
      "source": [
        "metrics"
      ]
    },
    {
      "cell_type": "code",
      "execution_count": 21,
      "metadata": {},
      "outputs": [],
      "source": [
        "# np.save(\"worm_sleep_phase_learned_params.npy\", wormsim_params)"
      ]
    },
    {
      "cell_type": "code",
      "execution_count": 22,
      "metadata": {},
      "outputs": [],
      "source": [
        "T = 10\n",
        "D = 2\n",
        "network = coix.util.BindModule(wormsim_net, wormsim_params)\n",
        "make_particle_plate = lambda: numpyro.plate(\"particle\", num_particles, dim=-2)\n",
        "make_batch_plate = lambda: numpyro.plate(\"batch\", batch_size, dim=-1)\n",
        "target = make_particle_plate()(make_batch_plate()(partial(wormsim_target, network, D=D, T=T)))\n",
        "shuffle_rng, rng_key = random.split(jax.random.PRNGKey(0))\n",
        "# sample from the target\n",
        "out_model, tr_model, _ = coix.traced_evaluate(target, seed=jax.random.PRNGKey(rng_key[0]))(\n",
        "    None, sleep_phase=False\n",
        ")\n",
        "model_sample = {k: v[\"value\"] for k, v in tr_model.items()}\n",
        "proposal_io = {**out_model[0], **model_sample}\n",
        "q = make_proposal(network, make_particle_plate, T=T)\n",
        "# out_q, tr_q, metrics = coix.traced_evaluate(q, seed=jax.random.PRNGKey(rng_key[1]))(proposal_io, sleep_phase=False)\n",
        "out_q, tr_q, metrics = coix.traced_evaluate(propose(target, q), seed=jax.random.PRNGKey(rng_key[1]))(out_model[0]['frames_recon'], sleep_phase=False)\n"
      ]
    },
    {
      "cell_type": "code",
      "execution_count": 23,
      "metadata": {},
      "outputs": [
        {
          "data": {
            "text/plain": [
              "<matplotlib.image.AxesImage at 0x7540440aaf90>"
            ]
          },
          "execution_count": 23,
          "metadata": {},
          "output_type": "execute_result"
        },
        {
          "data": {
            "image/png": "[encoded data removed]",
            "text/plain": [
              "<Figure size 640x480 with 1 Axes>"
            ]
          },
          "metadata": {},
          "output_type": "display_data"
        }
      ],
      "source": [
        "plt.imshow(network.decode_what(model_sample['z_what_0'][0, 16, 0, :].reshape(6, 2)))"
      ]
    },
    {
      "cell_type": "code",
      "execution_count": 24,
      "metadata": {},
      "outputs": [
        {
          "data": {
            "text/plain": [
              "<matplotlib.image.AxesImage at 0x7540303e2180>"
            ]
          },
          "execution_count": 24,
          "metadata": {},
          "output_type": "execute_result"
        },
        {
          "data": {
            "image/png": "[encoded data removed]",
            "text/plain": [
              "<Figure size 640x480 with 1 Axes>"
            ]
          },
          "metadata": {},
          "output_type": "display_data"
        }
      ],
      "source": [
        "plt.imshow(network.decode_what(out_q[0]['z_what_0'][0, 16, 0, :].reshape(6, 2)))"
      ]
    },
    {
      "cell_type": "code",
      "execution_count": 25,
      "metadata": {},
      "outputs": [
        {
          "data": {
            "text/plain": [
              "dict_keys(['frames', 'frames_recon', 'worms', 'z_what_0', 'z_what_1', 'z_what_2', 'z_what_3', 'z_what_4', 'z_what_5', 'z_what_6', 'z_what_7', 'z_what_8', 'z_what_9', 'worm_frames', 'params', 'z_where_0', 'z_where_1', 'z_where_2', 'z_where_3', 'z_where_4', 'z_where_5', 'z_where_6', 'z_where_7', 'z_where_8', 'z_where_9'])"
            ]
          },
          "execution_count": 25,
          "metadata": {},
          "output_type": "execute_result"
        }
      ],
      "source": [
        "out_q[0].keys()"
      ]
    },
    {
      "cell_type": "code",
      "execution_count": 26,
      "metadata": {},
      "outputs": [
        {
          "data": {
            "text/plain": [
              "dict_keys(['L', 'A', 'T', 'kw', 'ku', 'inc', 'dr', 'phase_1', 'phase_2', 'phase_3', 'alpha', 'z_where_0_0', 'z_where_0_1', 'z_where_0_2', 'z_where_0_3', 'z_where_0_4', 'z_where_0_5', 'z_where_0_6', 'z_where_0_7', 'z_where_0_8', 'z_where_0_9', 'z_where_1_0', 'z_where_1_1', 'z_where_1_2', 'z_where_1_3', 'z_where_1_4', 'z_where_1_5', 'z_where_1_6', 'z_where_1_7', 'z_where_1_8', 'z_where_1_9', 'z_what_0', 'z_what_1', 'z_what_2', 'z_what_3', 'z_what_4', 'z_what_5', 'z_what_6', 'z_what_7', 'z_what_8', 'z_what_9', 'frames'])"
            ]
          },
          "execution_count": 26,
          "metadata": {},
          "output_type": "execute_result"
        }
      ],
      "source": [
        "tr_q.keys()"
      ]
    },
    {
      "cell_type": "code",
      "execution_count": 27,
      "metadata": {},
      "outputs": [
        {
          "data": {
            "text/plain": [
              "(1, 512, 10, 64, 64)"
            ]
          },
          "execution_count": 27,
          "metadata": {},
          "output_type": "execute_result"
        }
      ],
      "source": [
        "out_model[0]['frames_recon'].shape"
      ]
    },
    {
      "cell_type": "code",
      "execution_count": 28,
      "metadata": {},
      "outputs": [
        {
          "data": {
            "text/plain": [
              "<matplotlib.image.AxesImage at 0x7540303e1100>"
            ]
          },
          "execution_count": 28,
          "metadata": {},
          "output_type": "execute_result"
        },
        {
          "data": {
            "image/png": "[encoded data removed]",
            "text/plain": [
              "<Figure size 640x480 with 1 Axes>"
            ]
          },
          "metadata": {},
          "output_type": "display_data"
        }
      ],
      "source": [
        "plt.imshow(out_model[0]['frames_recon'][0, 3, 5])\n",
        "# plt.imshow(out_model[0]['frames'][0, 1, 8])"
      ]
    },
    {
      "cell_type": "code",
      "execution_count": 29,
      "metadata": {},
      "outputs": [
        {
          "data": {
            "text/plain": [
              "dict_keys(['frames', 'frames_recon', 'worms', 'z_what_0', 'z_what_1', 'z_what_2', 'z_what_3', 'z_what_4', 'z_what_5', 'z_what_6', 'z_what_7', 'z_what_8', 'z_what_9', 'worm_frames', 'params', 'z_where_0', 'z_where_1', 'z_where_2', 'z_where_3', 'z_where_4', 'z_where_5', 'z_where_6', 'z_where_7', 'z_where_8', 'z_where_9'])"
            ]
          },
          "execution_count": 29,
          "metadata": {},
          "output_type": "execute_result"
        }
      ],
      "source": [
        "out_q[0].keys()"
      ]
    },
    {
      "cell_type": "code",
      "execution_count": 30,
      "metadata": {},
      "outputs": [
        {
          "data": {
            "text/plain": [
              "<matplotlib.image.AxesImage at 0x75403bfe98e0>"
            ]
          },
          "execution_count": 30,
          "metadata": {},
          "output_type": "execute_result"
        },
        {
          "data": {
            "image/png": "[encoded data removed]",
            "text/plain": [
              "<Figure size 640x480 with 1 Axes>"
            ]
          },
          "metadata": {},
          "output_type": "display_data"
        }
      ],
      "source": [
        "plt.imshow(out_q[0]['frames_recon'][0, 3, 5])\n",
        "# plt.imshow(out_q[0]['frames'][0, 1, 8])"
      ]
    },
    {
      "cell_type": "code",
      "execution_count": 31,
      "metadata": {},
      "outputs": [
        {
          "data": {
            "text/plain": [
              "dict_keys(['L', 'A', 'T', 'kw', 'ku', 'inc', 'dr', 'phase_1', 'phase_2', 'phase_3', 'alpha', 'z_where_0_0', 'z_where_0_1', 'z_where_0_2', 'z_where_0_3', 'z_where_0_4', 'z_where_0_5', 'z_where_0_6', 'z_where_0_7', 'z_where_0_8', 'z_where_0_9', 'z_where_1_0', 'z_where_1_1', 'z_where_1_2', 'z_where_1_3', 'z_where_1_4', 'z_where_1_5', 'z_where_1_6', 'z_where_1_7', 'z_where_1_8', 'z_where_1_9', 'z_what_0', 'z_what_1', 'z_what_2', 'z_what_3', 'z_what_4', 'z_what_5', 'z_what_6', 'z_what_7', 'z_what_8', 'z_what_9', 'frames'])"
            ]
          },
          "execution_count": 31,
          "metadata": {},
          "output_type": "execute_result"
        }
      ],
      "source": [
        "model_sample.keys()"
      ]
    },
    {
      "cell_type": "code",
      "execution_count": 32,
      "metadata": {},
      "outputs": [
        {
          "data": {
            "text/plain": [
              "Array([[ 0.40298247, -0.07229871],\n",
              "       [ 0.23274997, -0.04419579],\n",
              "       [ 0.07864868, -0.12179539],\n",
              "       [-0.09322466, -0.13690989],\n",
              "       [-0.19946286, -0.00096015],\n",
              "       [-0.23092093,  0.16868442]], dtype=float32)"
            ]
          },
          "execution_count": 32,
          "metadata": {},
          "output_type": "execute_result"
        }
      ],
      "source": [
        "out_q[0][\"worms\"][0, 5, 0, 0, :]"
      ]
    },
    {
      "cell_type": "code",
      "execution_count": 33,
      "metadata": {},
      "outputs": [],
      "source": [
        "out = out_q[0]"
      ]
    },
    {
      "cell_type": "code",
      "execution_count": 34,
      "metadata": {},
      "outputs": [
        {
          "data": {
            "text/plain": [
              "(1, 512, 10, 64, 64)"
            ]
          },
          "execution_count": 34,
          "metadata": {},
          "output_type": "execute_result"
        }
      ],
      "source": [
        "out['frames'].shape"
      ]
    },
    {
      "cell_type": "code",
      "execution_count": 35,
      "metadata": {},
      "outputs": [
        {
          "name": "stdout",
          "output_type": "stream",
          "text": [
            "[-0.5415801   0.67361104]\n",
            "[1.3681686e+19 1.4999849e+14]\n",
            "[0.04094052 0.25496703]\n",
            "[-2.8732969e+20 -2.3782976e+17]\n",
            "[-0.33076203  0.76335675]\n",
            "[9.777372e+19 6.179734e+15]\n",
            "[-0.9532397   0.40039438]\n",
            "[-1.9381492e+19  2.2139289e+18]\n",
            "[0.05426079 0.33570817]\n",
            "[7.3339471e+19 1.4518362e+17]\n",
            "[-0.9764161   0.43360114]\n",
            "[5.2162055e+17 2.9945350e+17]\n",
            "[0.3123763  0.55411947]\n",
            "[-1.7984846e+18  2.0364814e+15]\n",
            "[-2.4468935   0.46182415]\n",
            "[-1.5440251  0.4684603]\n",
            "[-0.2714171  0.6778105]\n",
            "[2.684430e+18 2.901691e+15]\n",
            "[0.25196424 0.79526746]\n",
            "[-8.3451118e+18  7.6818134e+14]\n"
          ]
        },
        {
          "data": {
            "image/png": "[encoded data removed]",
            "text/plain": [
              "<Figure size 1200x600 with 2 Axes>"
            ]
          },
          "metadata": {},
          "output_type": "display_data"
        },
        {
          "data": {
            "image/png": "[encoded data removed]",
            "text/plain": [
              "<Figure size 1200x600 with 2 Axes>"
            ]
          },
          "metadata": {},
          "output_type": "display_data"
        },
        {
          "data": {
            "image/png": "[encoded data removed]",
            "text/plain": [
              "<Figure size 1200x600 with 2 Axes>"
            ]
          },
          "metadata": {},
          "output_type": "display_data"
        },
        {
          "data": {
            "image/png": "[encoded data removed]",
            "text/plain": [
              "<Figure size 1200x600 with 2 Axes>"
            ]
          },
          "metadata": {},
          "output_type": "display_data"
        },
        {
          "data": {
            "image/png": "[encoded data removed]",
            "text/plain": [
              "<Figure size 1200x600 with 2 Axes>"
            ]
          },
          "metadata": {},
          "output_type": "display_data"
        },
        {
          "data": {
            "image/png": "[encoded data removed]",
            "text/plain": [
              "<Figure size 1200x600 with 2 Axes>"
            ]
          },
          "metadata": {},
          "output_type": "display_data"
        },
        {
          "data": {
            "image/png": "[encoded data removed]",
            "text/plain": [
              "<Figure size 1200x600 with 2 Axes>"
            ]
          },
          "metadata": {},
          "output_type": "display_data"
        },
        {
          "data": {
            "image/png": "[encoded data removed]",
            "text/plain": [
              "<Figure size 1200x600 with 2 Axes>"
            ]
          },
          "metadata": {},
          "output_type": "display_data"
        },
        {
          "data": {
            "image/png": "[encoded data removed]",
            "text/plain": [
              "<Figure size 1200x600 with 2 Axes>"
            ]
          },
          "metadata": {},
          "output_type": "display_data"
        },
        {
          "data": {
            "image/png": "[encoded data removed]",
            "text/plain": [
              "<Figure size 1200x600 with 2 Axes>"
            ]
          },
          "metadata": {},
          "output_type": "display_data"
        }
      ],
      "source": [
        "b = 3\n",
        "prop_cycle = plt.rcParams[\"axes.prop_cycle\"]\n",
        "colors = prop_cycle.by_key()[\"color\"]\n",
        "def animate(i):\n",
        "  fig, axes = plt.subplots(1, 2, figsize=(12, 6))\n",
        "  axes[0].cla()\n",
        "  # axes[0].imshow(test_data[b, i])\n",
        "  axes[0].imshow(out[\"frames\"][0, b, i])\n",
        "  axes[1].cla()\n",
        "  axes[1].imshow(out[\"frames_recon\"][0, b, i])\n",
        "  for d in range(2):\n",
        "    loc = out[f\"z_where_{i}\"][0, b, d]\n",
        "    print(loc)\n",
        "    where = 0.5 * (loc + 1) * (frame_size - 28) - 0.5\n",
        "    color = colors[d]\n",
        "    axes[0].add_patch(\n",
        "        Rectangle(where, 28, 28, edgecolor=color, lw=3, fill=False)\n",
        "    )\n",
        "for i in range(10):\n",
        "  animate(i)\n",
        "plt.rc(\"animation\", html=\"jshtml\")\n",
        "plt.tight_layout()\n",
        "# ani = animation.FuncAnimation(fig, animate, frames=range(10), interval=300)\n",
        "# writer = animation.PillowWriter(fps=15)\n",
        "# ani.save(\"wormsim.gif\", writer=writer)\n",
        "# plt.show()\n"
      ]
    },
    {
      "cell_type": "code",
      "execution_count": null,
      "metadata": {},
      "outputs": [],
      "source": []
    }
  ],
  "metadata": {
    "kernelspec": {
      "display_name": "Python 3",
      "language": "python",
      "name": "python3"
    },
    "language_info": {
      "codemirror_mode": {
        "name": "ipython",
        "version": 3
      },
      "file_extension": ".py",
      "mimetype": "text/x-python",
      "name": "python",
      "nbconvert_exporter": "python",
      "pygments_lexer": "ipython3",
      "version": "3.12.3"
    }
  },
  "nbformat": 4,
  "nbformat_minor": 0
}
