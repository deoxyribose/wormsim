{
 "cells": [
  {
   "cell_type": "code",
   "execution_count": 1,
   "metadata": {},
   "outputs": [
    {
     "name": "stderr",
     "output_type": "stream",
     "text": [
      "/home/frans/.local/lib/python3.12/site-packages/tqdm/auto.py:21: TqdmWarning: IProgress not found. Please update jupyter and ipywidgets. See https://ipywidgets.readthedocs.io/en/stable/user_install.html\n",
      "  from .autonotebook import tqdm as notebook_tqdm\n"
     ]
    }
   ],
   "source": [
    "import numpyro\n",
    "import numpyro.distributions as dist\n",
    "from numpyro.handlers import seed, trace\n",
    "import jax\n",
    "import jax.numpy as jnp\n",
    "from jax import random\n",
    "from jax.scipy.integrate import trapezoid\n",
    "import numpy as np\n",
    "\n",
    "from sim_utils import *\n",
    "from clip import *\n",
    "import matplotlib.pylab as plt"
   ]
  },
  {
   "cell_type": "code",
   "execution_count": 2,
   "metadata": {},
   "outputs": [],
   "source": [
    "def vmapped_sim_fn(sim_fn, params):\n",
    "    # print(jax.tree_map(lambda x: x.shape if hasattr(x, 'shape') else None, params))\n",
    "    if params['L'].ndim == 1:\n",
    "        return jax.vmap(sim_fn, in_axes=0, out_axes=0)(params)\n",
    "    else:\n",
    "        return jax.vmap(partial(vmapped_sim_fn, sim_fn), in_axes=0, out_axes=0)(params)"
   ]
  },
  {
   "cell_type": "code",
   "execution_count": 3,
   "metadata": {},
   "outputs": [],
   "source": [
    "def sim_worms_orig(nworms, batch_size, n_frames):\n",
    "    duration = 2\n",
    "    snapshots = 10\n",
    "    kpoints = 32\n",
    "    box_size = 64\n",
    "    with numpyro.plate('batch', batch_size, dim=-2):\n",
    "        with numpyro.plate('nworms', nworms, dim=-1):\n",
    "            L = numpyro.sample('L', dist.Uniform(23, 28))\n",
    "            # L = numpyro.sample('L', dist.Uniform(10, 15))\n",
    "            A = numpyro.sample('A', dist.Normal(1, 0.1))\n",
    "            T = numpyro.sample('T', dist.Normal(0.8, 0.1))\n",
    "            kw = numpyro.sample('kw', dist.Uniform(0, 2 * jnp.pi))\n",
    "            ku = numpyro.sample('ku', dist.Normal(jnp.pi, 1))\n",
    "            \n",
    "            inc = numpyro.sample('inc', dist.Uniform(0, 2 * jnp.pi))\n",
    "            dr = numpyro.sample('dr', dist.Uniform(0.2, 0.8))\n",
    "            phase_1 = numpyro.sample('phase_1', dist.Uniform(0, 2 * jnp.pi))\n",
    "            phase_2 = numpyro.sample('phase_2', dist.Uniform(0, 2 * jnp.pi))\n",
    "            phase_3 = numpyro.sample('phase_3', dist.Normal(0, 0.1))\n",
    "            alpha = numpyro.sample('alpha', dist.Normal(4, 4))\n",
    "\n",
    "            alpha = jnp.abs(alpha + 1.0)\n",
    "            half_box = box_size // 2\n",
    "            x0 = numpyro.sample('x0', dist.Uniform(-1, 1))\n",
    "            y0 = numpyro.sample('y0', dist.Uniform(-1, 1))\n",
    "            x0 = x0 * half_box\n",
    "            y0 = y0 * half_box\n",
    "\n",
    "            params = {'L': L, 'A': A, 'T': T, 'kw': kw, 'ku': ku, 'inc': inc, 'dr': dr, 'phase_1': phase_1, 'phase_2': phase_2, 'phase_3': phase_3, 'alpha': alpha, 'x0': x0, 'y0': y0}\n",
    "\n",
    "            numpyro.deterministic(\"params\", params)\n",
    "            \n",
    "            sim_fn = partial(\n",
    "                worm_simulation,\n",
    "                duration=duration,\n",
    "                snapshots=snapshots,\n",
    "                kpoints=kpoints,\n",
    "            )\n",
    "\n",
    "            with numpyro.plate('n_frames', n_frames):\n",
    "                worms = vmapped_sim_fn(sim_fn, params)\n",
    "                worms = worms + half_box\n",
    "                # subtract mean and divide by standard deviation\n",
    "                # worms = (worms - jnp.mean(worms, axis=(-5), keepdims=True)) / jnp.std(worms, axis=(-5), keepdims=True)\n",
    "                numpyro.deterministic('worms', worms)\n",
    "    return worms, params"
   ]
  },
  {
   "cell_type": "code",
   "execution_count": 4,
   "metadata": {},
   "outputs": [
    {
     "name": "stderr",
     "output_type": "stream",
     "text": [
      "2024-08-05 16:46:50.980703: W external/xla/xla/service/gpu/nvptx_compiler.cc:836] The NVIDIA driver's CUDA version is 12.2 which is older than the PTX compiler version (12.5.82). Because the driver is older than the PTX compiler version, XLA is disabling parallel compilation, which may slow down compilation. You should update your NVIDIA driver or use the NVIDIA-provided CUDA forward compatibility packages.\n"
     ]
    }
   ],
   "source": [
    "key, nworms, box_size = random.PRNGKey(0), 2, 64"
   ]
  },
  {
   "cell_type": "code",
   "execution_count": 5,
   "metadata": {},
   "outputs": [],
   "source": [
    "# seed and trace\n",
    "key, nworms, box_size = random.PRNGKey(0), 2, 64\n",
    "\n",
    "\n",
    "seeded_model = seed(sim_worms_orig, key)\n",
    "tr = trace(seeded_model).get_trace(nworms, 40_000, 10)"
   ]
  },
  {
   "cell_type": "code",
   "execution_count": 6,
   "metadata": {},
   "outputs": [
    {
     "data": {
      "text/plain": [
       "(40000, 2)"
      ]
     },
     "execution_count": 6,
     "metadata": {},
     "output_type": "execute_result"
    }
   ],
   "source": [
    "tr[\"params\"][\"value\"][\"L\"].shape"
   ]
  },
  {
   "cell_type": "code",
   "execution_count": 7,
   "metadata": {},
   "outputs": [
    {
     "data": {
      "text/plain": [
       "(40000, 2, 10, 32, 2)"
      ]
     },
     "execution_count": 7,
     "metadata": {},
     "output_type": "execute_result"
    }
   ],
   "source": [
    "tr['worms']['value'].shape"
   ]
  },
  {
   "cell_type": "code",
   "execution_count": 8,
   "metadata": {},
   "outputs": [
    {
     "name": "stderr",
     "output_type": "stream",
     "text": [
      "2024-08-05 16:46:58.555756: W external/xla/xla/service/hlo_rematerialization.cc:3005] Can't reduce memory use below 5.09GiB (5469342948 bytes) by rematerialization; only reduced to 6.14GiB (6596800080 bytes), down from 6.14GiB (6596800080 bytes) originally\n"
     ]
    }
   ],
   "source": [
    "worms = tr['worms']['value'].transpose(0, 2, 1, 3, 4)\n",
    "clips = jax.vmap(convert_to_clip, in_axes=(0, None))(worms, box_size)"
   ]
  },
  {
   "cell_type": "code",
   "execution_count": 10,
   "metadata": {},
   "outputs": [],
   "source": [
    "# save as npy\n",
    "np.save('worms_train_40k.npy', clips)\n"
   ]
  },
  {
   "cell_type": "code",
   "execution_count": null,
   "metadata": {},
   "outputs": [],
   "source": [
    "\n",
    "import pickle\n",
    "# save tr[\"params\"][\"value\"]\n",
    "\n",
    "with open(\"params_40k.pkl\", 'wb') as f:\n",
    "    pickle.dump(tr[\"params\"][\"value\"], f)"
   ]
  },
  {
   "cell_type": "code",
   "execution_count": 40,
   "metadata": {},
   "outputs": [
    {
     "data": {
      "text/plain": [
       "<matplotlib.collections.PathCollection at 0x7178f13c8590>"
      ]
     },
     "execution_count": 40,
     "metadata": {},
     "output_type": "execute_result"
    },
    {
     "data": {
      "image/png": "[encoded data removed]",
      "text/plain": [
       "<Figure size 640x480 with 1 Axes>"
      ]
     },
     "metadata": {},
     "output_type": "display_data"
    }
   ],
   "source": [
    "i = 1\n",
    "frame = 9\n",
    "plt.imshow(clips[i][frame])\n",
    "# plot points at means\n",
    "# plt.scatter(tr['x0']['value'], tr['y0']['value'])\n",
    "plt.scatter(worms.mean(axis=-2)[i, frame, ..., 0], worms.mean(axis=-2)[i, frame, ..., 1], c='r')\n",
    "# plt.scatter(tr['worm']['value'].mean(axis=-2)[0, ..., 0], tr['worm']['value'].mean(axis=-2)[0, ..., 1], c='r')"
   ]
  },
  {
   "cell_type": "code",
   "execution_count": null,
   "metadata": {},
   "outputs": [],
   "source": []
  }
 ],
 "metadata": {
  "kernelspec": {
   "display_name": "Python 3",
   "language": "python",
   "name": "python3"
  },
  "language_info": {
   "codemirror_mode": {
    "name": "ipython",
    "version": 3
   },
   "file_extension": ".py",
   "mimetype": "text/x-python",
   "name": "python",
   "nbconvert_exporter": "python",
   "pygments_lexer": "ipython3",
   "version": "3.12.3"
  }
 },
 "nbformat": 4,
 "nbformat_minor": 2
}
