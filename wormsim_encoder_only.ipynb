{
  "cells": [
    {
      "cell_type": "markdown",
      "metadata": {},
      "source": [
        "\n",
        "# Simulator-based unsupervised detection and tracking of worms\n",
        "\n",
        "**References**\n",
        "\n",
        "    1. Wu, Hao, et al. Amortized population Gibbs samplers with neural\n",
        "       sufficient statistics. ICML 2020.\n",
        "\n",
        "<img src=\"file://../_static/wormsim.gif\" align=\"center\">\n"
      ]
    },
    {
      "cell_type": "code",
      "execution_count": 1,
      "metadata": {
        "collapsed": false
      },
      "outputs": [
        {
          "name": "stderr",
          "output_type": "stream",
          "text": [
            "/home/frans/.local/lib/python3.12/site-packages/tqdm/auto.py:21: TqdmWarning: IProgress not found. Please update jupyter and ipywidgets. See https://ipywidgets.readthedocs.io/en/stable/user_install.html\n",
            "  from .autonotebook import tqdm as notebook_tqdm\n",
            "2024-08-07 13:37:05.209238: E external/local_xla/xla/stream_executor/cuda/cuda_fft.cc:485] Unable to register cuFFT factory: Attempting to register factory for plugin cuFFT when one has already been registered\n",
            "2024-08-07 13:37:05.218961: E external/local_xla/xla/stream_executor/cuda/cuda_dnn.cc:8454] Unable to register cuDNN factory: Attempting to register factory for plugin cuDNN when one has already been registered\n",
            "2024-08-07 13:37:05.221761: E external/local_xla/xla/stream_executor/cuda/cuda_blas.cc:1452] Unable to register cuBLAS factory: Attempting to register factory for plugin cuBLAS when one has already been registered\n",
            "2024-08-07 13:37:05.712024: W tensorflow/compiler/tf2tensorrt/utils/py_utils.cc:38] TF-TRT Warning: Could not find TensorRT\n"
          ]
        }
      ],
      "source": [
        "import argparse\n",
        "from functools import partial\n",
        "\n",
        "import coix\n",
        "import flax.linen as nn\n",
        "import jax\n",
        "from jax import random\n",
        "import jax.numpy as jnp\n",
        "import numpy as np\n",
        "import matplotlib.animation as animation\n",
        "from matplotlib.patches import Rectangle\n",
        "import matplotlib.pyplot as plt\n",
        "import numpyro\n",
        "import numpyro.distributions as dist\n",
        "import optax\n",
        "from optax import cosine_decay_schedule\n",
        "from optax import clip_by_global_norm\n",
        "import tensorflow as tf\n",
        "import tensorflow_datasets as tfds\n",
        "\n",
        "from sim_utils import *"
      ]
    },
    {
      "cell_type": "code",
      "execution_count": 2,
      "metadata": {
        "collapsed": false
      },
      "outputs": [],
      "source": [
        "def dataset_generator(file_path, n_data=-1):\n",
        "    ds = np.load(file_path, mmap_mode='r')\n",
        "    ds = ds[:n_data] if n_data != -1 else ds\n",
        "    for data in ds:\n",
        "        yield data\n",
        "\n",
        "def load_dataset(*, is_training, batch_size, n_data=-1, file_path=\"worms_train_40k.npy\"):\n",
        "    # Create a dataset from the generator\n",
        "    ds = tf.data.Dataset.from_generator(\n",
        "        dataset_generator,\n",
        "        args=(file_path, n_data),\n",
        "        output_signature=tf.TensorSpec(shape=(None, None, None), dtype=tf.float32)\n",
        "    )\n",
        "    \n",
        "    ds = ds.repeat()\n",
        "    if is_training:\n",
        "        ds = ds.shuffle(10 * batch_size, seed=0)\n",
        "    ds = ds.batch(batch_size)\n",
        "    \n",
        "    # Standardize the data between 0 and 1\n",
        "    ds = ds.map(lambda x: x / 0.80999994)\n",
        "    return iter(tfds.as_numpy(ds))\n",
        "\n",
        "def get_digit_mean():\n",
        "  ds, ds_info = tfds.load(\"mnist:3.0.1\", split=\"train\", with_info=True)\n",
        "  ds = tfds.as_numpy(ds.batch(ds_info.splits[\"train\"].num_examples))\n",
        "  digit_mean = next(iter(ds))[\"image\"].squeeze(-1).mean(axis=0)\n",
        "  return digit_mean / 255"
      ]
    },
    {
      "cell_type": "code",
      "execution_count": 3,
      "metadata": {},
      "outputs": [],
      "source": [
        "def vmapped_sim_fn(sim_fn, params):\n",
        "    if params['L'].ndim == 1:\n",
        "        return jax.vmap(sim_fn, in_axes=0, out_axes=0)(params)\n",
        "    else:\n",
        "        return jax.vmap(partial(vmapped_sim_fn, sim_fn), in_axes=0, out_axes=0)(params)"
      ]
    },
    {
      "cell_type": "code",
      "execution_count": 4,
      "metadata": {},
      "outputs": [],
      "source": [
        "def sim_worms(nworms, n_frames):\n",
        "    duration = 1.55\n",
        "    snapshots = 10\n",
        "    kpoints = 6\n",
        "    box_size = 64\n",
        "    L = numpyro.sample('L', dist.Uniform(23, 28).expand([nworms]).to_event())\n",
        "    A = numpyro.sample('A', dist.Normal(1, 0.1).expand([nworms]).to_event())\n",
        "    T = numpyro.sample('T', dist.Normal(0.8, 0.1).expand([nworms]).to_event())\n",
        "    kw = numpyro.sample('kw', dist.Uniform(0, 2 * jnp.pi).expand([nworms]).to_event())\n",
        "    ku = numpyro.sample('ku', dist.Normal(jnp.pi, 1).expand([nworms]).to_event())\n",
        "\n",
        "    inc = numpyro.sample('inc', dist.Uniform(0, 2 * jnp.pi).expand([nworms]).to_event())\n",
        "    dr = numpyro.sample('dr', dist.Uniform(0.2, 0.8).expand([nworms]).to_event())\n",
        "    phase_1 = numpyro.sample('phase_1', dist.Uniform(0, 2 * jnp.pi).expand([nworms]).to_event())\n",
        "    phase_2 = numpyro.sample('phase_2', dist.Uniform(0, 2 * jnp.pi).expand([nworms]).to_event())\n",
        "    phase_3 = numpyro.sample('phase_3', dist.Normal(0, 0.1).expand([nworms]).to_event())\n",
        "    alpha = numpyro.sample('alpha', dist.Normal(4, 4).expand([nworms]).to_event())\n",
        "    alpha = jnp.abs(alpha + 1.0)\n",
        "\n",
        "    x0 = numpyro.sample('x0', dist.Uniform(-1, 1).expand([nworms]).to_event())\n",
        "    y0 = numpyro.sample('y0', dist.Uniform(-1, 1).expand([nworms]).to_event())\n",
        "\n",
        "    params = {'L': L, 'A': A, 'T': T, 'kw': kw, 'ku': ku, 'inc': inc, 'dr': dr, 'phase_1': phase_1, 'phase_2': phase_2, 'phase_3': phase_3, 'alpha': alpha, 'x0': x0, 'y0': y0}\n",
        "    sim_fn = partial(\n",
        "        worm_simulation,\n",
        "        duration=duration,\n",
        "        snapshots=snapshots,\n",
        "        kpoints=kpoints,\n",
        "    )\n",
        "    worms = vmapped_sim_fn(sim_fn, params)\n",
        "    batch_size = worms.shape[1]\n",
        "    # normalize the worms\n",
        "    worms = worms - jnp.array([x0, y0]).reshape(-1, batch_size, nworms, 1, 1, 2)\n",
        "    worms = worms / ((28 + 23) / 2)\n",
        "    numpyro.deterministic('worms', worms)\n",
        "    return worms, x0, y0"
      ]
    },
    {
      "cell_type": "code",
      "execution_count": 5,
      "metadata": {
        "collapsed": false
      },
      "outputs": [],
      "source": [
        "def scale_and_translate(image, where, out_size):\n",
        "  translate = abs(image.shape[-1] - out_size) * (where[..., ::-1] + 1) / 2\n",
        "  return jax.image.scale_and_translate(\n",
        "      image,\n",
        "      (out_size, out_size),\n",
        "      (0, 1),\n",
        "      jnp.ones(2),\n",
        "      translate,\n",
        "      method=\"cubic\",\n",
        "      antialias=False,\n",
        "  )\n",
        "\n",
        "def scale_and_translate_variable_scale(image, where, scale, out_size):\n",
        "  translate = abs(image.shape[-1] - out_size) * (where[..., ::-1] + 1) / 2\n",
        "  return jax.image.scale_and_translate(\n",
        "      image,\n",
        "      (out_size, out_size),\n",
        "      (0, 1),\n",
        "      scale * jnp.ones(2),\n",
        "      translate,\n",
        "      method=\"cubic\",\n",
        "      antialias=False,\n",
        "  )\n",
        "\n",
        "def crop_frames(frames, z_where, digit_size=28):\n",
        "  # frames:           time.frame_size.frame_size\n",
        "  # z_where: (worm_frames).time.2\n",
        "  # out:     (digits).time.digit_size.digit_size\n",
        "  if frames.ndim == 2 and z_where.ndim == 1:\n",
        "    return scale_and_translate(frames, z_where, out_size=digit_size)\n",
        "  elif frames.ndim == 3 and z_where.ndim == 2:\n",
        "    in_axes = (0, 0)\n",
        "  elif frames.ndim == 3 and z_where.ndim == 3:\n",
        "    in_axes = (None, 0)\n",
        "  elif frames.ndim == z_where.ndim:\n",
        "    in_axes = (0, 0)\n",
        "  elif frames.ndim > z_where.ndim:\n",
        "    in_axes = (0, None)\n",
        "  else:\n",
        "    in_axes = (None, 0)\n",
        "  return jax.vmap(partial(crop_frames, digit_size=digit_size), in_axes)(\n",
        "      frames, z_where\n",
        "  )\n",
        "\n",
        "\n",
        "def embed_frames(worm_frames, z_where, frame_size=64):\n",
        "  # worm_frames:  (worm_frames).      .digit_size.digit_size\n",
        "  # z_where: (worm_frames).(time).2\n",
        "  # out:     (worm_frames).(time).frame_size.frame_size\n",
        "  if worm_frames.ndim == 2 and z_where.ndim == 1:\n",
        "    return scale_and_translate(worm_frames, z_where, out_size=frame_size)\n",
        "  elif worm_frames.ndim == 2 and z_where.ndim == 2:\n",
        "    in_axes = (None, 0)\n",
        "  elif worm_frames.ndim >= z_where.ndim:\n",
        "    in_axes = (0, 0)\n",
        "  else:\n",
        "    in_axes = (None, 0)\n",
        "  return jax.vmap(partial(embed_frames, frame_size=frame_size), in_axes)(\n",
        "      worm_frames, z_where\n",
        "  )\n",
        "\n",
        "def embed_worms(worm_frames, z_where, scale, frame_size=64):\n",
        "  # worm_frames:  (worm_frames).      .digit_size.digit_size\n",
        "  # z_where: (worm_frames).(time).2\n",
        "  # out:     (worm_frames).(time).frame_size.frame_size\n",
        "  if worm_frames.ndim == 2 and z_where.ndim == 1:\n",
        "    return scale_and_translate_variable_scale(worm_frames, z_where, scale, out_size=frame_size)\n",
        "  elif worm_frames.ndim == 2 and z_where.ndim == 2:\n",
        "    in_axes = (None, 0, 0)\n",
        "  elif worm_frames.ndim >= z_where.ndim:\n",
        "    in_axes = (0, 0, 0)\n",
        "  else:\n",
        "    in_axes = (None, 0, 0)\n",
        "  return jax.vmap(partial(embed_worms, frame_size=frame_size), in_axes)(\n",
        "      worm_frames, z_where, scale\n",
        "  )\n",
        "\n",
        "def conv2d(frames, worm_frames):\n",
        "  # frames:          (time).frame_size.frame_size\n",
        "  # worm_frames: (worm_frames).      .digit_size.digit_size\n",
        "  # out:    (worm_frames).(time).conv_size .conv_size\n",
        "  if frames.ndim == 2 and worm_frames.ndim == 2:\n",
        "    return jax.scipy.signal.convolve2d(frames, worm_frames, mode=\"valid\")\n",
        "  elif frames.ndim == worm_frames.ndim:\n",
        "    in_axes = (0, 0)\n",
        "  elif frames.ndim > worm_frames.ndim:\n",
        "    in_axes = (0, None)\n",
        "  else:\n",
        "    in_axes = (None, 0)\n",
        "  return jax.vmap(conv2d, in_axes=in_axes)(frames, worm_frames)\n",
        "\n",
        "def resize_batch(frames, size):\n",
        "  if frames.ndim == 2:\n",
        "    return jax.image.resize(frames, (size, size), method=\"cubic\")\n",
        "  elif frames.ndim > 2:\n",
        "    return jax.vmap(partial(resize_batch, size=size))(frames)\n",
        "\n",
        "# generate a size x size image of  circle\n",
        "def circle_image(size):\n",
        "    x = jnp.linspace(-1, 1, size)\n",
        "    y = jnp.linspace(-1, 1, size)\n",
        "    xx, yy = jnp.meshgrid(x, y)\n",
        "    circle = jnp.exp(-(xx ** 2 + yy ** 2)/0.4)\n",
        "    circle /= circle.max()\n",
        "    circle += jnp.abs(circle.min())\n",
        "    return circle\n",
        "\n",
        "# interpolate the sparse points outputted by the simulator\n",
        "def interpolate(worms, n_points=32):\n",
        "  if worms.ndim == 1:\n",
        "    return jnp.interp(jnp.linspace(0, 1, n_points), jnp.linspace(0, 1, worms.shape[0]), worms)\n",
        "  elif worms.ndim == 2:\n",
        "    return jax.vmap(partial(interpolate, n_points=n_points), in_axes=1, out_axes=1)(worms)\n",
        "  else:\n",
        "    return jax.vmap(partial(interpolate, n_points=n_points), in_axes=0)(worms)\n",
        "    \n",
        "# class EncoderWhat(nn.Module):\n",
        "\n",
        "#   @nn.compact\n",
        "#   def __call__(self, worm_frames):\n",
        "#     x = worm_frames.reshape(worm_frames.shape[:-2] + (-1,)) # flatten frame into vector\n",
        "#     x = nn.Dense(400)(x)\n",
        "#     x = nn.relu(x)\n",
        "#     x = nn.Dense(200)(x)\n",
        "#     x = nn.relu(x)\n",
        "\n",
        "#     x = x.sum(-2)  # sum/mean across time\n",
        "#     loc_raw = nn.Dense(10)(x)\n",
        "#     scale_raw = 0.5 * nn.Dense(10)(x)\n",
        "#     return loc_raw, jnp.exp(scale_raw)\n"
      ]
    },
    {
      "cell_type": "code",
      "execution_count": 6,
      "metadata": {},
      "outputs": [],
      "source": [
        "class EncoderWhat(nn.Module):\n",
        "  \"\"\"\n",
        "  Takes all worm frames and encodes them into a distribution over worm simulator parameters\n",
        "  \"\"\"\n",
        "\n",
        "  @nn.compact\n",
        "  def __call__(self, worm_frames, carry=None):\n",
        "    mappable_dims = worm_frames.shape[:-3]\n",
        "    \n",
        "    hidden_dim = 128\n",
        "\n",
        "    x = worm_frames.reshape(worm_frames.shape[:-2] + (-1,)) # flatten frame into vector\n",
        "    if carry is None:\n",
        "      carry = self.param('carry_init', \n",
        "                         lambda rng, shape: jnp.zeros(shape), \n",
        "                         mappable_dims + (hidden_dim,))\n",
        "    GRU = nn.scan(nn.GRUCell,\n",
        "                  in_axes=-2,\n",
        "                  out_axes=-2,\n",
        "                  variable_broadcast='params',\n",
        "                  split_rngs={'params': False}\n",
        "                  )(hidden_dim)\n",
        "    \n",
        "    x = nn.LayerNorm()(x)\n",
        "    carry, x = GRU(carry, x)\n",
        "    x = x[..., -1, :]\n",
        "    x = nn.Dense(64)(x)\n",
        "    x = nn.relu(x)\n",
        "    x = nn.LayerNorm()(x)\n",
        "    \n",
        "    x_L = nn.Dense(10)(x)\n",
        "    x_L = nn.relu(x_L)\n",
        "    x_L_loc = nn.Dense(1)(x_L)\n",
        "    # scale to 10-15\n",
        "    x_L_loc = nn.tanh(x_L_loc) * ((28 - 23) / 2) + (23 + 28) / 2\n",
        "    x_L_scale = 0.5 * nn.Dense(1)(x_L)\n",
        "\n",
        "    x_A = nn.Dense(10)(x)\n",
        "    x_A = nn.relu(x_A)\n",
        "    x_A_loc = nn.Dense(1)(x_A)\n",
        "    x_A_scale = 0.5 * nn.Dense(1)(x_A)\n",
        "\n",
        "    x_T = nn.Dense(10)(x)\n",
        "    x_T = nn.relu(x_T)\n",
        "    x_T_loc = nn.Dense(1)(x_T)\n",
        "    # constrain to positive\n",
        "    x_T_loc = nn.softplus(x_T_loc)\n",
        "    x_T_scale = 0.5 * nn.Dense(1)(x_T)\n",
        "\n",
        "    x_kw = nn.Dense(10)(x)\n",
        "    x_kw = nn.relu(x_kw)\n",
        "    x_kw_loc = nn.Dense(1)(x_kw)\n",
        "    # scale to 0-2pi\n",
        "    x_kw_loc = nn.tanh(x_kw_loc) * jnp.pi + jnp.pi\n",
        "    x_kw_scale = 0.5 * nn.Dense(1)(x_kw)\n",
        "\n",
        "    x_ku = nn.Dense(10)(x)\n",
        "    x_ku = nn.relu(x_ku)\n",
        "    x_ku_loc = nn.Dense(1)(x_ku)\n",
        "    x_ku_scale = 0.5 * nn.Dense(1)(x_ku)\n",
        "\n",
        "    x_inc = nn.Dense(10)(x)\n",
        "    x_inc = nn.relu(x_inc)\n",
        "    x_inc_loc = nn.Dense(1)(x_inc)\n",
        "    # scale to 0-2pi\n",
        "    x_inc_loc = nn.tanh(x_inc_loc) * jnp.pi + jnp.pi\n",
        "    x_inc_scale = 0.5 * nn.Dense(1)(x_inc)\n",
        "\n",
        "    x_dr = nn.Dense(10)(x)\n",
        "    x_dr = nn.relu(x_dr)\n",
        "    x_dr_loc = nn.Dense(1)(x_dr)\n",
        "    # scale to 0.2-0.8\n",
        "    x_dr_loc = nn.tanh(x_dr_loc) * 0.3 + 0.5\n",
        "    x_dr_scale = 0.5 * nn.Dense(1)(x_dr)\n",
        "\n",
        "    x_phase_1 = nn.Dense(10)(x)\n",
        "    x_phase_1 = nn.relu(x_phase_1)\n",
        "    x_phase_1_loc = nn.Dense(1)(x_phase_1)\n",
        "    # scale to 0-2pi\n",
        "    x_phase_1_loc = nn.tanh(x_phase_1_loc) * jnp.pi + jnp.pi\n",
        "    x_phase_1_scale = 0.5 * nn.Dense(1)(x_phase_1)\n",
        "\n",
        "    x_phase_2 = nn.Dense(10)(x)\n",
        "    x_phase_2 = nn.relu(x_phase_2)\n",
        "    x_phase_2_loc = nn.Dense(1)(x_phase_2)\n",
        "    # scale to 0-2pi\n",
        "    x_phase_2_loc = nn.tanh(x_phase_2_loc) * jnp.pi + jnp.pi\n",
        "    x_phase_2_scale = 0.5 * nn.Dense(1)(x_phase_2)\n",
        "\n",
        "    x_phase_3 = nn.Dense(10)(x)\n",
        "    x_phase_3 = nn.relu(x_phase_3)\n",
        "    x_phase_3_loc = nn.Dense(1)(x_phase_3)\n",
        "    x_phase_3_scale = 0.5 * nn.Dense(1)(x_phase_3)\n",
        "\n",
        "    x_alpha = nn.Dense(10)(x)\n",
        "    x_alpha = nn.relu(x_alpha)\n",
        "    x_alpha_loc = nn.Dense(1)(x_alpha)\n",
        "    x_alpha_scale = 0.5 * nn.Dense(1)(x_alpha)\n",
        "\n",
        "    x_x0_loc = nn.Dense(1)(x)\n",
        "    x_x0_loc = nn.tanh(x_x0_loc) * 1\n",
        "    x_x0_scale = 0.5 * nn.Dense(1)(x)\n",
        "\n",
        "    x_y0_loc = nn.Dense(1)(x)\n",
        "    x_y0_loc = nn.tanh(x_y0_loc) * 1\n",
        "    x_y0_scale = 0.5 * nn.Dense(1)(x)\n",
        "\n",
        "    return x_L_loc.squeeze(-1), jnp.exp(x_L_scale.squeeze(-1)), x_A_loc.squeeze(-1), jnp.exp(x_A_scale.squeeze(-1)), x_T_loc.squeeze(-1), jnp.exp(x_T_scale.squeeze(-1)), x_kw_loc.squeeze(-1), jnp.exp(x_kw_scale.squeeze(-1)), x_ku_loc.squeeze(-1), jnp.exp(x_ku_scale.squeeze(-1)), x_inc_loc.squeeze(-1), jnp.exp(x_inc_scale.squeeze(-1)), x_dr_loc.squeeze(-1), jnp.exp(x_dr_scale.squeeze(-1)), x_phase_1_loc.squeeze(-1), jnp.exp(x_phase_1_scale.squeeze(-1)), x_phase_2_loc.squeeze(-1), jnp.exp(x_phase_2_scale.squeeze(-1)), x_phase_3_loc.squeeze(-1), jnp.exp(x_phase_3_scale.squeeze(-1)), x_alpha_loc.squeeze(-1), jnp.exp(x_alpha_scale.squeeze(-1)), x_x0_loc.squeeze(-1), jnp.exp(x_x0_scale.squeeze(-1)), x_y0_loc.squeeze(-1), jnp.exp(x_y0_scale.squeeze(-1))\n",
        "\n",
        "\n",
        "\n",
        "# class EncoderWhere(nn.Module):\n",
        "#   \"\"\"\n",
        "#   MLP to encode the frame into a distribution over worm locations\n",
        "#   \"\"\"\n",
        "#   @nn.compact\n",
        "#   def __call__(self, frame_conv):\n",
        "#     x = frame_conv.reshape(frame_conv.shape[:-2] + (-1,))\n",
        "#     x = nn.softmax(x, -1)\n",
        "#     x = nn.Dense(200)(x)\n",
        "#     x = nn.relu(x)\n",
        "#     x = nn.Dense(200)(x)\n",
        "#     x = x.reshape(x.shape[:-1] + (2, 100))\n",
        "#     x = nn.relu(x)\n",
        "#     loc_raw = nn.Dense(2)(x[..., 0, :])\n",
        "#     scale_raw = 0.5 * nn.Dense(2)(x[..., 1, :])\n",
        "#     return nn.tanh(loc_raw), jnp.exp(scale_raw)\n",
        "\n",
        "\n",
        "class EncoderWhere(nn.Module):\n",
        "  # a CNN to encode the frame into a distribution over worm locations\n",
        "  @nn.compact\n",
        "  def __call__(self, frame_conv):\n",
        "    x = jnp.expand_dims(frame_conv, -1)\n",
        "    x = nn.Conv(features=8, kernel_size=(3, 3), strides=(2, 2))(x)\n",
        "    x = nn.relu(x)\n",
        "    x = nn.Conv(features=16, kernel_size=(3, 3), strides=(2, 2))(x)\n",
        "    x = nn.relu(x)\n",
        "    x = x.reshape(x.shape[:-3] + (-1,))\n",
        "    x = nn.Dense(128)(x)\n",
        "    x = x.reshape(x.shape[:-1] + (2, 64))\n",
        "    x = nn.relu(x)\n",
        "    loc_raw = nn.Dense(2)(x[..., 0, :])\n",
        "    scale_raw = 0.5 * nn.Dense(2)(x[..., 1, :])\n",
        "    return nn.tanh(loc_raw), jnp.exp(scale_raw)\n",
        "\n",
        "class DecoderWhat(nn.Module):\n",
        "  \"\"\"\n",
        "  Hardcoded decoder to plot worm coordinates on a frame\n",
        "  \"\"\"\n",
        "  @nn.compact\n",
        "  def __call__(self, worms):\n",
        "    # vmap interpolate over all worms\n",
        "    worms = interpolate(worms, n_points = 12)    \n",
        "\n",
        "    # make worm widths for all knots\n",
        "    # R = 0.8\n",
        "    R = nn.softplus(nn.Dense(1)(jnp.ones(1))) + 0.6\n",
        "    worm_scale = nn.softplus(nn.Dense(1)(jnp.ones(1))) * 2\n",
        "    # print(\"R:\", R)\n",
        "    K = worms.shape[-2]\n",
        "    i = jnp.arange(K)\n",
        "    r = R * jnp.abs(jnp.sin(jnp.arccos((i - K / 2) / (K / 2 + 0.2))))\n",
        "    r = jnp.tile(r, (worms.shape[:-2] + (1,)))\n",
        "\n",
        "    # draw the circles\n",
        "    circles = embed_worms(circle_image(4), worms * worm_scale, r, frame_size=28)\n",
        "    # overlay the circles\n",
        "    p = nn.sigmoid(nn.Dense(1)(circles.sum(-3)))\n",
        "    # # run p through a conv layer outputting the same shape\n",
        "    # x = jnp.expand_dims(p, -1)\n",
        "    # x = nn.Conv(features=1, kernel_size=(3, 3), strides=(1, 1))(x)\n",
        "    # x = nn.sigmoid(x)\n",
        "    # p = x.squeeze(-1)\n",
        "    # print(p)\n",
        "    return p\n",
        "\n",
        "\n",
        "class wormsimAutoEncoder(nn.Module):\n",
        "  digit_mean: jnp.ndarray\n",
        "  frame_size: int\n",
        "\n",
        "\n",
        "  def setup(self):\n",
        "    self.encode_what = EncoderWhat()\n",
        "    self.encode_where = EncoderWhere()\n",
        "    self.decode_what = DecoderWhat()\n",
        "\n",
        "  def __call__(self, frames):\n",
        "    D = 2\n",
        "    num_particles, batch_size, T, frame_size, frame_size = frames.shape\n",
        "    # Heuristic procedure to setup initial parameters.\n",
        "\n",
        "    z_where = []\n",
        "    for t in range(T):\n",
        "      frame = frames[..., t, :, :]\n",
        "      z_where_d = []\n",
        "      for d in range(D):\n",
        "        resized_frame = resize_batch(frame, 32)\n",
        "        z_where_t_d, _ = self.encode_where(resized_frame)\n",
        "        z_where_d.append(z_where_t_d)\n",
        "        if t == 0:\n",
        "          plt.figure()\n",
        "          plt.imshow(frame[0,0])\n",
        "          plt.figure()\n",
        "          plt.imshow(resized_frame[0,0])\n",
        "          print(z_where_t_d[0,0])\n",
        "      z_where_d = jnp.stack(z_where_d, -2)\n",
        "      z_where.append(z_where_d)\n",
        "    # z_where = jnp.stack(z_where, -3).transpose(0, 2, 1, 3)\n",
        "\n",
        "    z_where = jnp.stack(z_where, -3)\n",
        "    z_where = z_where.transpose(0, 1, 3, 2, 4)\n",
        "\n",
        "    # frames_conv = conv2d(frames, self.digit_mean)\n",
        "    # z_where, _ = self.encode_where(frames_conv)\n",
        "    # # print(z_where.shape)\n",
        "    # z_where = z_where.transpose(1, 0, 2, 3)\n",
        "\n",
        "    print(\"z_where.shape\", z_where.shape)\n",
        "    worm_frames = crop_frames(frames, z_where, 28)\n",
        "    # print(worm_frames.shape)\n",
        "    print(\"worm_frames.shape\", worm_frames.shape)\n",
        "    # z_what, _ = self.encode_what(worm_frames)\n",
        "    proposed_sim_params = self.encode_what(worm_frames)\n",
        "    print(\"L shape\", proposed_sim_params[0].shape)\n",
        "    # proposed_sim_params = jax.tree_map(lambda x: x.squeeze(-1), proposed_sim_params)\n",
        "    # x0, y0 = z_where[..., 0, 0].squeeze(), z_where[..., 0, 1].squeeze()\n",
        "    x0, y0 = z_where[..., 0, 0], z_where[..., 0, 1]\n",
        "    assert x0.shape == proposed_sim_params[0].shape, f\"x0.shape: {x0.shape}, proposed_sim_params[0].shape: {proposed_sim_params[0].shape}\"\n",
        "    worm_sim = numpyro.handlers.condition(sim_worms, {'L': proposed_sim_params[0], 'A': proposed_sim_params[2], 'T': proposed_sim_params[4], 'kw': proposed_sim_params[6], 'ku': proposed_sim_params[8], 'inc': proposed_sim_params[10], 'dr': proposed_sim_params[12], 'phase_1': proposed_sim_params[14], 'phase_2': proposed_sim_params[16], 'phase_3': proposed_sim_params[18], 'alpha': proposed_sim_params[20], 'x0': x0, 'y0': y0})\n",
        "    worm_trace = numpyro.handlers.trace(worm_sim).get_trace(D, T)\n",
        "    worms = worm_trace[\"worms\"][\"value\"]\n",
        "    # print(worms.shape)\n",
        "    print(\"worms.shape\", worms.shape)\n",
        "    print(worms.mean(), worms.std())\n",
        "\n",
        "    worm_frame_recon = self.decode_what(worms)\n",
        "    # print(worm_frame_recon.shape)\n",
        "    print(\"worm_frame_recon.shape\", worm_frame_recon.shape)\n",
        "    frames_recon = embed_frames(worm_frame_recon, z_where, self.frame_size)\n",
        "    # print(frames_recon.shape)\n",
        "    print(\"frames_recon.shape\", frames_recon.shape)\n",
        "    # plt.figure()\n",
        "    # plt.imshow(frames_recon[0,0,0,0])\n",
        "    # plt.figure()\n",
        "    # plt.imshow(frames_recon[0,0,0,9])\n",
        "    # check for nans\n",
        "    if jnp.any(jnp.isnan(frames_recon)):\n",
        "      print(\"frames_recon has nans\")\n",
        "    if jnp.any(jnp.isnan(worm_frame_recon)):\n",
        "      print(\"worm_frame_recon has nans\")\n",
        "    if jnp.any(jnp.isnan(worms)):\n",
        "      print(\"worms has nans\")\n",
        "      # print the proposed sim params where worms is nan\n",
        "      print(proposed_sim_params[0][jnp.isnan(worms)])\n",
        "    if jnp.any(jnp.isnan(worm_frames)):\n",
        "      print(\"worm_frames has nans\")\n",
        "    if jnp.any(jnp.isnan(frames)):\n",
        "      print(\"frames has nans\")\n",
        "    if jnp.any(jnp.isnan(z_where)):\n",
        "      print(\"z_where has nans\")\n",
        "    return frames_recon"
      ]
    },
    {
      "cell_type": "markdown",
      "metadata": {},
      "source": [
        "Then, we define the target and kernels as in Section 6.4.\n",
        "\n"
      ]
    },
    {
      "cell_type": "code",
      "execution_count": 7,
      "metadata": {
        "collapsed": false
      },
      "outputs": [],
      "source": [
        "def wormsim_target(network, inputs, D=3, T=10):\n",
        "   \n",
        "  worms, x0s, y0s = sim_worms(D, T)\n",
        "\n",
        "  worm_frames = network.decode_what(worms)\n",
        "\n",
        "  z_where = []\n",
        "  for d in range(D):\n",
        "    z_where_d = []\n",
        "    # z_where_d_t = jnp.array([x0s[d], y0s[d]])\n",
        "    z_where_d_t = jnp.zeros(2)\n",
        "    for t in range(T):\n",
        "      # worm_frame = network.decode_what(worms[..., t, d, :, :])\n",
        "      # worm_frames.append(worm_frame)\n",
        "      scale = 1 if t == 0 else 0.05\n",
        "      z_where_d_t = numpyro.sample(\n",
        "          f\"z_where_{d}_{t}\", dist.Normal(z_where_d_t, scale).to_event(1)\n",
        "      )\n",
        "      z_where_d.append(z_where_d_t)\n",
        "    z_where_d = jnp.stack(z_where_d, -2)\n",
        "    z_where.append(z_where_d)\n",
        "  z_where = jnp.stack(z_where, -3)\n",
        "  # z_where = z_where.squeeze()\n",
        "\n",
        "  # print(\"worm_frames target\", worm_frames.shape)\n",
        "  # print(\"z_where target\", z_where.shape)\n",
        "  p = embed_frames(worm_frames, z_where, network.frame_size)\n",
        "  # print(\"p.shape target\", p.shape)\n",
        "  p = dist.util.clamp_probs(p.sum(-4))  # sum across worm_frames\n",
        "  # print(\"summed p.shape target\", p.shape)\n",
        "  # print(\"inputs.shape\", inputs.shape)\n",
        "  frames = numpyro.sample(\"frames\", dist.Bernoulli(p).to_event(3), obs=inputs)\n",
        "\n",
        "  out = {\n",
        "      \"frames\": frames,\n",
        "      \"frames_recon\": p,\n",
        "      \"worms\": worms,\n",
        "      \"worm_frames\": jax.lax.stop_gradient(worm_frames),\n",
        "      # \"worm_frames\": worm_frames,\n",
        "      **{f\"z_where_{t}\": z_where[..., t, :] for t in range(T)},\n",
        "  }\n",
        "  return (out,)\n",
        "\n",
        "\n",
        "def kernel_where(network, inputs, D=2, t=0, T=10):\n",
        "  if not isinstance(inputs, dict):\n",
        "    # print('making inputs')\n",
        "    inputs = {\n",
        "        \"frames\": inputs,\n",
        "        \"worm_frames\": jnp.tile(network.digit_mean, (D, T, 1, 1)),\n",
        "    }\n",
        "\n",
        "  frame = inputs[\"frames\"][..., t, :, :]\n",
        "  z_where_t = []\n",
        "\n",
        "  for d in range(D):\n",
        "    # print(inputs[\"worm_frames\"].shape)\n",
        "    worm_frame = inputs[\"worm_frames\"][..., d, t, :, :]\n",
        "    # worm_frame = inputs[\"worm_frames\"][..., d, 0, :, :]\n",
        "    # print(\"frame shape where\", frame.shape)\n",
        "    # print(\"worm_frame shape where\", worm_frame.shape)\n",
        "    # x_conv = conv2d(frame, worm_frame)\n",
        "    resized_frame = resize_batch(frame, 32)\n",
        "    loc, scale = network.encode_where(resized_frame)\n",
        "    # print(loc.shape)\n",
        "    z_where_d_t = numpyro.sample(\n",
        "        f\"z_where_{d}_{t}\", dist.Normal(loc, scale).to_event(1)\n",
        "    )\n",
        "    z_where_t.append(z_where_d_t)\n",
        "    # print(\"worm_frame shape where\", worm_frame.shape)\n",
        "    # print(\"z_where_d_t shape where\", z_where_d_t.shape)\n",
        "    frame_recon = embed_frames(worm_frame, z_where_d_t, network.frame_size)\n",
        "    # print(\"frame_recon shape where\", frame_recon)\n",
        "    frame = frame - frame_recon\n",
        "    # frame = dist.util.clamp_probs(frame)\n",
        "    # if inputs[\"worm_frames\"].ndim > 4:\n",
        "    #   plt.figure()\n",
        "    #   plt.imshow(frame[0, 0])\n",
        "  z_where_t = jnp.stack(z_where_t, -2)\n",
        "  # print(\"z_where_t.shape where\", z_where_t.shape)\n",
        "  out = {**inputs, **{f\"z_where_{t}\": z_where_t}}\n",
        "  return (out,)\n",
        "\n",
        "\n",
        "# def kernel_where(network, inputs, D=2, t=0, T=10):  \n",
        "#   if not isinstance(inputs, dict):\n",
        "#     # print('making inputs')\n",
        "#     inputs = {\n",
        "#         \"frames\": inputs,\n",
        "#         \"worm_frames\": jnp.tile(network.digit_mean, (D, T, 1, 1)),\n",
        "#     }\n",
        "#     loc_shape = (5, 2)\n",
        "#   else:\n",
        "#     loc_shape = (10, 5, 2)\n",
        "\n",
        "#   z_where_t = []\n",
        "\n",
        "#   for d in range(D):\n",
        "#     loc, scale = jnp.zeros(loc_shape), jnp.ones(loc_shape)\n",
        "#     z_where_d_t = numpyro.sample(\n",
        "#         f\"z_where_{d}_{t}\", dist.TruncatedNormal(loc, scale, low=-1, high=1).to_event(1)\n",
        "#     )\n",
        "#     z_where_t.append(z_where_d_t)\n",
        "#   z_where_t = jnp.stack(z_where_t, -2)\n",
        "#   # print(\"z_where_t.shape where\", z_where_t.shape)\n",
        "#   out = {**inputs, **{f\"z_where_{t}\": z_where_t}}\n",
        "#   return (out,)\n",
        "\n",
        "\n",
        "def kernel_what(network, inputs, T=10):\n",
        "  z_where = jnp.stack([inputs[f\"z_where_{t}\"] for t in range(T)], -2)\n",
        "  # print(\"z_where kernel what\", z_where.shape)\n",
        "  worm_frames = crop_frames(inputs[\"frames\"], z_where, 28)\n",
        "  # print(\"worm_frames what\", worm_frames.shape)\n",
        "  proposed_sim_params = network.encode_what(worm_frames)\n",
        "  loc_L, scale_L, loc_A, scale_A, loc_T, scale_T, loc_kw, scale_kw, loc_ku, scale_ku, loc_inc, scale_inc, loc_dr, scale_dr, loc_phase_1, scale_phase_1, loc_phase_2, scale_phase_2, loc_phase_3, scale_phase_3, loc_alpha, scale_alpha, loc_x0, scale_x0, loc_y0, scale_y0 = proposed_sim_params\n",
        "  L = numpyro.sample('L', dist.TruncatedNormal(loc_L, scale_L, low=23, high=28).to_event(1))\n",
        "  A = numpyro.sample('A', dist.Normal(loc_A, scale_A).to_event(1))\n",
        "  T = numpyro.sample('T', dist.Normal(loc_T, scale_T).to_event(1))\n",
        "  kw = numpyro.sample('kw', dist.TruncatedNormal(loc_kw, scale_kw, low=0, high=2 * jnp.pi).to_event(1))\n",
        "  ku = numpyro.sample('ku', dist.Normal(loc_ku, scale_ku).to_event(1))\n",
        "  inc = numpyro.sample('inc', dist.TruncatedNormal(loc_inc, scale_inc, low=0, high=2 * jnp.pi).to_event(1))\n",
        "  dr = numpyro.sample('dr', dist.TruncatedNormal(loc_dr, scale_dr, low=0.2, high=0.8).to_event(1))\n",
        "  phase_1 = numpyro.sample('phase_1', dist.TruncatedNormal(loc_phase_1, scale_phase_1, low=0, high=2 * jnp.pi).to_event(1))\n",
        "  phase_2 = numpyro.sample('phase_2', dist.TruncatedNormal(loc_phase_2, scale_phase_2, low=0, high=2 * jnp.pi).to_event(1))\n",
        "  phase_3 = numpyro.sample('phase_3', dist.Normal(loc_phase_3, scale_phase_3).to_event(1))\n",
        "  alpha = numpyro.sample('alpha', dist.Normal(loc_alpha, scale_alpha).to_event(1))\n",
        "  x0 = numpyro.sample('x0', dist.TruncatedNormal(loc_x0, scale_x0, low=-1, high=1).to_event(1))\n",
        "  y0 = numpyro.sample('y0', dist.TruncatedNormal(loc_y0, scale_y0, low=-1, high=1).to_event(1))\n",
        "\n",
        "  out = {**inputs, **{'L': L, 'A': A, 'T': T, 'kw': kw, 'ku': ku, 'inc': inc, 'dr': dr, 'phase_1': phase_1, 'phase_2': phase_2, 'phase_3': phase_3, 'alpha': alpha, 'x0': x0, 'y0': y0}}\n",
        "  return (out,)"
      ]
    },
    {
      "cell_type": "markdown",
      "metadata": {},
      "source": [
        "Finally, we create the inference program, define the loss function,\n",
        "run the training loop, and plot the results.\n",
        "\n"
      ]
    },
    {
      "cell_type": "code",
      "execution_count": 8,
      "metadata": {
        "collapsed": false
      },
      "outputs": [],
      "source": [
        "D = 2\n",
        "def make_wormsim(params, wormsim_net, T=10, num_sweeps=5, num_particles=10):\n",
        "  network = coix.util.BindModule(wormsim_net, params)\n",
        "  # Add particle dimension and construct a program.\n",
        "  make_particle_plate = lambda: numpyro.plate(\"particle\", num_particles, dim=-2)\n",
        "  target = make_particle_plate()(partial(wormsim_target, network, D=D, T=T))\n",
        "  kernels = []\n",
        "  for t in range(T):\n",
        "    kernels.append(\n",
        "        make_particle_plate()(partial(kernel_where, network, D=D, t=t))\n",
        "    )\n",
        "  kernels.append(make_particle_plate()(partial(kernel_what, network, T=T)))\n",
        "  program = coix.algo.apgs(target, kernels, num_sweeps=num_sweeps)\n",
        "  return program\n",
        "\n",
        "\n",
        "def loss_fn(params, key, batch, wormsim_net, num_sweeps, num_particles):\n",
        "  # Prepare data for the program.\n",
        "  shuffle_rng, rng_key = random.split(key)\n",
        "  batch = random.permutation(shuffle_rng, batch, axis=1)\n",
        "  T = batch.shape[-3]\n",
        "  batch_size = batch.shape[-4]\n",
        "\n",
        "  # Run the program and get metrics.\n",
        "  program = make_wormsim(params, wormsim_net, T, num_sweeps, num_particles)\n",
        "  _, _, metrics = coix.traced_evaluate(program, seed=rng_key)(batch)\n",
        "  for metric_name in [\"log_Z\", \"log_density\", \"loss\"]:\n",
        "    metrics[metric_name] = metrics[metric_name] / batch.shape[0]\n",
        "  return metrics[\"loss\"], metrics\n",
        "\n"
      ]
    },
    {
      "cell_type": "code",
      "execution_count": 9,
      "metadata": {},
      "outputs": [],
      "source": [
        "class Args(argparse.Namespace):\n",
        "  batch_size = 5\n",
        "  # batch_size = 16\n",
        "  num_sweeps = 8\n",
        "  num_particles = 10\n",
        "  learning_rate = 1e-4\n",
        "  # learning_rate = 5e-5\n",
        "  # num_steps = 60_000\n",
        "  # num_steps = 40_000\n",
        "  # num_steps = 4000\n",
        "  num_steps = 2000\n",
        "  device = \"gpu\"\n",
        "\n",
        "args = Args()"
      ]
    },
    {
      "cell_type": "code",
      "execution_count": 10,
      "metadata": {},
      "outputs": [
        {
          "name": "stderr",
          "output_type": "stream",
          "text": [
            "WARNING: All log messages before absl::InitializeLog() is called are written to STDERR\n",
            "I0000 00:00:1723030626.204815   28859 cuda_executor.cc:1015] successful NUMA node read from SysFS had negative value (-1), but there must be at least one NUMA node, so returning NUMA node zero. See more at https://github.com/torvalds/linux/blob/v6.0/Documentation/ABI/testing/sysfs-bus-pci#L344-L355\n",
            "2024-08-07 13:37:06.227517: W tensorflow/core/common_runtime/gpu/gpu_device.cc:2343] Cannot dlopen some GPU libraries. Please make sure the missing libraries mentioned above are installed properly if you would like to use GPU. Follow the guide at https://www.tensorflow.org/install/gpu for how to download and setup the required libraries for your platform.\n",
            "Skipping registering GPU devices...\n",
            "2024-08-07 13:37:07.295998: W external/xla/xla/service/gpu/nvptx_compiler.cc:836] The NVIDIA driver's CUDA version is 12.2 which is older than the PTX compiler version (12.5.82). Because the driver is older than the PTX compiler version, XLA is disabling parallel compilation, which may slow down compilation. You should update your NVIDIA driver or use the NVIDIA-provided CUDA forward compatibility packages.\n"
          ]
        },
        {
          "name": "stdout",
          "output_type": "stream",
          "text": [
            "[ 0.00309774 -0.04063676]\n",
            "[ 0.00309774 -0.04063676]\n",
            "z_where.shape (10, 5, 2, 10, 2)\n",
            "worm_frames.shape (10, 5, 2, 10, 28, 28)\n",
            "L shape (10, 5, 2)\n",
            "worms.shape (10, 5, 2, 10, 6, 2)\n",
            "0.0006352395 0.20058015\n",
            "worm_frame_recon.shape (10, 5, 2, 10, 28, 1)\n",
            "frames_recon.shape (10, 5, 2, 10, 64, 64)\n"
          ]
        },
        {
          "data": {
            "image/png": "[encoded data removed]",
            "text/plain": [
              "<Figure size 640x480 with 1 Axes>"
            ]
          },
          "metadata": {},
          "output_type": "display_data"
        },
        {
          "data": {
            "image/png": "[encoded data removed]",
            "text/plain": [
              "<Figure size 640x480 with 1 Axes>"
            ]
          },
          "metadata": {},
          "output_type": "display_data"
        },
        {
          "data": {
            "image/png": "[encoded data removed]",
            "text/plain": [
              "<Figure size 640x480 with 1 Axes>"
            ]
          },
          "metadata": {},
          "output_type": "display_data"
        },
        {
          "data": {
            "image/png": "[encoded data removed]",
            "text/plain": [
              "<Figure size 640x480 with 1 Axes>"
            ]
          },
          "metadata": {},
          "output_type": "display_data"
        }
      ],
      "source": [
        "lr = args.learning_rate\n",
        "num_steps = args.num_steps\n",
        "batch_size = args.batch_size\n",
        "num_sweeps = args.num_sweeps\n",
        "num_particles = args.num_particles\n",
        "\n",
        "train_ds = load_dataset(is_training=True, batch_size=batch_size, n_data=50)\n",
        "# train_ds = load_dataset(is_training=True, batch_size=batch_size, n_data=-1)\n",
        "\n",
        "test_ds = load_dataset(is_training=False, batch_size=batch_size)\n",
        "digit_mean = get_digit_mean()\n",
        "# scale down digit_mean to half the size\n",
        "# digit_mean = jax.image.resize(digit_mean, (14, 14), method=\"cubic\")\n",
        "test_data = next(test_ds)\n",
        "frame_size = test_data.shape[-1]\n",
        "wormsim_net = wormsimAutoEncoder(digit_mean=digit_mean, frame_size=frame_size)\n",
        "test_data_tiled = np.tile(test_data, ((num_particles,) + ((1,) * test_data.ndim)))\n",
        "init_params = wormsim_net.init(jax.random.PRNGKey(0), test_data_tiled)\n"
      ]
    },
    {
      "cell_type": "code",
      "execution_count": 11,
      "metadata": {},
      "outputs": [],
      "source": [
        "# lr_schedule = cosine_decay_schedule(lr, num_steps, 0.5)\n",
        "lr_schedule = cosine_decay_schedule(lr, num_steps, 1.0)\n",
        "\n",
        "opt = optax.chain(\n",
        "    # clip_by_global_norm(100.0),\n",
        "    optax.adam(lr_schedule),\n",
        ")"
      ]
    },
    {
      "cell_type": "code",
      "execution_count": 12,
      "metadata": {},
      "outputs": [
        {
          "name": "stdout",
          "output_type": "stream",
          "text": [
            "Compiling the first train step...\n",
            "Time to compile a train step: 256.6369471549988\n",
            "=====\n",
            "Step 100  | ess     1.0251 | log_Z -34497.7305 | log_density -34382.0586 | loss 3059202.2500 | squared_grad_norm 704043392.0000\n",
            "Step 200  | ess     1.0713 | log_Z -32571.5840 | log_density -32362.8125 | loss 2881672.7500 | squared_grad_norm 704209472.0000\n",
            "Step 300  | ess     1.4224 | log_Z -43939.8633 | log_density -43715.7070 | loss 3873698.0000 | squared_grad_norm 614293312.0000\n",
            "Step 400  | ess     1.1110 | log_Z -27266.3164 | log_density -27031.4277 | loss 2405616.7500 | squared_grad_norm 427997472.0000\n",
            "Step 500  | ess     1.4021 | log_Z -39239.6445 | log_density -38988.3203 | loss 3478436.7500 | squared_grad_norm 413689568.0000\n",
            "Step 600  | ess     1.5249 | log_Z -33974.4570 | log_density -33741.7656 | loss 3037882.0000 | squared_grad_norm 381842272.0000\n",
            "Step 700  | ess     1.2477 | log_Z -35424.4492 | log_density -35177.7188 | loss 3146620.2500 | squared_grad_norm 295900672.0000\n",
            "Step 800  | ess     1.2029 | log_Z -27436.2012 | log_density -27207.1719 | loss 2452457.5000 | squared_grad_norm 437032928.0000\n",
            "Step 900  | ess     1.4049 | log_Z -37798.7617 | log_density -37558.1406 | loss 3338426.7500 | squared_grad_norm 425974464.0000\n",
            "Step 1000 | ess     1.3473 | log_Z -35932.0156 | log_density -35706.8438 | loss 3175883.2500 | squared_grad_norm 349903840.0000\n",
            "Step 1100 | ess     1.1826 | log_Z -34027.3867 | log_density -33800.2773 | loss 3020156.7500 | squared_grad_norm 321304928.0000\n",
            "Step 1200 | ess     1.3006 | log_Z -26103.9277 | log_density -25873.1602 | loss 2345662.5000 | squared_grad_norm 305294304.0000\n",
            "Step 1300 | ess     1.4025 | log_Z -34942.6367 | log_density -34723.3320 | loss 3082497.0000 | squared_grad_norm 300232672.0000\n",
            "Step 1400 | ess     1.5055 | log_Z -37461.3086 | log_density -37216.7344 | loss 3320658.7500 | squared_grad_norm 277465728.0000\n",
            "Step 1500 | ess     1.3411 | log_Z -39645.1719 | log_density -39398.2266 | loss 3508148.5000 | squared_grad_norm 260456848.0000\n",
            "Step 1600 | ess     1.4221 | log_Z -34986.9648 | log_density -34757.1523 | loss 3103610.0000 | squared_grad_norm 345254848.0000\n",
            "Step 1700 | ess     1.7795 | log_Z -35495.2461 | log_density -35249.1367 | loss 3137669.0000 | squared_grad_norm 146305856.0000\n",
            "Step 1800 | ess     1.8800 | log_Z -31504.3789 | log_density -31275.8809 | loss 2781599.7500 | squared_grad_norm 230390848.0000\n",
            "Step 1900 | ess     1.1591 | log_Z -37731.1172 | log_density -37513.8789 | loss 3352773.2500 | squared_grad_norm 315815808.0000\n",
            "Step 2000 | ess     1.6189 | log_Z -31598.7695 | log_density -31356.7715 | loss 2779296.0000 | squared_grad_norm 342829632.0000\n"
          ]
        }
      ],
      "source": [
        "# with jax.disable_jit():\n",
        "wormsim_params, _ = coix.util.train(\n",
        "    partial(\n",
        "        loss_fn,\n",
        "        wormsim_net=wormsim_net,\n",
        "        num_sweeps=num_sweeps,\n",
        "        num_particles=num_particles,\n",
        "    ),\n",
        "    init_params,\n",
        "    # optax.adam(lr),\n",
        "    opt,\n",
        "    num_steps,\n",
        "    train_ds,\n",
        ")\n"
      ]
    },
    {
      "cell_type": "code",
      "execution_count": 13,
      "metadata": {},
      "outputs": [],
      "source": [
        "# load worm_learned_params.npy\n",
        "\n",
        "# wormsim_params = np.load(\"worm_learned_params.npy\", allow_pickle=True).item()\n",
        "\n",
        "np.save(\"worm_learned_params.npy\", wormsim_params)"
      ]
    },
    {
      "cell_type": "code",
      "execution_count": 14,
      "metadata": {},
      "outputs": [],
      "source": [
        "# wormsim_params = np.load(\"worm_learned_params_longrun.npy\", allow_pickle=True).item()\n",
        "wormsim_params = np.load(\"worm_learned_params.npy\", allow_pickle=True).item()"
      ]
    },
    {
      "cell_type": "code",
      "execution_count": 15,
      "metadata": {},
      "outputs": [],
      "source": [
        "train_ds = load_dataset(is_training=True, batch_size=batch_size, n_data=1)"
      ]
    },
    {
      "cell_type": "code",
      "execution_count": 16,
      "metadata": {},
      "outputs": [],
      "source": [
        "foo = next(train_ds)"
      ]
    },
    {
      "cell_type": "code",
      "execution_count": 17,
      "metadata": {},
      "outputs": [
        {
          "data": {
            "text/plain": [
              "(5, 10, 64, 64)"
            ]
          },
          "execution_count": 17,
          "metadata": {},
          "output_type": "execute_result"
        }
      ],
      "source": [
        "foo.shape"
      ]
    },
    {
      "cell_type": "code",
      "execution_count": 18,
      "metadata": {},
      "outputs": [],
      "source": [
        "T_test = test_data.shape[-3]\n",
        "batch_size_test = test_data.shape[-4]\n",
        "program = make_wormsim(\n",
        "    wormsim_params, wormsim_net, T_test, num_sweeps, num_particles\n",
        "    # wormsim_params, wormsim_net, T_test, 10 * num_sweeps, num_particles\n",
        ")\n"
      ]
    },
    {
      "cell_type": "code",
      "execution_count": 19,
      "metadata": {},
      "outputs": [],
      "source": [
        "\n",
        "out, _, _ = coix.traced_evaluate(program, seed=jax.random.PRNGKey(1))(\n",
        "    # test_data\n",
        "    foo\n",
        ")\n",
        "out = out[0]\n"
      ]
    },
    {
      "cell_type": "code",
      "execution_count": 20,
      "metadata": {},
      "outputs": [
        {
          "name": "stdout",
          "output_type": "stream",
          "text": [
            "(test_data[b, i] > 0.5).sum() 67\n",
            "56\n",
            "(test_data[b, i] > 0.5).sum() 67\n",
            "56\n",
            "(test_data[b, i] > 0.5).sum() 78\n",
            "55\n",
            "(test_data[b, i] > 0.5).sum() 40\n",
            "53\n",
            "(test_data[b, i] > 0.5).sum() 38\n",
            "56\n",
            "(test_data[b, i] > 0.5).sum() 54\n",
            "55\n",
            "(test_data[b, i] > 0.5).sum() 37\n",
            "56\n",
            "(test_data[b, i] > 0.5).sum() 31\n",
            "55\n",
            "(test_data[b, i] > 0.5).sum() 40\n",
            "56\n",
            "(test_data[b, i] > 0.5).sum() 43\n",
            "55\n",
            "(test_data[b, i] > 0.5).sum() 45\n",
            "56\n"
          ]
        },
        {
          "data": {
            "image/png": "[encoded data removed]",
            "text/plain": [
              "<Figure size 1200x600 with 2 Axes>"
            ]
          },
          "metadata": {},
          "output_type": "display_data"
        }
      ],
      "source": [
        "particle = 0\n",
        "b = 2\n",
        "prop_cycle = plt.rcParams[\"axes.prop_cycle\"]\n",
        "colors = prop_cycle.by_key()[\"color\"]\n",
        "fig, axes = plt.subplots(1, 2, figsize=(12, 6))\n",
        "def animate(i):\n",
        "  axes[0].cla()\n",
        "  axes[0].imshow(test_data[b, i])\n",
        "  axes[1].cla()\n",
        "  axes[1].imshow(out[\"frames_recon\"][particle, b, i])\n",
        "  print(\"(test_data[b, i] > 0.5).sum()\", (test_data[b, i] > 0.2).sum())\n",
        "  print((out[\"frames_recon\"][particle, b, i] > 0.2).sum())\n",
        "  for d in range(2):\n",
        "    foo = out[f\"z_where_{i}\"][particle, b, d]\n",
        "    # foo = jnp.array([-1, 1])\n",
        "    # print(foo)\n",
        "    where = 0.5 * (foo + 1) * (frame_size - 28) - 0.5\n",
        "    color = colors[d]\n",
        "    axes[0].add_patch(\n",
        "        Rectangle(where, 28, 28, edgecolor=color, lw=3, fill=False)\n",
        "    )\n",
        "plt.rc(\"animation\", html=\"jshtml\")\n",
        "plt.tight_layout()\n",
        "ani = animation.FuncAnimation(fig, animate, frames=range(10), interval=300)\n",
        "writer = animation.PillowWriter(fps=15)\n",
        "ani.save(\"worms.gif\", writer=writer)\n",
        "plt.show()\n"
      ]
    },
    {
      "cell_type": "code",
      "execution_count": 21,
      "metadata": {},
      "outputs": [
        {
          "name": "stdout",
          "output_type": "stream",
          "text": [
            "0.0\n",
            "1.0\n",
            "1.1754944e-38\n",
            "0.5673262\n",
            "0.0\n",
            "1.0\n",
            "1.1754944e-38\n",
            "0.54673713\n",
            "0.0\n",
            "1.0\n",
            "1.1754944e-38\n",
            "0.49831522\n",
            "0.0\n",
            "1.0\n",
            "1.1754944e-38\n",
            "0.5453269\n",
            "0.0\n",
            "1.0\n",
            "1.1754944e-38\n",
            "0.55270857\n",
            "0.0\n",
            "1.0\n",
            "1.1754944e-38\n",
            "0.4876182\n",
            "0.0\n",
            "1.0\n",
            "1.1754944e-38\n",
            "0.5755038\n",
            "0.0\n",
            "1.0\n",
            "1.1754944e-38\n",
            "0.4978096\n",
            "0.0\n",
            "1.0\n",
            "1.1754944e-38\n",
            "0.5402209\n",
            "0.0\n",
            "1.0\n",
            "1.1754944e-38\n",
            "0.54236805\n"
          ]
        },
        {
          "data": {
            "image/png": "[encoded data removed]",
            "text/plain": [
              "<Figure size 1200x600 with 2 Axes>"
            ]
          },
          "metadata": {},
          "output_type": "display_data"
        },
        {
          "data": {
            "image/png": "[encoded data removed]",
            "text/plain": [
              "<Figure size 1200x600 with 2 Axes>"
            ]
          },
          "metadata": {},
          "output_type": "display_data"
        },
        {
          "data": {
            "image/png": "[encoded data removed]",
            "text/plain": [
              "<Figure size 1200x600 with 2 Axes>"
            ]
          },
          "metadata": {},
          "output_type": "display_data"
        },
        {
          "data": {
            "image/png": "[encoded data removed]",
            "text/plain": [
              "<Figure size 1200x600 with 2 Axes>"
            ]
          },
          "metadata": {},
          "output_type": "display_data"
        },
        {
          "data": {
            "image/png": "[encoded data removed]",
            "text/plain": [
              "<Figure size 1200x600 with 2 Axes>"
            ]
          },
          "metadata": {},
          "output_type": "display_data"
        },
        {
          "data": {
            "image/png": "[encoded data removed]",
            "text/plain": [
              "<Figure size 1200x600 with 2 Axes>"
            ]
          },
          "metadata": {},
          "output_type": "display_data"
        },
        {
          "data": {
            "image/png": "[encoded data removed]",
            "text/plain": [
              "<Figure size 1200x600 with 2 Axes>"
            ]
          },
          "metadata": {},
          "output_type": "display_data"
        },
        {
          "data": {
            "image/png": "[encoded data removed]",
            "text/plain": [
              "<Figure size 1200x600 with 2 Axes>"
            ]
          },
          "metadata": {},
          "output_type": "display_data"
        },
        {
          "data": {
            "image/png": "[encoded data removed]",
            "text/plain": [
              "<Figure size 1200x600 with 2 Axes>"
            ]
          },
          "metadata": {},
          "output_type": "display_data"
        },
        {
          "data": {
            "image/png": "[encoded data removed]",
            "text/plain": [
              "<Figure size 1200x600 with 2 Axes>"
            ]
          },
          "metadata": {},
          "output_type": "display_data"
        }
      ],
      "source": [
        "b = 0\n",
        "prop_cycle = plt.rcParams[\"axes.prop_cycle\"]\n",
        "colors = prop_cycle.by_key()[\"color\"]\n",
        "def animate(i):\n",
        "  fig, axes = plt.subplots(1, 2, figsize=(12, 6))\n",
        "  axes[0].cla()\n",
        "  axes[0].imshow(test_data[b, i])\n",
        "  axes[1].cla()\n",
        "  axes[1].imshow(out[\"frames_recon\"][0, b, i])\n",
        "  print(test_data[b, i].min())\n",
        "  print(test_data[b, i].max())\n",
        "  print(out[\"frames_recon\"][0, b, i].min())\n",
        "  print(out[\"frames_recon\"][0, b, i].max())\n",
        "  for d in range(2):\n",
        "    foo = out[f\"z_where_{i}\"][0, b, d]\n",
        "    # foo = jnp.array([-1, 1])\n",
        "    where = 0.5 * (foo + 1) * (frame_size - 28) - 0.5\n",
        "    color = colors[d]\n",
        "    axes[0].add_patch(\n",
        "        Rectangle(where, 28, 28, edgecolor=color, lw=3, fill=False)\n",
        "    )\n",
        "for i in range(10):\n",
        "  animate(i)\n",
        "plt.rc(\"animation\", html=\"jshtml\")\n",
        "plt.tight_layout()\n",
        "# ani = animation.FuncAnimation(fig, animate, frames=range(10), interval=300)\n",
        "# writer = animation.PillowWriter(fps=15)\n",
        "# ani.save(\"wormsim.gif\", writer=writer)\n",
        "# plt.show()\n"
      ]
    },
    {
      "cell_type": "code",
      "execution_count": 22,
      "metadata": {},
      "outputs": [],
      "source": [
        "i = 0\n",
        "b = 3\n",
        "d = 0\n",
        "where = 0.5 * (out[f\"z_where_{i}\"][0, b, d] + 1) * (frame_size - 14) - 0.5"
      ]
    },
    {
      "cell_type": "code",
      "execution_count": 23,
      "metadata": {},
      "outputs": [
        {
          "data": {
            "text/plain": [
              "Array([32.342037, 15.461836], dtype=float32)"
            ]
          },
          "execution_count": 23,
          "metadata": {},
          "output_type": "execute_result"
        }
      ],
      "source": [
        "where"
      ]
    },
    {
      "cell_type": "code",
      "execution_count": 24,
      "metadata": {},
      "outputs": [
        {
          "data": {
            "text/plain": [
              "Array([ 0.31368148, -0.36152655], dtype=float32)"
            ]
          },
          "execution_count": 24,
          "metadata": {},
          "output_type": "execute_result"
        }
      ],
      "source": [
        "out[f\"z_where_{i}\"][0, b, d]"
      ]
    },
    {
      "cell_type": "code",
      "execution_count": 25,
      "metadata": {},
      "outputs": [
        {
          "data": {
            "text/plain": [
              "Array([32.342037, 15.461836], dtype=float32)"
            ]
          },
          "execution_count": 25,
          "metadata": {},
          "output_type": "execute_result"
        }
      ],
      "source": [
        "where"
      ]
    },
    {
      "cell_type": "code",
      "execution_count": 26,
      "metadata": {},
      "outputs": [
        {
          "data": {
            "text/plain": [
              "dict_keys(['frames', 'frames_recon', 'worm_frames', 'worms', 'z_where_0', 'z_where_1', 'z_where_2', 'z_where_3', 'z_where_4', 'z_where_5', 'z_where_6', 'z_where_7', 'z_where_8', 'z_where_9'])"
            ]
          },
          "execution_count": 26,
          "metadata": {},
          "output_type": "execute_result"
        }
      ],
      "source": [
        "out.keys()"
      ]
    },
    {
      "cell_type": "code",
      "execution_count": 27,
      "metadata": {},
      "outputs": [],
      "source": [
        "network = coix.util.BindModule(wormsim_net, wormsim_params)"
      ]
    },
    {
      "cell_type": "code",
      "execution_count": 28,
      "metadata": {},
      "outputs": [
        {
          "data": {
            "text/plain": [
              "(5, 10, 64, 64)"
            ]
          },
          "execution_count": 28,
          "metadata": {},
          "output_type": "execute_result"
        }
      ],
      "source": [
        "test_data.shape"
      ]
    },
    {
      "cell_type": "code",
      "execution_count": 29,
      "metadata": {},
      "outputs": [
        {
          "data": {
            "text/plain": [
              "(1024, 128)"
            ]
          },
          "execution_count": 29,
          "metadata": {},
          "output_type": "execute_result"
        }
      ],
      "source": [
        "wormsim_params['params']['encode_where']['Dense_0']['kernel'].shape"
      ]
    },
    {
      "cell_type": "code",
      "execution_count": 30,
      "metadata": {},
      "outputs": [
        {
          "data": {
            "text/plain": [
              "<matplotlib.image.AxesImage at 0x775ee6595c40>"
            ]
          },
          "execution_count": 30,
          "metadata": {},
          "output_type": "execute_result"
        },
        {
          "data": {
            "image/png": "[encoded data removed]",
            "text/plain": [
              "<Figure size 640x480 with 1 Axes>"
            ]
          },
          "metadata": {},
          "output_type": "display_data"
        },
        {
          "data": {
            "image/png": "[encoded data removed]",
            "text/plain": [
              "<Figure size 640x480 with 1 Axes>"
            ]
          },
          "metadata": {},
          "output_type": "display_data"
        }
      ],
      "source": [
        "plt.figure()\n",
        "plt.imshow(test_data[0, 0])\n",
        "plt.figure()\n",
        "plt.imshow(test_data[1, 1])"
      ]
    },
    {
      "cell_type": "code",
      "execution_count": 31,
      "metadata": {},
      "outputs": [
        {
          "ename": "ScopeParamShapeError",
          "evalue": "Initializer expected to generate shape (1024, 128) but got shape (2704, 128) instead for parameter \"kernel\" in \"/encode_where/Dense_0\". (https://flax.readthedocs.io/en/latest/api_reference/flax.errors.html#flax.errors.ScopeParamShapeError)",
          "output_type": "error",
          "traceback": [
            "\u001b[0;31m---------------------------------------------------------------------------\u001b[0m",
            "\u001b[0;31mScopeParamShapeError\u001b[0m                      Traceback (most recent call last)",
            "Cell \u001b[0;32mIn[31], line 1\u001b[0m\n\u001b[0;32m----> 1\u001b[0m bar, bar_scale \u001b[38;5;241m=\u001b[39m \u001b[43mnetwork\u001b[49m\u001b[38;5;241;43m.\u001b[39;49m\u001b[43mencode_where\u001b[49m\u001b[43m(\u001b[49m\u001b[43mnp\u001b[49m\u001b[38;5;241;43m.\u001b[39;49m\u001b[43mrandom\u001b[49m\u001b[38;5;241;43m.\u001b[39;49m\u001b[43mrandn\u001b[49m\u001b[43m(\u001b[49m\u001b[38;5;241;43m51\u001b[39;49m\u001b[43m,\u001b[49m\u001b[43m \u001b[49m\u001b[38;5;241;43m51\u001b[39;49m\u001b[43m)\u001b[49m\u001b[43m)\u001b[49m\n\u001b[1;32m      2\u001b[0m \u001b[38;5;28mprint\u001b[39m(bar)\n\u001b[1;32m      3\u001b[0m \u001b[38;5;28mprint\u001b[39m(bar_scale)\n",
            "File \u001b[0;32m~/.local/lib/python3.12/site-packages/coix/util.py:104\u001b[0m, in \u001b[0;36m_ChildModule.__call__\u001b[0;34m(self, *args, **kwargs)\u001b[0m\n\u001b[1;32m    103\u001b[0m \u001b[38;5;28;01mdef\u001b[39;00m \u001b[38;5;21m__call__\u001b[39m(\u001b[38;5;28mself\u001b[39m, \u001b[38;5;241m*\u001b[39margs, \u001b[38;5;241m*\u001b[39m\u001b[38;5;241m*\u001b[39mkwargs):\n\u001b[0;32m--> 104\u001b[0m   \u001b[38;5;28;01mreturn\u001b[39;00m \u001b[38;5;28;43mself\u001b[39;49m\u001b[38;5;241;43m.\u001b[39;49m\u001b[43mmodule\u001b[49m\u001b[38;5;241;43m.\u001b[39;49m\u001b[43mapply\u001b[49m\u001b[43m(\u001b[49m\n\u001b[1;32m    105\u001b[0m \u001b[43m      \u001b[49m\u001b[38;5;28;43mself\u001b[39;49m\u001b[38;5;241;43m.\u001b[39;49m\u001b[43mparams\u001b[49m\u001b[43m,\u001b[49m\n\u001b[1;32m    106\u001b[0m \u001b[43m      \u001b[49m\u001b[38;5;241;43m*\u001b[39;49m\u001b[43margs\u001b[49m\u001b[43m,\u001b[49m\n\u001b[1;32m    107\u001b[0m \u001b[43m      \u001b[49m\u001b[43mmethod\u001b[49m\u001b[38;5;241;43m=\u001b[39;49m\u001b[38;5;28;43;01mlambda\u001b[39;49;00m\u001b[43m \u001b[49m\u001b[43mn\u001b[49m\u001b[43m,\u001b[49m\u001b[43m \u001b[49m\u001b[38;5;241;43m*\u001b[39;49m\u001b[43ma\u001b[49m\u001b[43m,\u001b[49m\u001b[43m \u001b[49m\u001b[38;5;241;43m*\u001b[39;49m\u001b[38;5;241;43m*\u001b[39;49m\u001b[43mkw\u001b[49m\u001b[43m:\u001b[49m\u001b[43m \u001b[49m\u001b[38;5;28;43mgetattr\u001b[39;49m\u001b[43m(\u001b[49m\u001b[43mn\u001b[49m\u001b[43m,\u001b[49m\u001b[43m \u001b[49m\u001b[38;5;28;43mself\u001b[39;49m\u001b[38;5;241;43m.\u001b[39;49m\u001b[43mname\u001b[49m\u001b[43m)\u001b[49m\u001b[43m(\u001b[49m\u001b[38;5;241;43m*\u001b[39;49m\u001b[43ma\u001b[49m\u001b[43m,\u001b[49m\u001b[43m \u001b[49m\u001b[38;5;241;43m*\u001b[39;49m\u001b[38;5;241;43m*\u001b[39;49m\u001b[43mkw\u001b[49m\u001b[43m)\u001b[49m\u001b[43m,\u001b[49m\n\u001b[1;32m    108\u001b[0m \u001b[43m      \u001b[49m\u001b[38;5;241;43m*\u001b[39;49m\u001b[38;5;241;43m*\u001b[39;49m\u001b[43mkwargs\u001b[49m\u001b[43m,\u001b[49m\n\u001b[1;32m    109\u001b[0m \u001b[43m  \u001b[49m\u001b[43m)\u001b[49m\n",
            "    \u001b[0;31m[... skipping hidden 4 frame]\u001b[0m\n",
            "File \u001b[0;32m~/.local/lib/python3.12/site-packages/coix/util.py:107\u001b[0m, in \u001b[0;36m_ChildModule.__call__.<locals>.<lambda>\u001b[0;34m(n, *a, **kw)\u001b[0m\n\u001b[1;32m    103\u001b[0m \u001b[38;5;28;01mdef\u001b[39;00m \u001b[38;5;21m__call__\u001b[39m(\u001b[38;5;28mself\u001b[39m, \u001b[38;5;241m*\u001b[39margs, \u001b[38;5;241m*\u001b[39m\u001b[38;5;241m*\u001b[39mkwargs):\n\u001b[1;32m    104\u001b[0m   \u001b[38;5;28;01mreturn\u001b[39;00m \u001b[38;5;28mself\u001b[39m\u001b[38;5;241m.\u001b[39mmodule\u001b[38;5;241m.\u001b[39mapply(\n\u001b[1;32m    105\u001b[0m       \u001b[38;5;28mself\u001b[39m\u001b[38;5;241m.\u001b[39mparams,\n\u001b[1;32m    106\u001b[0m       \u001b[38;5;241m*\u001b[39margs,\n\u001b[0;32m--> 107\u001b[0m       method\u001b[38;5;241m=\u001b[39m\u001b[38;5;28;01mlambda\u001b[39;00m n, \u001b[38;5;241m*\u001b[39ma, \u001b[38;5;241m*\u001b[39m\u001b[38;5;241m*\u001b[39mkw: \u001b[38;5;28;43mgetattr\u001b[39;49m\u001b[43m(\u001b[49m\u001b[43mn\u001b[49m\u001b[43m,\u001b[49m\u001b[43m \u001b[49m\u001b[38;5;28;43mself\u001b[39;49m\u001b[38;5;241;43m.\u001b[39;49m\u001b[43mname\u001b[49m\u001b[43m)\u001b[49m\u001b[43m(\u001b[49m\u001b[38;5;241;43m*\u001b[39;49m\u001b[43ma\u001b[49m\u001b[43m,\u001b[49m\u001b[43m \u001b[49m\u001b[38;5;241;43m*\u001b[39;49m\u001b[38;5;241;43m*\u001b[39;49m\u001b[43mkw\u001b[49m\u001b[43m)\u001b[49m,\n\u001b[1;32m    108\u001b[0m       \u001b[38;5;241m*\u001b[39m\u001b[38;5;241m*\u001b[39mkwargs,\n\u001b[1;32m    109\u001b[0m   )\n",
            "    \u001b[0;31m[... skipping hidden 2 frame]\u001b[0m\n",
            "Cell \u001b[0;32mIn[6], line 141\u001b[0m, in \u001b[0;36mEncoderWhere.__call__\u001b[0;34m(self, frame_conv)\u001b[0m\n\u001b[1;32m    139\u001b[0m x \u001b[38;5;241m=\u001b[39m nn\u001b[38;5;241m.\u001b[39mrelu(x)\n\u001b[1;32m    140\u001b[0m x \u001b[38;5;241m=\u001b[39m x\u001b[38;5;241m.\u001b[39mreshape(x\u001b[38;5;241m.\u001b[39mshape[:\u001b[38;5;241m-\u001b[39m\u001b[38;5;241m3\u001b[39m] \u001b[38;5;241m+\u001b[39m (\u001b[38;5;241m-\u001b[39m\u001b[38;5;241m1\u001b[39m,))\n\u001b[0;32m--> 141\u001b[0m x \u001b[38;5;241m=\u001b[39m \u001b[43mnn\u001b[49m\u001b[38;5;241;43m.\u001b[39;49m\u001b[43mDense\u001b[49m\u001b[43m(\u001b[49m\u001b[38;5;241;43m128\u001b[39;49m\u001b[43m)\u001b[49m\u001b[43m(\u001b[49m\u001b[43mx\u001b[49m\u001b[43m)\u001b[49m\n\u001b[1;32m    142\u001b[0m x \u001b[38;5;241m=\u001b[39m x\u001b[38;5;241m.\u001b[39mreshape(x\u001b[38;5;241m.\u001b[39mshape[:\u001b[38;5;241m-\u001b[39m\u001b[38;5;241m1\u001b[39m] \u001b[38;5;241m+\u001b[39m (\u001b[38;5;241m2\u001b[39m, \u001b[38;5;241m64\u001b[39m))\n\u001b[1;32m    143\u001b[0m x \u001b[38;5;241m=\u001b[39m nn\u001b[38;5;241m.\u001b[39mrelu(x)\n",
            "    \u001b[0;31m[... skipping hidden 2 frame]\u001b[0m\n",
            "File \u001b[0;32m~/.local/lib/python3.12/site-packages/flax/linen/linear.py:256\u001b[0m, in \u001b[0;36mDense.__call__\u001b[0;34m(self, inputs)\u001b[0m\n\u001b[1;32m    246\u001b[0m \u001b[38;5;129m@compact\u001b[39m\n\u001b[1;32m    247\u001b[0m \u001b[38;5;28;01mdef\u001b[39;00m \u001b[38;5;21m__call__\u001b[39m(\u001b[38;5;28mself\u001b[39m, inputs: Array) \u001b[38;5;241m-\u001b[39m\u001b[38;5;241m>\u001b[39m Array:\n\u001b[1;32m    248\u001b[0m \u001b[38;5;250m  \u001b[39m\u001b[38;5;124;03m\"\"\"Applies a linear transformation to the inputs along the last dimension.\u001b[39;00m\n\u001b[1;32m    249\u001b[0m \n\u001b[1;32m    250\u001b[0m \u001b[38;5;124;03m  Args:\u001b[39;00m\n\u001b[0;32m   (...)\u001b[0m\n\u001b[1;32m    254\u001b[0m \u001b[38;5;124;03m    The transformed input.\u001b[39;00m\n\u001b[1;32m    255\u001b[0m \u001b[38;5;124;03m  \"\"\"\u001b[39;00m\n\u001b[0;32m--> 256\u001b[0m   kernel \u001b[38;5;241m=\u001b[39m \u001b[38;5;28;43mself\u001b[39;49m\u001b[38;5;241;43m.\u001b[39;49m\u001b[43mparam\u001b[49m\u001b[43m(\u001b[49m\n\u001b[1;32m    257\u001b[0m \u001b[43m    \u001b[49m\u001b[38;5;124;43m'\u001b[39;49m\u001b[38;5;124;43mkernel\u001b[39;49m\u001b[38;5;124;43m'\u001b[39;49m\u001b[43m,\u001b[49m\n\u001b[1;32m    258\u001b[0m \u001b[43m    \u001b[49m\u001b[38;5;28;43mself\u001b[39;49m\u001b[38;5;241;43m.\u001b[39;49m\u001b[43mkernel_init\u001b[49m\u001b[43m,\u001b[49m\n\u001b[1;32m    259\u001b[0m \u001b[43m    \u001b[49m\u001b[43m(\u001b[49m\u001b[43mjnp\u001b[49m\u001b[38;5;241;43m.\u001b[39;49m\u001b[43mshape\u001b[49m\u001b[43m(\u001b[49m\u001b[43minputs\u001b[49m\u001b[43m)\u001b[49m\u001b[43m[\u001b[49m\u001b[38;5;241;43m-\u001b[39;49m\u001b[38;5;241;43m1\u001b[39;49m\u001b[43m]\u001b[49m\u001b[43m,\u001b[49m\u001b[43m \u001b[49m\u001b[38;5;28;43mself\u001b[39;49m\u001b[38;5;241;43m.\u001b[39;49m\u001b[43mfeatures\u001b[49m\u001b[43m)\u001b[49m\u001b[43m,\u001b[49m\n\u001b[1;32m    260\u001b[0m \u001b[43m    \u001b[49m\u001b[38;5;28;43mself\u001b[39;49m\u001b[38;5;241;43m.\u001b[39;49m\u001b[43mparam_dtype\u001b[49m\u001b[43m,\u001b[49m\n\u001b[1;32m    261\u001b[0m \u001b[43m  \u001b[49m\u001b[43m)\u001b[49m\n\u001b[1;32m    262\u001b[0m   \u001b[38;5;28;01mif\u001b[39;00m \u001b[38;5;28mself\u001b[39m\u001b[38;5;241m.\u001b[39muse_bias:\n\u001b[1;32m    263\u001b[0m     bias \u001b[38;5;241m=\u001b[39m \u001b[38;5;28mself\u001b[39m\u001b[38;5;241m.\u001b[39mparam(\n\u001b[1;32m    264\u001b[0m       \u001b[38;5;124m'\u001b[39m\u001b[38;5;124mbias\u001b[39m\u001b[38;5;124m'\u001b[39m, \u001b[38;5;28mself\u001b[39m\u001b[38;5;241m.\u001b[39mbias_init, (\u001b[38;5;28mself\u001b[39m\u001b[38;5;241m.\u001b[39mfeatures,), \u001b[38;5;28mself\u001b[39m\u001b[38;5;241m.\u001b[39mparam_dtype\n\u001b[1;32m    265\u001b[0m     )\n",
            "    \u001b[0;31m[... skipping hidden 1 frame]\u001b[0m\n",
            "File \u001b[0;32m~/.local/lib/python3.12/site-packages/flax/core/scope.py:982\u001b[0m, in \u001b[0;36mScope.param\u001b[0;34m(self, name, init_fn, unbox, *init_args, **init_kwargs)\u001b[0m\n\u001b[1;32m    977\u001b[0m   \u001b[38;5;28;01mfor\u001b[39;00m val, abs_val \u001b[38;5;129;01min\u001b[39;00m \u001b[38;5;28mzip\u001b[39m(value_flat, abs_value_flat):\n\u001b[1;32m    978\u001b[0m     \u001b[38;5;66;03m# NOTE: We could check dtype consistency here as well but it's\u001b[39;00m\n\u001b[1;32m    979\u001b[0m     \u001b[38;5;66;03m# usefuleness is less obvious. We might intentionally change the dtype\u001b[39;00m\n\u001b[1;32m    980\u001b[0m     \u001b[38;5;66;03m# for inference to a half float type for example.\u001b[39;00m\n\u001b[1;32m    981\u001b[0m     \u001b[38;5;28;01mif\u001b[39;00m jnp\u001b[38;5;241m.\u001b[39mshape(val) \u001b[38;5;241m!=\u001b[39m jnp\u001b[38;5;241m.\u001b[39mshape(abs_val):\n\u001b[0;32m--> 982\u001b[0m       \u001b[38;5;28;01mraise\u001b[39;00m errors\u001b[38;5;241m.\u001b[39mScopeParamShapeError(\n\u001b[1;32m    983\u001b[0m         name, \u001b[38;5;28mself\u001b[39m\u001b[38;5;241m.\u001b[39mpath_text, jnp\u001b[38;5;241m.\u001b[39mshape(abs_val), jnp\u001b[38;5;241m.\u001b[39mshape(val)\n\u001b[1;32m    984\u001b[0m       )\n\u001b[1;32m    985\u001b[0m \u001b[38;5;28;01melse\u001b[39;00m:\n\u001b[1;32m    986\u001b[0m   \u001b[38;5;28;01mif\u001b[39;00m \u001b[38;5;129;01mnot\u001b[39;00m \u001b[38;5;28mself\u001b[39m\u001b[38;5;241m.\u001b[39mis_mutable_collection(\u001b[38;5;124m'\u001b[39m\u001b[38;5;124mparams\u001b[39m\u001b[38;5;124m'\u001b[39m):\n",
            "\u001b[0;31mScopeParamShapeError\u001b[0m: Initializer expected to generate shape (1024, 128) but got shape (2704, 128) instead for parameter \"kernel\" in \"/encode_where/Dense_0\". (https://flax.readthedocs.io/en/latest/api_reference/flax.errors.html#flax.errors.ScopeParamShapeError)"
          ]
        }
      ],
      "source": [
        "bar, bar_scale = network.encode_where(np.random.randn(51, 51))\n",
        "print(bar)\n",
        "print(bar_scale)\n",
        "print(0.5 * (bar[0] + 1) * (frame_size - 14) - 0.5, 0.5 * (bar[1] + 1) * (frame_size - 14) - 0.5)"
      ]
    },
    {
      "cell_type": "code",
      "execution_count": null,
      "metadata": {},
      "outputs": [
        {
          "data": {
            "text/plain": [
              "<matplotlib.image.AxesImage at 0x7d3c16dc01a0>"
            ]
          },
          "execution_count": 28,
          "metadata": {},
          "output_type": "execute_result"
        },
        {
          "data": {
            "image/png": "[encoded data removed]",
            "text/plain": [
              "<Figure size 640x480 with 1 Axes>"
            ]
          },
          "metadata": {},
          "output_type": "display_data"
        }
      ],
      "source": [
        "plt.imshow(conv2d(test_data[0, 0], digit_mean))"
      ]
    },
    {
      "cell_type": "code",
      "execution_count": null,
      "metadata": {},
      "outputs": [
        {
          "name": "stdout",
          "output_type": "stream",
          "text": [
            "[35.51287  16.244263] [25.65173  25.610958]\n",
            "[35.582787 16.252335] [25.632355 25.591904]\n"
          ]
        }
      ],
      "source": [
        "bar = network.encode_where(conv2d(test_data[0, 0], digit_mean))\n",
        "print(0.5 * (bar[0] + 1) * (frame_size - 14) - 0.5, 0.5 * (bar[1] + 1) * (frame_size - 14) - 0.5)\n",
        "bar = network.encode_where(conv2d(test_data[1, 1], digit_mean))\n",
        "print(0.5 * (bar[0] + 1) * (frame_size - 14) - 0.5, 0.5 * (bar[1] + 1) * (frame_size - 14) - 0.5)"
      ]
    },
    {
      "cell_type": "code",
      "execution_count": null,
      "metadata": {},
      "outputs": [],
      "source": [
        "out_z_where = jnp.stack([out[f\"z_where_{i}\"] for i in range(10)], -2)\n",
        "digits = crop_frames(test_data_tiled, out_z_where, 14)\n",
        "gru_out = network.encode_what(digits)"
      ]
    },
    {
      "cell_type": "code",
      "execution_count": null,
      "metadata": {},
      "outputs": [],
      "source": [
        "seeded_kernel_what = numpyro.handlers.seed(kernel_what, jax.random.PRNGKey(0))\n",
        "tr = numpyro.handlers.trace(seeded_kernel_what)(network, out, T=10)"
      ]
    },
    {
      "cell_type": "code",
      "execution_count": null,
      "metadata": {},
      "outputs": [],
      "source": [
        "duration = 0.55\n",
        "snapshots = 10\n",
        "kpoints = 6\n",
        "box_size = 64\n",
        "\n",
        "sim_fn = partial(\n",
        "    worm_simulation,\n",
        "    duration=duration,\n",
        "    snapshots=snapshots,\n",
        "    kpoints=kpoints,\n",
        ")"
      ]
    },
    {
      "cell_type": "code",
      "execution_count": null,
      "metadata": {},
      "outputs": [
        {
          "data": {
            "text/plain": [
              "Array([0.78426397, 0.78426397], dtype=float32)"
            ]
          },
          "execution_count": 33,
          "metadata": {},
          "output_type": "execute_result"
        }
      ],
      "source": [
        "gru_out[4][0, 4]"
      ]
    },
    {
      "cell_type": "code",
      "execution_count": null,
      "metadata": {},
      "outputs": [
        {
          "data": {
            "text/plain": [
              "Array([[-0.2868712 , -0.2035813 ],\n",
              "       [-0.20549005, -0.04836779],\n",
              "       [-0.09899499,  0.0908189 ],\n",
              "       [ 0.02353141,  0.2161242 ],\n",
              "       [ 0.15186606,  0.33547387],\n",
              "       [ 0.27518308,  0.46000105]], dtype=float32)"
            ]
          },
          "execution_count": 34,
          "metadata": {},
          "output_type": "execute_result"
        }
      ],
      "source": [
        "out[\"worms\"][0, 0, 0, 3, :]"
      ]
    },
    {
      "cell_type": "code",
      "execution_count": null,
      "metadata": {},
      "outputs": [
        {
          "data": {
            "text/plain": [
              "<matplotlib.image.AxesImage at 0x774e657164b0>"
            ]
          },
          "execution_count": 19,
          "metadata": {},
          "output_type": "execute_result"
        },
        {
          "data": {
            "image/png": "[encoded data removed]",
            "text/plain": [
              "<Figure size 640x480 with 1 Axes>"
            ]
          },
          "metadata": {},
          "output_type": "display_data"
        },
        {
          "data": {
            "image/png": "[encoded data removed]",
            "text/plain": [
              "<Figure size 640x480 with 1 Axes>"
            ]
          },
          "metadata": {},
          "output_type": "display_data"
        }
      ],
      "source": [
        "plt.figure()\n",
        "plt.imshow(out[\"worm_frames\"][0, 0, 0, 0, :, :])\n",
        "plt.figure()\n",
        "plt.imshow(out[\"worm_frames\"][0, 0, 0, 5, :, :])"
      ]
    },
    {
      "cell_type": "code",
      "execution_count": null,
      "metadata": {},
      "outputs": [],
      "source": []
    },
    {
      "cell_type": "code",
      "execution_count": null,
      "metadata": {},
      "outputs": [],
      "source": [
        "# network = coix.util.BindModule(wormsim_net, wormsim_params)\n",
        "\n",
        "# out_z_where = jnp.stack([out[f\"z_where_{i}\"] for i in range(10)], -2)"
      ]
    }
  ],
  "metadata": {
    "kernelspec": {
      "display_name": "Python 3",
      "language": "python",
      "name": "python3"
    },
    "language_info": {
      "codemirror_mode": {
        "name": "ipython",
        "version": 3
      },
      "file_extension": ".py",
      "mimetype": "text/x-python",
      "name": "python",
      "nbconvert_exporter": "python",
      "pygments_lexer": "ipython3",
      "version": "3.12.3"
    }
  },
  "nbformat": 4,
  "nbformat_minor": 0
}
