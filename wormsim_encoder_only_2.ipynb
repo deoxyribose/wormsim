{
  "cells": [
    {
      "cell_type": "markdown",
      "metadata": {},
      "source": [
        "\n",
        "# Simulator-based unsupervised detection and tracking of worms\n",
        "\n",
        "**References**\n",
        "\n",
        "    1. Wu, Hao, et al. Amortized population Gibbs samplers with neural\n",
        "       sufficient statistics. ICML 2020.\n",
        "\n",
        "<img src=\"file://../_static/wormsim.gif\" align=\"center\">\n"
      ]
    },
    {
      "cell_type": "code",
      "execution_count": 1,
      "metadata": {
        "collapsed": false
      },
      "outputs": [
        {
          "name": "stderr",
          "output_type": "stream",
          "text": [
            "/home/frans/.local/lib/python3.12/site-packages/tqdm/auto.py:21: TqdmWarning: IProgress not found. Please update jupyter and ipywidgets. See https://ipywidgets.readthedocs.io/en/stable/user_install.html\n",
            "  from .autonotebook import tqdm as notebook_tqdm\n",
            "2024-08-14 18:51:32.995376: E external/local_xla/xla/stream_executor/cuda/cuda_fft.cc:485] Unable to register cuFFT factory: Attempting to register factory for plugin cuFFT when one has already been registered\n",
            "2024-08-14 18:51:33.011006: E external/local_xla/xla/stream_executor/cuda/cuda_dnn.cc:8454] Unable to register cuDNN factory: Attempting to register factory for plugin cuDNN when one has already been registered\n",
            "2024-08-14 18:51:33.015670: E external/local_xla/xla/stream_executor/cuda/cuda_blas.cc:1452] Unable to register cuBLAS factory: Attempting to register factory for plugin cuBLAS when one has already been registered\n",
            "2024-08-14 18:51:33.682471: W tensorflow/compiler/tf2tensorrt/utils/py_utils.cc:38] TF-TRT Warning: Could not find TensorRT\n"
          ]
        }
      ],
      "source": [
        "import argparse\n",
        "from functools import partial\n",
        "\n",
        "import coix\n",
        "import flax.linen as nn\n",
        "import jax\n",
        "from jax import random\n",
        "import jax.numpy as jnp\n",
        "import numpy as np\n",
        "import matplotlib.animation as animation\n",
        "from matplotlib.patches import Rectangle\n",
        "import matplotlib.pyplot as plt\n",
        "import numpyro\n",
        "import numpyro.distributions as dist\n",
        "import optax\n",
        "from optax import cosine_decay_schedule\n",
        "from optax import clip_by_global_norm\n",
        "import tensorflow as tf\n",
        "import tensorflow_datasets as tfds\n",
        "\n",
        "from sim_utils import *"
      ]
    },
    {
      "cell_type": "code",
      "execution_count": 2,
      "metadata": {
        "collapsed": false
      },
      "outputs": [],
      "source": [
        "def dataset_generator(file_path, n_data=-1):\n",
        "    ds = np.load(file_path, mmap_mode='r')\n",
        "    ds = ds[:n_data] if n_data != -1 else ds\n",
        "    for data in ds:\n",
        "        yield data\n",
        "\n",
        "def load_dataset(*, is_training, batch_size, n_data=-1, file_path=\"worms_train_40k.npy\"):\n",
        "    # Create a dataset from the generator\n",
        "    ds = tf.data.Dataset.from_generator(\n",
        "        dataset_generator,\n",
        "        args=(file_path, n_data),\n",
        "        output_signature=tf.TensorSpec(shape=(None, None, None), dtype=tf.float32)\n",
        "    )\n",
        "    \n",
        "    ds = ds.repeat()\n",
        "    if is_training:\n",
        "        ds = ds.shuffle(10 * batch_size, seed=0)\n",
        "    ds = ds.batch(batch_size)\n",
        "    \n",
        "    # Standardize the data between 0 and 1\n",
        "    ds = ds.map(lambda x: x / 0.80999994)\n",
        "    return iter(tfds.as_numpy(ds))"
      ]
    },
    {
      "cell_type": "code",
      "execution_count": 3,
      "metadata": {},
      "outputs": [],
      "source": [
        "def vmapped_sim_fn(sim_fn, params):\n",
        "    if params['L'].ndim == 1:\n",
        "        return jax.vmap(sim_fn, in_axes=0, out_axes=0)(params)\n",
        "    else:\n",
        "        return jax.vmap(partial(vmapped_sim_fn, sim_fn), in_axes=0, out_axes=0)(params)"
      ]
    },
    {
      "cell_type": "code",
      "execution_count": 4,
      "metadata": {},
      "outputs": [],
      "source": [
        "def sim_worms(nworms, n_frames):\n",
        "    duration = 1.55\n",
        "    snapshots = 10\n",
        "    kpoints = 6\n",
        "    box_size = 64\n",
        "    L_low = 23\n",
        "    L_high = 28\n",
        "    L = numpyro.sample('L', dist.Uniform(L_low, L_high).expand([nworms]).to_event())\n",
        "    A = numpyro.sample('A', dist.Normal(1, 0.1).expand([nworms]).to_event())\n",
        "    T = numpyro.sample('T', dist.Normal(0.8, 0.1).expand([nworms]).to_event())\n",
        "    kw = numpyro.sample('kw', dist.Uniform(0, 2 * jnp.pi).expand([nworms]).to_event())\n",
        "    ku = numpyro.sample('ku', dist.Normal(jnp.pi, 1).expand([nworms]).to_event())\n",
        "\n",
        "    inc = numpyro.sample('inc', dist.Uniform(0, 2 * jnp.pi).expand([nworms]).to_event())\n",
        "    dr = numpyro.sample('dr', dist.Uniform(0.2, 0.8).expand([nworms]).to_event())\n",
        "    phase_1 = numpyro.sample('phase_1', dist.Uniform(0, 2 * jnp.pi).expand([nworms]).to_event())\n",
        "    phase_2 = numpyro.sample('phase_2', dist.Uniform(0, 2 * jnp.pi).expand([nworms]).to_event())\n",
        "    phase_3 = numpyro.sample('phase_3', dist.Normal(0, 0.1).expand([nworms]).to_event())\n",
        "    alpha = numpyro.sample('alpha', dist.Normal(4, 4).expand([nworms]).to_event())\n",
        "    alpha = jnp.abs(alpha + 1.0)\n",
        "\n",
        "    x0 = jnp.zeros_like(L)\n",
        "    y0 = jnp.zeros_like(L)\n",
        "\n",
        "    params = {'L': L, 'A': A, 'T': T, 'kw': kw, 'ku': ku, 'inc': inc, 'dr': dr, 'phase_1': phase_1, 'phase_2': phase_2, 'phase_3': phase_3, 'alpha': alpha, 'x0': x0, 'y0': y0}\n",
        "    sim_fn = partial(\n",
        "        worm_simulation,\n",
        "        duration=duration,\n",
        "        snapshots=snapshots,\n",
        "        kpoints=kpoints,\n",
        "    )\n",
        "    worms = vmapped_sim_fn(sim_fn, params)\n",
        "    worms = worms / ((L_high + L_low) / 2)\n",
        "    numpyro.deterministic('worms', worms)\n",
        "    return worms, params"
      ]
    },
    {
      "cell_type": "code",
      "execution_count": 5,
      "metadata": {
        "collapsed": false
      },
      "outputs": [],
      "source": [
        "def scale_and_translate(image, where, out_size):\n",
        "  translate = abs(image.shape[-1] - out_size) * (where[..., ::-1] + 1) / 2\n",
        "  return jax.image.scale_and_translate(\n",
        "      image,\n",
        "      (out_size, out_size),\n",
        "      (0, 1),\n",
        "      jnp.ones(2),\n",
        "      translate,\n",
        "      method=\"cubic\",\n",
        "      antialias=False,\n",
        "  )\n",
        "\n",
        "def scale_and_translate_variable_scale(image, where, scale, out_size):\n",
        "  translate = abs(image.shape[-1] - out_size) * (where[..., ::-1] + 1) / 2\n",
        "  return jax.image.scale_and_translate(\n",
        "      image,\n",
        "      (out_size, out_size),\n",
        "      (0, 1),\n",
        "      scale * jnp.ones(2),\n",
        "      translate,\n",
        "      method=\"cubic\",\n",
        "      antialias=False,\n",
        "  )\n",
        "\n",
        "def crop_frames(frames, z_where, digit_size=28):\n",
        "  # frames:           time.frame_size.frame_size\n",
        "  # z_where: (worm_frames).time.2\n",
        "  # out:     (digits).time.digit_size.digit_size\n",
        "  if frames.ndim == 2 and z_where.ndim == 1:\n",
        "    return scale_and_translate(frames, z_where, out_size=digit_size)\n",
        "  elif frames.ndim == 3 and z_where.ndim == 2:\n",
        "    in_axes = (0, 0)\n",
        "  elif frames.ndim == 4 and z_where.ndim == 3:\n",
        "    in_axes = (0, 0)\n",
        "  elif frames.ndim == 2 and z_where.ndim == 2:\n",
        "    in_axes = (None, 0)\n",
        "  elif frames.ndim == z_where.ndim:\n",
        "    in_axes = (0, 0)\n",
        "  elif frames.ndim > z_where.ndim:\n",
        "    in_axes = (0, None)\n",
        "  else:\n",
        "    in_axes = (None, 0)\n",
        "  return jax.vmap(partial(crop_frames, digit_size=digit_size), in_axes)(\n",
        "      frames, z_where\n",
        "  )\n",
        "\n",
        "\n",
        "def embed_frames(worm_frames, z_where, frame_size=64):\n",
        "  # worm_frames:  (worm_frames).      .digit_size.digit_size\n",
        "  # z_where: (worm_frames).(time).2\n",
        "  # out:     (worm_frames).(time).frame_size.frame_size\n",
        "  if worm_frames.ndim == 2 and z_where.ndim == 1:\n",
        "    return scale_and_translate(worm_frames, z_where, out_size=frame_size)\n",
        "  elif worm_frames.ndim == 2 and z_where.ndim == 2:\n",
        "    in_axes = (None, 0)\n",
        "  elif worm_frames.ndim >= z_where.ndim:\n",
        "    in_axes = (0, 0)\n",
        "  else:\n",
        "    in_axes = (None, 0)\n",
        "  return jax.vmap(partial(embed_frames, frame_size=frame_size), in_axes)(\n",
        "      worm_frames, z_where\n",
        "  )\n",
        "\n",
        "def embed_worms(worm_frames, z_where, scale, frame_size=64):\n",
        "  # worm_frames:  (worm_frames).      .digit_size.digit_size\n",
        "  # z_where: (worm_frames).(time).2\n",
        "  # out:     (worm_frames).(time).frame_size.frame_size\n",
        "  if worm_frames.ndim == 2 and z_where.ndim == 1:\n",
        "    return scale_and_translate_variable_scale(worm_frames, z_where, scale, out_size=frame_size)\n",
        "  elif worm_frames.ndim == 2 and z_where.ndim == 2:\n",
        "    in_axes = (None, 0, 0)\n",
        "  elif worm_frames.ndim >= z_where.ndim:\n",
        "    in_axes = (0, 0, 0)\n",
        "  else:\n",
        "    in_axes = (None, 0, 0)\n",
        "  return jax.vmap(partial(embed_worms, frame_size=frame_size), in_axes)(\n",
        "      worm_frames, z_where, scale\n",
        "  )\n",
        "\n",
        "def conv2d(frames, worm_frames):\n",
        "  # frames:          (time).frame_size.frame_size\n",
        "  # worm_frames: (worm_frames).      .digit_size.digit_size\n",
        "  # out:    (worm_frames).(time).conv_size .conv_size\n",
        "  if frames.ndim == 2 and worm_frames.ndim == 2:\n",
        "    return jax.scipy.signal.convolve2d(frames, worm_frames, mode=\"valid\")\n",
        "  elif frames.ndim == worm_frames.ndim:\n",
        "    in_axes = (0, 0)\n",
        "  elif frames.ndim > worm_frames.ndim:\n",
        "    in_axes = (0, None)\n",
        "  else:\n",
        "    in_axes = (None, 0)\n",
        "  return jax.vmap(conv2d, in_axes=in_axes)(frames, worm_frames)\n",
        "\n",
        "def resize_batch(frames, size):\n",
        "  if frames.ndim == 2:\n",
        "    return jax.image.resize(frames, (size, size), method=\"cubic\")\n",
        "  elif frames.ndim > 2:\n",
        "    return jax.vmap(partial(resize_batch, size=size))(frames)\n",
        "\n",
        "# generate a size x size image of  circle\n",
        "def circle_image(size):\n",
        "    x = jnp.linspace(-1, 1, size)\n",
        "    y = jnp.linspace(-1, 1, size)\n",
        "    xx, yy = jnp.meshgrid(x, y)\n",
        "    circle = jnp.exp(-(xx ** 2 + yy ** 2)/0.4)\n",
        "    circle /= circle.max()\n",
        "    circle += jnp.abs(circle.min())\n",
        "    return circle\n",
        "\n",
        "# interpolate the sparse points outputted by the simulator\n",
        "def interpolate(worms, n_points=32):\n",
        "  if worms.ndim == 1:\n",
        "    return jnp.interp(jnp.linspace(0, 1, n_points), jnp.linspace(0, 1, worms.shape[0]), worms)\n",
        "  elif worms.ndim == 2:\n",
        "    return jax.vmap(partial(interpolate, n_points=n_points), in_axes=1, out_axes=1)(worms)\n",
        "  else:\n",
        "    return jax.vmap(partial(interpolate, n_points=n_points), in_axes=0)(worms)\n",
        "    "
      ]
    },
    {
      "cell_type": "code",
      "execution_count": 6,
      "metadata": {},
      "outputs": [],
      "source": [
        "class EncoderSim(nn.Module):\n",
        "  \"\"\"\n",
        "  Takes sequence of z_what and encodes them into a distribution over worm simulator parameters\n",
        "  \"\"\"\n",
        "\n",
        "  @nn.compact\n",
        "  def __call__(self, z_what, carry=None):\n",
        "    broadcast_dims = z_what.shape[:-2]\n",
        "    \n",
        "    hidden_dim = 256\n",
        "\n",
        "    # x = z_what.reshape(z_what.shape[:-2] + (-1,)) # flatten frame into vector\n",
        "    x = z_what\n",
        "    \n",
        "    if carry is None:\n",
        "      carry = self.param('carry_init', \n",
        "                         lambda rng, shape: jnp.zeros(shape), \n",
        "                         broadcast_dims + (hidden_dim,))\n",
        "    GRU = nn.scan(nn.GRUCell,\n",
        "                  in_axes=-2,\n",
        "                  out_axes=-2,\n",
        "                  variable_broadcast='params',\n",
        "                  split_rngs={'params': False}\n",
        "                  )(hidden_dim)\n",
        "    \n",
        "    x = nn.LayerNorm()(x)\n",
        "    carry, x = GRU(carry, x)\n",
        "    # x = x[..., -1, :] # use the last time step\n",
        "    x = x.sum(-2) # sum across time\n",
        "    x = nn.Dense(64)(x)\n",
        "    x = nn.relu(x)\n",
        "    x = nn.LayerNorm()(x)\n",
        "    \n",
        "    x_L = nn.Dense(10)(x)\n",
        "    x_L = nn.relu(x_L)\n",
        "    x_L_loc = nn.Dense(1)(x_L)\n",
        "    # scale to 10-15\n",
        "    x_L_loc = nn.tanh(x_L_loc) * ((28 - 23) / 2) + (23 + 28) / 2\n",
        "    x_L_scale = 0.5 * nn.Dense(1)(x_L)\n",
        "\n",
        "    x_A = nn.Dense(10)(x)\n",
        "    x_A = nn.relu(x_A)\n",
        "    x_A_loc = nn.Dense(1)(x_A)\n",
        "    x_A_scale = 0.5 * nn.Dense(1)(x_A)\n",
        "\n",
        "    x_T = nn.Dense(10)(x)\n",
        "    x_T = nn.relu(x_T)\n",
        "    x_T_loc = nn.Dense(1)(x_T)\n",
        "    # constrain to positive\n",
        "    x_T_loc = nn.softplus(x_T_loc)\n",
        "    x_T_scale = 0.5 * nn.Dense(1)(x_T)\n",
        "\n",
        "    x_kw = nn.Dense(10)(x)\n",
        "    x_kw = nn.relu(x_kw)\n",
        "    x_kw_loc = nn.Dense(1)(x_kw)\n",
        "    # scale to 0-2pi\n",
        "    x_kw_loc = nn.tanh(x_kw_loc) * jnp.pi + jnp.pi\n",
        "    x_kw_scale = 0.5 * nn.Dense(1)(x_kw)\n",
        "\n",
        "    x_ku = nn.Dense(10)(x)\n",
        "    x_ku = nn.relu(x_ku)\n",
        "    x_ku_loc = nn.Dense(1)(x_ku)\n",
        "    x_ku_scale = 0.5 * nn.Dense(1)(x_ku)\n",
        "\n",
        "    x_inc = nn.Dense(10)(x)\n",
        "    x_inc = nn.relu(x_inc)\n",
        "    x_inc_loc = nn.Dense(1)(x_inc)\n",
        "    # scale to 0-2pi\n",
        "    x_inc_loc = nn.tanh(x_inc_loc) * jnp.pi + jnp.pi\n",
        "    x_inc_scale = 0.5 * nn.Dense(1)(x_inc)\n",
        "\n",
        "    x_dr = nn.Dense(10)(x)\n",
        "    x_dr = nn.relu(x_dr)\n",
        "    x_dr_loc = nn.Dense(1)(x_dr)\n",
        "    # scale to 0.2-0.8\n",
        "    x_dr_loc = nn.tanh(x_dr_loc) * 0.3 + 0.5\n",
        "    x_dr_scale = 0.5 * nn.Dense(1)(x_dr)\n",
        "\n",
        "    x_phase_1 = nn.Dense(10)(x)\n",
        "    x_phase_1 = nn.relu(x_phase_1)\n",
        "    x_phase_1_loc = nn.Dense(1)(x_phase_1)\n",
        "    # scale to 0-2pi\n",
        "    x_phase_1_loc = nn.tanh(x_phase_1_loc) * jnp.pi + jnp.pi\n",
        "    x_phase_1_scale = 0.5 * nn.Dense(1)(x_phase_1)\n",
        "\n",
        "    x_phase_2 = nn.Dense(10)(x)\n",
        "    x_phase_2 = nn.relu(x_phase_2)\n",
        "    x_phase_2_loc = nn.Dense(1)(x_phase_2)\n",
        "    # scale to 0-2pi\n",
        "    x_phase_2_loc = nn.tanh(x_phase_2_loc) * jnp.pi + jnp.pi\n",
        "    x_phase_2_scale = 0.5 * nn.Dense(1)(x_phase_2)\n",
        "\n",
        "    x_phase_3 = nn.Dense(10)(x)\n",
        "    x_phase_3 = nn.relu(x_phase_3)\n",
        "    x_phase_3_loc = nn.Dense(1)(x_phase_3)\n",
        "    x_phase_3_scale = 0.5 * nn.Dense(1)(x_phase_3)\n",
        "\n",
        "    x_alpha = nn.Dense(10)(x)\n",
        "    x_alpha = nn.relu(x_alpha)\n",
        "    x_alpha_loc = nn.Dense(1)(x_alpha)\n",
        "    x_alpha_scale = 0.5 * nn.Dense(1)(x_alpha)\n",
        "\n",
        "    return x_L_loc.squeeze(-1), jnp.exp(x_L_scale.squeeze(-1)), x_A_loc.squeeze(-1), jnp.exp(x_A_scale.squeeze(-1)), x_T_loc.squeeze(-1), jnp.exp(x_T_scale.squeeze(-1)), x_kw_loc.squeeze(-1), jnp.exp(x_kw_scale.squeeze(-1)), x_ku_loc.squeeze(-1), jnp.exp(x_ku_scale.squeeze(-1)), x_inc_loc.squeeze(-1), jnp.exp(x_inc_scale.squeeze(-1)), x_dr_loc.squeeze(-1), jnp.exp(x_dr_scale.squeeze(-1)), x_phase_1_loc.squeeze(-1), jnp.exp(x_phase_1_scale.squeeze(-1)), x_phase_2_loc.squeeze(-1), jnp.exp(x_phase_2_scale.squeeze(-1)), x_phase_3_loc.squeeze(-1), jnp.exp(x_phase_3_scale.squeeze(-1)), x_alpha_loc.squeeze(-1), jnp.exp(x_alpha_scale.squeeze(-1))\n",
        "\n",
        "class EncoderWhat(nn.Module):\n",
        "\n",
        "  @nn.compact\n",
        "  def __call__(self, digits):\n",
        "    x = jnp.expand_dims(digits, -1)\n",
        "    x = nn.Conv(features=4, kernel_size=(3, 3), strides=(1, 1))(x)\n",
        "    x = nn.relu(x)\n",
        "    x = nn.Conv(features=8, kernel_size=(3, 3), strides=(2, 2))(x)\n",
        "    x = nn.relu(x)\n",
        "    x = nn.Conv(features=16, kernel_size=(3, 3), strides=(2, 2))(x)\n",
        "    x = nn.relu(x)\n",
        "    # flatten\n",
        "    x = x.reshape(x.shape[:-3] + (-1,))\n",
        "    x = nn.Dense(64)(x)\n",
        "    x = nn.relu(x)\n",
        "    loc_raw = nn.Dense(12)(x)\n",
        "    scale_raw = 0.5 * nn.Dense(12)(x)\n",
        "    return loc_raw, jnp.exp(scale_raw)\n",
        "\n",
        "class EncoderWhere(nn.Module):\n",
        "\n",
        "  @nn.compact\n",
        "  def __call__(self, frame_conv):\n",
        "    x = jnp.expand_dims(frame_conv, -1)\n",
        "    x = nn.Conv(features=8, kernel_size=(3, 3), strides=(2, 2))(x)\n",
        "    x = nn.relu(x) \n",
        "    x = nn.Conv(features=4, kernel_size=(3, 3), strides=(2, 2))(x)\n",
        "    x = nn.relu(x) \n",
        "    x = x.reshape(x.shape[:-3] + (-1,))\n",
        "    x = nn.Dense(64)(x)\n",
        "    x = x.reshape(x.shape[:-1] + (2, 32))\n",
        "    x = nn.relu(x)\n",
        "    loc_raw = nn.Dense(2)(x[..., 0, :])\n",
        "    scale_raw = 0.5 * nn.Dense(2)(x[..., 1, :])\n",
        "    return nn.tanh(loc_raw), jnp.exp(scale_raw)\n",
        "\n",
        "class DecoderWhat(nn.Module):\n",
        "  \"\"\"\n",
        "  Hardcoded decoder to plot worm coordinates on a frame\n",
        "  \"\"\"\n",
        "  @nn.compact\n",
        "  def __call__(self, worms):\n",
        "    # vmap interpolate over all worms\n",
        "    worms = interpolate(worms, n_points = 12)    \n",
        "\n",
        "    # make worm widths for all knots\n",
        "    # R = 0.8\n",
        "    R = nn.softplus(nn.Dense(1)(jnp.ones(1))) + 0.6 # we need some params for the module to be registered\n",
        "    # worm_scale = nn.softplus(nn.Dense(1)(jnp.ones(1))) * 2\n",
        "    worm_scale = 2.2\n",
        "    # print(\"R:\", R)\n",
        "    K = worms.shape[-2]\n",
        "    i = jnp.arange(K)\n",
        "    r = R * jnp.abs(jnp.sin(jnp.arccos((i - K / 2) / (K / 2 + 0.2))))\n",
        "    r = jnp.tile(r, (worms.shape[:-2] + (1,)))\n",
        "\n",
        "    # draw the circles\n",
        "    circles = embed_worms(circle_image(4), worms * worm_scale, r, frame_size=28)\n",
        "    # overlay the circles\n",
        "    p = circles.sum(-3)\n",
        "    p = p / p.max()\n",
        "    return p\n",
        "\n",
        "# class DecoderWhat(nn.Module):\n",
        "#   \"\"\"\n",
        "#   Hardcoded decoder to plot worm coordinates on a frame\n",
        "#   \"\"\"\n",
        "#   @nn.compact\n",
        "#   def __call__(self, worms):\n",
        "#     # vmap interpolate over all worms\n",
        "#     worms = interpolate(worms, n_points = 12)    \n",
        "\n",
        "#     # make worm widths for all knots\n",
        "#     # R = 0.8\n",
        "#     R = nn.softplus(nn.Dense(1)(jnp.ones(1))) + 0.6\n",
        "#     worm_scale = nn.softplus(nn.Dense(1)(jnp.ones(1))) * 2\n",
        "#     # print(\"R:\", R)\n",
        "#     K = worms.shape[-2]\n",
        "#     i = jnp.arange(K)\n",
        "#     r = R * jnp.abs(jnp.sin(jnp.arccos((i - K / 2) / (K / 2 + 0.2))))\n",
        "#     r = jnp.tile(r, (worms.shape[:-2] + (1,)))\n",
        "\n",
        "#     # draw the circles\n",
        "#     circles = embed_worms(circle_image(4), worms * worm_scale, r, frame_size=28)\n",
        "#     # print(\"circles.shape\", circles.shape)\n",
        "#     circles_sum_flatten = circles.sum(-3).reshape(circles.shape[:-3] + (-1,))\n",
        "#     # overlay the circles\n",
        "#     p = nn.sigmoid(nn.Dense(28 * 28)(circles_sum_flatten))\n",
        "#     p = p.reshape(circles_sum_flatten.shape[:-1] + (28, 28))\n",
        "#     return p\n",
        "\n",
        "# class DecoderWhat(nn.Module):\n",
        "\n",
        "#   @nn.compact\n",
        "#   def __call__(self, z_what):\n",
        "#     # x = nn.Dense(3136)(z_what)\n",
        "#     x = nn.Dense(784)(z_what)\n",
        "#     x = nn.relu(x)\n",
        "#     # x = x.reshape(x.shape[:-1] + (7, 7, 64))\n",
        "#     x = x.reshape(x.shape[:-1] + (7, 7, 16))\n",
        "#     x = nn.ConvTranspose(features=32, kernel_size=(3, 3), strides=(2, 2))(x)\n",
        "#     x = nn.relu(x)\n",
        "#     x = nn.ConvTranspose(features=1, kernel_size=(3, 3), strides=(2, 2))(x)\n",
        "#     x = nn.relu(x)\n",
        "#     logits = x.squeeze(-1)\n",
        "#     p = nn.sigmoid(logits)\n",
        "#     return p\n",
        "\n",
        "class wormsimAutoEncoder(nn.Module):\n",
        "  num_particles: int\n",
        "  batch_size: int\n",
        "  frame_size: int\n",
        "\n",
        "  def setup(self):\n",
        "    self.encode_sim = EncoderSim()\n",
        "    self.encode_what = EncoderWhat()\n",
        "    self.encode_where = EncoderWhere()\n",
        "    self.decode_what = DecoderWhat()\n",
        "\n",
        "  def __call__(self, frames):\n",
        "    \"\"\"\n",
        "    Only used to initialize the model\n",
        "    \"\"\"\n",
        "    D = 2\n",
        "    T = 10\n",
        "    \n",
        "    # print(\"frames.shape\", frames.shape)\n",
        "    resized_frames = resize_batch(frames, 32)\n",
        "    # print(\"resized_frames.shape\", resized_frames.shape)\n",
        "    z_where, _ = self.encode_where(resized_frames)\n",
        "    # print(\"z_where.shape\", z_where.shape)\n",
        "    worm_frames = crop_frames(frames, z_where)\n",
        "    # print(\"worm_frames.shape\", worm_frames.shape)\n",
        "    z_what, _ = self.encode_what(worm_frames)\n",
        "    # print(\"z_what.shape\", z_what.shape)\n",
        "\n",
        "    # need to init the GRU carry state to match the particle size\n",
        "    z_what_tile = jnp.tile(z_what, (self.num_particles, D, 1, 1)).reshape(self.num_particles, self.batch_size, 2, 10, 12)\n",
        "    # print(\"z_what_tile.shape\", z_what_tile.shape)\n",
        "    proposed_sim_params = self.encode_sim(z_what_tile)\n",
        "    # print(\"L shape\", proposed_sim_params[0].shape)\n",
        "\n",
        "    # # z_what is normally sampled from a Gaussian with mean worms, \n",
        "    # # but doesn't matter for the purpose of initializing NNs\n",
        "\n",
        "    reshape_z_what = z_what.reshape(z_what.shape[:-1] + (6, 2))\n",
        "    # print(\"reshape_z_what.shape\", reshape_z_what.shape)\n",
        "    worm_frame_recon = self.decode_what(reshape_z_what)\n",
        "    # worm_frame_recon = self.decode_what(z_what)\n",
        "    # print(\"worm_frame_recon.shape\", worm_frame_recon.shape)\n",
        "    frames_recon = embed_frames(worm_frame_recon, z_where, self.frame_size)\n",
        "    # print(frames_recon.shape)\n",
        "    # print(\"frames_recon.shape\", frames_recon.shape)\n",
        "    return frames_recon"
      ]
    },
    {
      "cell_type": "markdown",
      "metadata": {},
      "source": [
        "Then, we define the target and kernels as in Section 6.4.\n",
        "\n"
      ]
    },
    {
      "cell_type": "code",
      "execution_count": 7,
      "metadata": {
        "collapsed": false
      },
      "outputs": [],
      "source": [
        "def wormsim_target(network, inputs, D=2, T=10):\n",
        "\n",
        "  worms, params = sim_worms(D, T)\n",
        "\n",
        "  z_where = []\n",
        "  for d in range(D):\n",
        "    z_where_d = []\n",
        "    z_where_d_t = jnp.zeros(2)\n",
        "    for t in range(T):\n",
        "      scale = 1 if t == 0 else 0.05\n",
        "      z_where_d_t = numpyro.sample(\n",
        "          f\"z_where_{d}_{t}\", dist.Normal(z_where_d_t, scale).to_event(1)\n",
        "      )\n",
        "      z_where_d.append(z_where_d_t)\n",
        "    z_where_d = jnp.stack(z_where_d, -2)\n",
        "    z_where.append(z_where_d)\n",
        "  z_where = jnp.stack(z_where, -3)\n",
        "\n",
        "  z_what = []\n",
        "  for t in range(T):\n",
        "    z_what_t_mean = worms[..., t, :, :].reshape(worms.shape[:-3] + (12,))\n",
        "    z_what_t = numpyro.sample(\n",
        "        f\"z_what_{t}\", dist.Normal(z_what_t_mean, 0.002).to_event(2)\n",
        "    )\n",
        "    z_what.append(z_what_t)\n",
        "  z_what = jnp.stack(z_what, -2)\n",
        "  \n",
        "  worm_frames = network.decode_what(z_what.reshape(z_what.shape[:-1] + (6, 2)))\n",
        "  # worm_frames = network.decode_what(z_what)\n",
        "  # print(\"worm_frames.shape target\", worm_frames.shape)\n",
        "\n",
        "  # print(\"z_where target\", z_where.shape)\n",
        "  p = embed_frames(worm_frames, z_where, network.frame_size)\n",
        "  # print(\"p.shape target\", p.shape)\n",
        "  p = dist.util.clamp_probs(p.sum(-4))  # sum across worm_frames\n",
        "  # print(\"summed p.shape target\", p.shape)\n",
        "  # print(\"inputs.shape\", inputs.shape)\n",
        "  frames = numpyro.sample(\"frames\", dist.Bernoulli(p).to_event(3), obs=inputs)\n",
        "\n",
        "  out = {\n",
        "      \"frames\": frames,\n",
        "      \"frames_recon\": p,\n",
        "      **{f\"z_what_{t}\": z_what[..., t, :] for t in range(T)},\n",
        "      \"worm_frames\": jax.lax.stop_gradient(worm_frames),\n",
        "      \"params\": params,\n",
        "      **{f\"z_where_{t}\": z_where[..., t, :] for t in range(T)},\n",
        "  }\n",
        "  return (out,)\n",
        "\n",
        "\n",
        "def kernel_where(network, inputs, D=2, t=0, T=10):\n",
        "  if not isinstance(inputs, dict):\n",
        "    # print('making inputs')\n",
        "    inputs = {\n",
        "        \"frames\": inputs,\n",
        "        \"worm_frames\": jnp.ones((D, T, 28, 28)),\n",
        "    }\n",
        "\n",
        "  frame = inputs[\"frames\"][..., t, :, :]\n",
        "  z_where_t = []\n",
        "\n",
        "  for d in range(D):\n",
        "    # print(inputs[\"worm_frames\"].shape)\n",
        "    worm_frame = inputs[\"worm_frames\"][..., d, t, :, :]\n",
        "    # print(\"worm_frame shape where\", worm_frame.shape)\n",
        "    resized_frame = resize_batch(frame, 32)\n",
        "    loc, scale = network.encode_where(resized_frame)\n",
        "    # print(loc.shape)\n",
        "    z_where_d_t = numpyro.sample(\n",
        "        f\"z_where_{d}_{t}\", dist.Normal(loc, scale).to_event(1)\n",
        "    )\n",
        "    z_where_t.append(z_where_d_t)\n",
        "    # print(\"worm_frame shape where\", worm_frame.shape)\n",
        "    # print(\"z_where_d_t shape where\", z_where_d_t.shape)\n",
        "    frame_recon = embed_frames(worm_frame, z_where_d_t, network.frame_size)\n",
        "    # print(\"frame_recon shape where\", frame_recon)\n",
        "    frame = frame - frame_recon\n",
        "  z_where_t = jnp.stack(z_where_t, -2)\n",
        "  # print(\"z_where_t.shape where\", z_where_t.shape)\n",
        "  out = {**inputs, **{f\"z_where_{t}\": z_where_t}}\n",
        "  return (out,)\n",
        "\n",
        "\n",
        "def kernel_what(network, inputs, D=2, t=0):\n",
        "  worm_frames = crop_frames(inputs[\"frames\"][..., t, :, :], inputs[f\"z_where_{t}\"], 28)\n",
        "  loc, scale = network.encode_what(worm_frames)\n",
        "  z_what_t = numpyro.sample(f\"z_what_{t}\", dist.Normal(loc, scale).to_event(2))\n",
        "\n",
        "  out = {**inputs, **{f\"z_what_{t}\": z_what_t}}\n",
        "  return (out,)\n",
        "\n",
        "\n",
        "def kernel_sim(network, inputs, T=10):\n",
        "  z_what = jnp.stack([inputs[f\"z_what_{t}\"] for t in range(T)], -2)\n",
        "\n",
        "  proposed_sim_params = network.encode_sim(z_what)\n",
        "  loc_L, scale_L, loc_A, scale_A, loc_T, scale_T, loc_kw, scale_kw, loc_ku, scale_ku, loc_inc, scale_inc, loc_dr, scale_dr, loc_phase_1, scale_phase_1, loc_phase_2, scale_phase_2, loc_phase_3, scale_phase_3, loc_alpha, scale_alpha = proposed_sim_params\n",
        "\n",
        "  L = numpyro.sample('L', dist.TruncatedNormal(loc_L, scale_L, low=23, high=28).to_event(1))\n",
        "  A = numpyro.sample('A', dist.Normal(loc_A, scale_A).to_event(1))\n",
        "  T = numpyro.sample('T', dist.Normal(loc_T, scale_T).to_event(1))\n",
        "  kw = numpyro.sample('kw', dist.TruncatedNormal(loc_kw, scale_kw, low=0, high=2 * jnp.pi).to_event(1))\n",
        "  ku = numpyro.sample('ku', dist.Normal(loc_ku, scale_ku).to_event(1))\n",
        "  inc = numpyro.sample('inc', dist.TruncatedNormal(loc_inc, scale_inc, low=0, high=2 * jnp.pi).to_event(1))\n",
        "  dr = numpyro.sample('dr', dist.TruncatedNormal(loc_dr, scale_dr, low=0.2, high=0.8).to_event(1))\n",
        "  phase_1 = numpyro.sample('phase_1', dist.TruncatedNormal(loc_phase_1, scale_phase_1, low=0, high=2 * jnp.pi).to_event(1))\n",
        "  phase_2 = numpyro.sample('phase_2', dist.TruncatedNormal(loc_phase_2, scale_phase_2, low=0, high=2 * jnp.pi).to_event(1))\n",
        "  phase_3 = numpyro.sample('phase_3', dist.Normal(loc_phase_3, scale_phase_3).to_event(1))\n",
        "  alpha = numpyro.sample('alpha', dist.Normal(loc_alpha, scale_alpha).to_event(1))\n",
        "\n",
        "  out = {**inputs, **{'L': L, 'A': A, 'T': T, 'kw': kw, 'ku': ku, 'inc': inc, 'dr': dr, 'phase_1': phase_1, 'phase_2': phase_2, 'phase_3': phase_3, 'alpha': alpha}}\n",
        "  return (out,)"
      ]
    },
    {
      "cell_type": "markdown",
      "metadata": {},
      "source": [
        "Finally, we create the inference program, define the loss function,\n",
        "run the training loop, and plot the results.\n",
        "\n"
      ]
    },
    {
      "cell_type": "code",
      "execution_count": 8,
      "metadata": {
        "collapsed": false
      },
      "outputs": [],
      "source": [
        "D = 2\n",
        "def make_wormsim(params, wormsim_net, T=10, num_sweeps=5, num_particles=10):\n",
        "  network = coix.util.BindModule(wormsim_net, params)\n",
        "  # Add particle dimension and construct a program.\n",
        "  make_particle_plate = lambda: numpyro.plate(\"particle\", num_particles, dim=-2)\n",
        "  target = make_particle_plate()(partial(wormsim_target, network, D=D, T=T))\n",
        "  kernels = []\n",
        "  for t in range(T):\n",
        "    kernels.append(\n",
        "        make_particle_plate()(partial(kernel_where, network, D=2, t=t))\n",
        "    )\n",
        "    kernels.append(make_particle_plate()(partial(kernel_what, network, D=2, t=t))\n",
        "    )\n",
        "  kernels.append(make_particle_plate()(partial(kernel_sim, network, T=T)))\n",
        "  program = coix.algo.apgs(target, kernels, num_sweeps=num_sweeps)\n",
        "  return program\n",
        "\n",
        "\n",
        "def loss_fn(params, key, batch, wormsim_net, num_sweeps, num_particles):\n",
        "  # Prepare data for the program.\n",
        "  shuffle_rng, rng_key = random.split(key)\n",
        "  batch = random.permutation(shuffle_rng, batch, axis=1)\n",
        "  T = batch.shape[-3]\n",
        "  batch_size = batch.shape[-4]\n",
        "\n",
        "  # Run the program and get metrics.\n",
        "  program = make_wormsim(params, wormsim_net, T, num_sweeps, num_particles)\n",
        "  _, _, metrics = coix.traced_evaluate(program, seed=rng_key)(batch)\n",
        "  for metric_name in [\"log_Z\", \"log_density\", \"loss\"]:\n",
        "    metrics[metric_name] = metrics[metric_name] / batch.shape[0]\n",
        "  return metrics[\"loss\"], metrics\n",
        "\n"
      ]
    },
    {
      "cell_type": "code",
      "execution_count": 9,
      "metadata": {},
      "outputs": [],
      "source": [
        "class Args(argparse.Namespace):\n",
        "  batch_size = 5\n",
        "  # batch_size = 16\n",
        "  num_sweeps = 5\n",
        "  num_particles = 10\n",
        "  learning_rate = 1e-4\n",
        "  # learning_rate = 5e-5\n",
        "  # num_steps = 60_000\n",
        "  # num_steps = 40_000\n",
        "  num_steps = 4000\n",
        "  # num_steps = 2000\n",
        "  device = \"gpu\"\n",
        "\n",
        "args = Args()"
      ]
    },
    {
      "cell_type": "code",
      "execution_count": 10,
      "metadata": {},
      "outputs": [
        {
          "name": "stderr",
          "output_type": "stream",
          "text": [
            "WARNING: All log messages before absl::InitializeLog() is called are written to STDERR\n",
            "I0000 00:00:1723654294.294850   84752 cuda_executor.cc:1015] successful NUMA node read from SysFS had negative value (-1), but there must be at least one NUMA node, so returning NUMA node zero. See more at https://github.com/torvalds/linux/blob/v6.0/Documentation/ABI/testing/sysfs-bus-pci#L344-L355\n",
            "2024-08-14 18:51:34.330794: W tensorflow/core/common_runtime/gpu/gpu_device.cc:2343] Cannot dlopen some GPU libraries. Please make sure the missing libraries mentioned above are installed properly if you would like to use GPU. Follow the guide at https://www.tensorflow.org/install/gpu for how to download and setup the required libraries for your platform.\n",
            "Skipping registering GPU devices...\n",
            "2024-08-14 18:51:34.584239: W external/xla/xla/service/gpu/nvptx_compiler.cc:836] The NVIDIA driver's CUDA version is 12.2 which is older than the PTX compiler version (12.5.82). Because the driver is older than the PTX compiler version, XLA is disabling parallel compilation, which may slow down compilation. You should update your NVIDIA driver or use the NVIDIA-provided CUDA forward compatibility packages.\n"
          ]
        }
      ],
      "source": [
        "lr = args.learning_rate\n",
        "num_steps = args.num_steps\n",
        "batch_size = args.batch_size\n",
        "num_sweeps = args.num_sweeps\n",
        "num_particles = args.num_particles\n",
        "\n",
        "train_ds = load_dataset(is_training=True, batch_size=batch_size, n_data=-1)\n",
        "\n",
        "test_ds = load_dataset(is_training=False, batch_size=batch_size)\n",
        "test_data = next(test_ds)\n",
        "frame_size = test_data.shape[-1]\n",
        "wormsim_net = wormsimAutoEncoder(num_particles=num_particles, batch_size=batch_size, frame_size=frame_size)\n",
        "init_params = wormsim_net.init(jax.random.PRNGKey(0), test_data)\n"
      ]
    },
    {
      "cell_type": "code",
      "execution_count": 11,
      "metadata": {},
      "outputs": [],
      "source": [
        "# lr_schedule = cosine_decay_schedule(lr, num_steps, 0.1)\n",
        "lr_schedule = cosine_decay_schedule(lr, num_steps, 1.0)\n",
        "\n",
        "opt = optax.chain(\n",
        "    # clip_by_global_norm(100.0),\n",
        "    optax.adam(lr_schedule),\n",
        ")"
      ]
    },
    {
      "cell_type": "code",
      "execution_count": 12,
      "metadata": {},
      "outputs": [],
      "source": [
        "# wormsim_params = np.load(\"worm_learned_params_2.npy\", allow_pickle=True).item()"
      ]
    },
    {
      "cell_type": "code",
      "execution_count": 13,
      "metadata": {},
      "outputs": [
        {
          "name": "stdout",
          "output_type": "stream",
          "text": [
            "Compiling the first train step...\n"
          ]
        },
        {
          "name": "stderr",
          "output_type": "stream",
          "text": [
            "2024-08-14 18:58:34.750021: W external/xla/xla/service/hlo_rematerialization.cc:3005] Can't reduce memory use below 16.86GiB (18107516515 bytes) by rematerialization; only reduced to 20.08GiB (21557503892 bytes), down from 20.35GiB (21849738288 bytes) originally\n",
            "2024-08-14 18:59:11.221546: E external/xla/xla/service/slow_operation_alarm.cc:65] \n",
            "********************************\n",
            "[Compiling module jit_step_fn] Very slow compile? If you want to file a bug, run with envvar XLA_FLAGS=--xla_dump_to=/tmp/foo and attach the results.\n",
            "********************************\n",
            "2024-08-14 18:59:42.601533: E external/xla/xla/service/slow_operation_alarm.cc:133] The operation took 2m31.380524971s\n",
            "\n",
            "********************************\n",
            "[Compiling module jit_step_fn] Very slow compile? If you want to file a bug, run with envvar XLA_FLAGS=--xla_dump_to=/tmp/foo and attach the results.\n",
            "********************************\n",
            "2024-08-14 19:00:44.517049: W external/xla/xla/tsl/framework/bfc_allocator.cc:482] Allocator (GPU_0_bfc) ran out of memory trying to allocate 20.72GiB (rounded to 22248723456)requested by op \n",
            "2024-08-14 19:00:44.523240: W external/xla/xla/tsl/framework/bfc_allocator.cc:494] *___________________________________________________________________________________________________\n",
            "E0814 19:00:44.523401   84752 pjrt_stream_executor_client.cc:3067] Execution of replica 0 failed: RESOURCE_EXHAUSTED: Out of memory while trying to allocate 22248723352 bytes.\n"
          ]
        },
        {
          "ename": "XlaRuntimeError",
          "evalue": "RESOURCE_EXHAUSTED: Out of memory while trying to allocate 22248723352 bytes.",
          "output_type": "error",
          "traceback": [
            "\u001b[0;31m---------------------------------------------------------------------------\u001b[0m",
            "\u001b[0;31mXlaRuntimeError\u001b[0m                           Traceback (most recent call last)",
            "Cell \u001b[0;32mIn[13], line 2\u001b[0m\n\u001b[1;32m      1\u001b[0m \u001b[38;5;66;03m# with jax.disable_jit():\u001b[39;00m\n\u001b[0;32m----> 2\u001b[0m wormsim_params, _ \u001b[38;5;241m=\u001b[39m \u001b[43mcoix\u001b[49m\u001b[38;5;241;43m.\u001b[39;49m\u001b[43mutil\u001b[49m\u001b[38;5;241;43m.\u001b[39;49m\u001b[43mtrain\u001b[49m\u001b[43m(\u001b[49m\n\u001b[1;32m      3\u001b[0m \u001b[43m    \u001b[49m\u001b[43mpartial\u001b[49m\u001b[43m(\u001b[49m\n\u001b[1;32m      4\u001b[0m \u001b[43m        \u001b[49m\u001b[43mloss_fn\u001b[49m\u001b[43m,\u001b[49m\n\u001b[1;32m      5\u001b[0m \u001b[43m        \u001b[49m\u001b[43mwormsim_net\u001b[49m\u001b[38;5;241;43m=\u001b[39;49m\u001b[43mwormsim_net\u001b[49m\u001b[43m,\u001b[49m\n\u001b[1;32m      6\u001b[0m \u001b[43m        \u001b[49m\u001b[43mnum_sweeps\u001b[49m\u001b[38;5;241;43m=\u001b[39;49m\u001b[43mnum_sweeps\u001b[49m\u001b[43m,\u001b[49m\n\u001b[1;32m      7\u001b[0m \u001b[43m        \u001b[49m\u001b[43mnum_particles\u001b[49m\u001b[38;5;241;43m=\u001b[39;49m\u001b[43mnum_particles\u001b[49m\u001b[43m,\u001b[49m\n\u001b[1;32m      8\u001b[0m \u001b[43m    \u001b[49m\u001b[43m)\u001b[49m\u001b[43m,\u001b[49m\n\u001b[1;32m      9\u001b[0m \u001b[43m    \u001b[49m\u001b[43minit_params\u001b[49m\u001b[43m,\u001b[49m\n\u001b[1;32m     10\u001b[0m \u001b[43m    \u001b[49m\u001b[38;5;66;43;03m# wormsim_params,\u001b[39;49;00m\n\u001b[1;32m     11\u001b[0m \u001b[43m    \u001b[49m\u001b[38;5;66;43;03m# optax.adam(lr),\u001b[39;49;00m\n\u001b[1;32m     12\u001b[0m \u001b[43m    \u001b[49m\u001b[43mopt\u001b[49m\u001b[43m,\u001b[49m\n\u001b[1;32m     13\u001b[0m \u001b[43m    \u001b[49m\u001b[43mnum_steps\u001b[49m\u001b[43m,\u001b[49m\n\u001b[1;32m     14\u001b[0m \u001b[43m    \u001b[49m\u001b[43mtrain_ds\u001b[49m\u001b[43m,\u001b[49m\n\u001b[1;32m     15\u001b[0m \u001b[43m)\u001b[49m\n",
            "File \u001b[0;32m~/.local/lib/python3.12/site-packages/coix/util.py:204\u001b[0m, in \u001b[0;36mtrain\u001b[0;34m(loss_fn, init_params, optimizer, num_steps, dataloader, seed, jit_compile, eval_fn, log_every, init_step, opt_state, **kwargs)\u001b[0m\n\u001b[1;32m    202\u001b[0m key \u001b[38;5;241m=\u001b[39m random\u001b[38;5;241m.\u001b[39mfold_in(run_key, step)\n\u001b[1;32m    203\u001b[0m args \u001b[38;5;241m=\u001b[39m (key, \u001b[38;5;28mnext\u001b[39m(dataloader)) \u001b[38;5;28;01mif\u001b[39;00m dataloader \u001b[38;5;129;01mis\u001b[39;00m \u001b[38;5;129;01mnot\u001b[39;00m \u001b[38;5;28;01mNone\u001b[39;00m \u001b[38;5;28;01melse\u001b[39;00m (key,)\n\u001b[0;32m--> 204\u001b[0m params, opt_state, metrics \u001b[38;5;241m=\u001b[39m \u001b[43mmaybe_jitted_step_fn\u001b[49m\u001b[43m(\u001b[49m\n\u001b[1;32m    205\u001b[0m \u001b[43m    \u001b[49m\u001b[43mparams\u001b[49m\u001b[43m,\u001b[49m\u001b[43m \u001b[49m\u001b[43mopt_state\u001b[49m\u001b[43m,\u001b[49m\u001b[43m \u001b[49m\u001b[38;5;241;43m*\u001b[39;49m\u001b[43margs\u001b[49m\u001b[43m,\u001b[49m\u001b[43m \u001b[49m\u001b[38;5;241;43m*\u001b[39;49m\u001b[38;5;241;43m*\u001b[39;49m\u001b[43mkwargs\u001b[49m\n\u001b[1;32m    206\u001b[0m \u001b[43m\u001b[49m\u001b[43m)\u001b[49m\n\u001b[1;32m    207\u001b[0m \u001b[38;5;28;01mfor\u001b[39;00m name \u001b[38;5;129;01min\u001b[39;00m kwargs:\n\u001b[1;32m    208\u001b[0m   \u001b[38;5;28;01mif\u001b[39;00m name \u001b[38;5;129;01min\u001b[39;00m metrics:\n",
            "    \u001b[0;31m[... skipping hidden 10 frame]\u001b[0m\n",
            "File \u001b[0;32m~/.local/lib/python3.12/site-packages/jax/_src/interpreters/pxla.py:1248\u001b[0m, in \u001b[0;36mExecuteReplicated.__call__\u001b[0;34m(self, *args)\u001b[0m\n\u001b[1;32m   1246\u001b[0m   \u001b[38;5;28mself\u001b[39m\u001b[38;5;241m.\u001b[39m_handle_token_bufs(result_token_bufs, sharded_runtime_token)\n\u001b[1;32m   1247\u001b[0m \u001b[38;5;28;01melse\u001b[39;00m:\n\u001b[0;32m-> 1248\u001b[0m   results \u001b[38;5;241m=\u001b[39m \u001b[38;5;28;43mself\u001b[39;49m\u001b[38;5;241;43m.\u001b[39;49m\u001b[43mxla_executable\u001b[49m\u001b[38;5;241;43m.\u001b[39;49m\u001b[43mexecute_sharded\u001b[49m\u001b[43m(\u001b[49m\u001b[43minput_bufs\u001b[49m\u001b[43m)\u001b[49m\n\u001b[1;32m   1250\u001b[0m \u001b[38;5;28;01mif\u001b[39;00m dispatch\u001b[38;5;241m.\u001b[39mneeds_check_special():\n\u001b[1;32m   1251\u001b[0m   out_arrays \u001b[38;5;241m=\u001b[39m results\u001b[38;5;241m.\u001b[39mdisassemble_into_single_device_arrays()\n",
            "\u001b[0;31mXlaRuntimeError\u001b[0m: RESOURCE_EXHAUSTED: Out of memory while trying to allocate 22248723352 bytes."
          ]
        }
      ],
      "source": [
        "# with jax.disable_jit():\n",
        "wormsim_params, _ = coix.util.train(\n",
        "    partial(\n",
        "        loss_fn,\n",
        "        wormsim_net=wormsim_net,\n",
        "        num_sweeps=num_sweeps,\n",
        "        num_particles=num_particles,\n",
        "    ),\n",
        "    init_params,\n",
        "    # wormsim_params,\n",
        "    # optax.adam(lr),\n",
        "    opt,\n",
        "    num_steps,\n",
        "    train_ds,\n",
        ")\n"
      ]
    },
    {
      "cell_type": "code",
      "execution_count": null,
      "metadata": {},
      "outputs": [],
      "source": [
        "# load worm_learned_params.npy\n",
        "\n",
        "# wormsim_params = np.load(\"worm_learned_params.npy\", allow_pickle=True).item()\n",
        "\n",
        "# np.save(\"worm_learned_params.npy\", wormsim_params)"
      ]
    },
    {
      "cell_type": "code",
      "execution_count": null,
      "metadata": {},
      "outputs": [],
      "source": [
        "# wormsim_params = np.load(\"worm_learned_params_longrun.npy\", allow_pickle=True).item()\n"
      ]
    },
    {
      "cell_type": "code",
      "execution_count": null,
      "metadata": {},
      "outputs": [],
      "source": [
        "train_ds = load_dataset(is_training=True, batch_size=batch_size, n_data=30)"
      ]
    },
    {
      "cell_type": "code",
      "execution_count": null,
      "metadata": {},
      "outputs": [],
      "source": [
        "T_test = test_data.shape[-3]\n",
        "batch_size_test = test_data.shape[-4]\n",
        "program = make_wormsim(\n",
        "    wormsim_params, wormsim_net, T_test, num_sweeps, num_particles\n",
        "    # wormsim_params, wormsim_net, T_test, 100 * num_sweeps, num_particles\n",
        ")\n"
      ]
    },
    {
      "cell_type": "code",
      "execution_count": null,
      "metadata": {},
      "outputs": [],
      "source": [
        "foo = next(train_ds)"
      ]
    },
    {
      "cell_type": "code",
      "execution_count": null,
      "metadata": {},
      "outputs": [],
      "source": [
        "\n",
        "out, _, _ = coix.traced_evaluate(program, seed=jax.random.PRNGKey(1))(\n",
        "    # test_data\n",
        "    foo\n",
        ")\n",
        "out = out[0]\n"
      ]
    },
    {
      "cell_type": "code",
      "execution_count": null,
      "metadata": {},
      "outputs": [
        {
          "data": {
            "image/png": "[encoded data removed]",
            "text/plain": [
              "<Figure size 1200x600 with 2 Axes>"
            ]
          },
          "metadata": {},
          "output_type": "display_data"
        }
      ],
      "source": [
        "particle = 8\n",
        "b = 0\n",
        "prop_cycle = plt.rcParams[\"axes.prop_cycle\"]\n",
        "colors = prop_cycle.by_key()[\"color\"]\n",
        "fig, axes = plt.subplots(1, 2, figsize=(12, 6))\n",
        "def animate(i):\n",
        "  axes[0].cla()\n",
        "  # axes[0].imshow(test_data[b, i])\n",
        "  axes[0].imshow(foo[b, i])\n",
        "  axes[1].cla()\n",
        "  axes[1].imshow(out[\"frames_recon\"][particle, b, i])\n",
        "  for d in range(2):\n",
        "    loc = out[f\"z_where_{i}\"][particle, b, d]\n",
        "    # loc = jnp.array([-1, 1])\n",
        "    # print(loc)\n",
        "    where = 0.5 * (loc + 1) * (frame_size - 28) - 0.5\n",
        "    color = colors[d]\n",
        "    axes[0].add_patch(\n",
        "        Rectangle(where, 28, 28, edgecolor=color, lw=3, fill=False)\n",
        "    )\n",
        "plt.rc(\"animation\", html=\"jshtml\")\n",
        "plt.tight_layout()\n",
        "ani = animation.FuncAnimation(fig, animate, frames=range(10), interval=300)\n",
        "writer = animation.PillowWriter(fps=15)\n",
        "ani.save(\"worms.gif\", writer=writer)\n",
        "plt.show()\n"
      ]
    },
    {
      "cell_type": "code",
      "execution_count": null,
      "metadata": {},
      "outputs": [
        {
          "name": "stdout",
          "output_type": "stream",
          "text": [
            "0.0\n",
            "1.0\n",
            "1.1754944e-38\n",
            "0.742743\n",
            "0.0\n",
            "1.0\n",
            "1.1754944e-38\n",
            "0.75291127\n",
            "0.0\n",
            "1.0\n",
            "1.1754944e-38\n",
            "0.7494604\n",
            "0.0\n",
            "1.0\n",
            "1.1754944e-38\n",
            "0.7427127\n",
            "0.0\n",
            "1.0\n",
            "1.1754944e-38\n",
            "0.72904545\n",
            "0.0\n",
            "1.0\n",
            "1.1754944e-38\n",
            "0.75717145\n",
            "0.0\n",
            "1.0\n",
            "1.1754944e-38\n",
            "0.7186671\n",
            "0.0\n",
            "1.0\n",
            "1.1754944e-38\n",
            "0.75833505\n",
            "0.0\n",
            "1.0\n",
            "1.1754944e-38\n",
            "0.7698509\n",
            "0.0\n",
            "1.0\n",
            "1.1754944e-38\n",
            "0.7545398\n"
          ]
        },
        {
          "data": {
            "image/png": "[encoded data removed]",
            "text/plain": [
              "<Figure size 1200x600 with 2 Axes>"
            ]
          },
          "metadata": {},
          "output_type": "display_data"
        },
        {
          "data": {
            "image/png": "[encoded data removed]",
            "text/plain": [
              "<Figure size 1200x600 with 2 Axes>"
            ]
          },
          "metadata": {},
          "output_type": "display_data"
        },
        {
          "data": {
            "image/png": "[encoded data removed]",
            "text/plain": [
              "<Figure size 1200x600 with 2 Axes>"
            ]
          },
          "metadata": {},
          "output_type": "display_data"
        },
        {
          "data": {
            "image/png": "[encoded data removed]",
            "text/plain": [
              "<Figure size 1200x600 with 2 Axes>"
            ]
          },
          "metadata": {},
          "output_type": "display_data"
        },
        {
          "data": {
            "image/png": "[encoded data removed]",
            "text/plain": [
              "<Figure size 1200x600 with 2 Axes>"
            ]
          },
          "metadata": {},
          "output_type": "display_data"
        },
        {
          "data": {
            "image/png": "[encoded data removed]",
            "text/plain": [
              "<Figure size 1200x600 with 2 Axes>"
            ]
          },
          "metadata": {},
          "output_type": "display_data"
        },
        {
          "data": {
            "image/png": "[encoded data removed]",
            "text/plain": [
              "<Figure size 1200x600 with 2 Axes>"
            ]
          },
          "metadata": {},
          "output_type": "display_data"
        },
        {
          "data": {
            "image/png": "[encoded data removed]",
            "text/plain": [
              "<Figure size 1200x600 with 2 Axes>"
            ]
          },
          "metadata": {},
          "output_type": "display_data"
        },
        {
          "data": {
            "image/png": "[encoded data removed]",
            "text/plain": [
              "<Figure size 1200x600 with 2 Axes>"
            ]
          },
          "metadata": {},
          "output_type": "display_data"
        },
        {
          "data": {
            "image/png": "[encoded data removed]",
            "text/plain": [
              "<Figure size 1200x600 with 2 Axes>"
            ]
          },
          "metadata": {},
          "output_type": "display_data"
        }
      ],
      "source": [
        "b = 4\n",
        "prop_cycle = plt.rcParams[\"axes.prop_cycle\"]\n",
        "colors = prop_cycle.by_key()[\"color\"]\n",
        "def animate(i):\n",
        "  fig, axes = plt.subplots(1, 2, figsize=(12, 6))\n",
        "  axes[0].cla()\n",
        "  # axes[0].imshow(test_data[b, i])\n",
        "  axes[0].imshow(foo[b, i])\n",
        "  axes[1].cla()\n",
        "  axes[1].imshow(out[\"frames_recon\"][0, b, i])\n",
        "  print(test_data[b, i].min())\n",
        "  print(test_data[b, i].max())\n",
        "  print(out[\"frames_recon\"][0, b, i].min())\n",
        "  print(out[\"frames_recon\"][0, b, i].max())\n",
        "  for d in range(2):\n",
        "    loc = out[f\"z_where_{i}\"][0, b, d]\n",
        "    where = 0.5 * (loc + 1) * (frame_size - 28) - 0.5\n",
        "    color = colors[d]\n",
        "    axes[0].add_patch(\n",
        "        Rectangle(where, 28, 28, edgecolor=color, lw=3, fill=False)\n",
        "    )\n",
        "for i in range(10):\n",
        "  animate(i)\n",
        "plt.rc(\"animation\", html=\"jshtml\")\n",
        "plt.tight_layout()\n",
        "# ani = animation.FuncAnimation(fig, animate, frames=range(10), interval=300)\n",
        "# writer = animation.PillowWriter(fps=15)\n",
        "# ani.save(\"wormsim.gif\", writer=writer)\n",
        "# plt.show()\n"
      ]
    },
    {
      "cell_type": "code",
      "execution_count": null,
      "metadata": {},
      "outputs": [
        {
          "data": {
            "text/plain": [
              "dict_keys(['frames', 'frames_recon', 'params', 'worm_frames', 'z_what_0', 'z_what_1', 'z_what_2', 'z_what_3', 'z_what_4', 'z_what_5', 'z_what_6', 'z_what_7', 'z_what_8', 'z_what_9', 'z_where_0', 'z_where_1', 'z_where_2', 'z_where_3', 'z_where_4', 'z_where_5', 'z_where_6', 'z_where_7', 'z_where_8', 'z_where_9'])"
            ]
          },
          "execution_count": 35,
          "metadata": {},
          "output_type": "execute_result"
        }
      ],
      "source": [
        "out.keys()"
      ]
    },
    {
      "cell_type": "code",
      "execution_count": null,
      "metadata": {},
      "outputs": [],
      "source": [
        "duration = 1.55\n",
        "snapshots = 10\n",
        "kpoints = 6\n",
        "sim_fn = partial(\n",
        "        worm_simulation,\n",
        "        duration=duration,\n",
        "        snapshots=snapshots,\n",
        "        kpoints=kpoints,\n",
        "    )"
      ]
    },
    {
      "cell_type": "code",
      "execution_count": null,
      "metadata": {},
      "outputs": [
        {
          "ename": "AssertionError",
          "evalue": "",
          "output_type": "error",
          "traceback": [
            "\u001b[0;31m---------------------------------------------------------------------------\u001b[0m",
            "\u001b[0;31mAssertionError\u001b[0m                            Traceback (most recent call last)",
            "Cell \u001b[0;32mIn[46], line 2\u001b[0m\n\u001b[1;32m      1\u001b[0m plt\u001b[38;5;241m.\u001b[39mfigure()\n\u001b[0;32m----> 2\u001b[0m plt\u001b[38;5;241m.\u001b[39mimshow(\u001b[43mnetwork\u001b[49m\u001b[38;5;241;43m.\u001b[39;49m\u001b[43mdecode_what\u001b[49m\u001b[43m(\u001b[49m\u001b[43mfoo\u001b[49m\u001b[43m)\u001b[49m)\n",
            "File \u001b[0;32m~/.local/lib/python3.12/site-packages/coix/util.py:104\u001b[0m, in \u001b[0;36m_ChildModule.__call__\u001b[0;34m(self, *args, **kwargs)\u001b[0m\n\u001b[1;32m    103\u001b[0m \u001b[38;5;28;01mdef\u001b[39;00m \u001b[38;5;21m__call__\u001b[39m(\u001b[38;5;28mself\u001b[39m, \u001b[38;5;241m*\u001b[39margs, \u001b[38;5;241m*\u001b[39m\u001b[38;5;241m*\u001b[39mkwargs):\n\u001b[0;32m--> 104\u001b[0m   \u001b[38;5;28;01mreturn\u001b[39;00m \u001b[38;5;28;43mself\u001b[39;49m\u001b[38;5;241;43m.\u001b[39;49m\u001b[43mmodule\u001b[49m\u001b[38;5;241;43m.\u001b[39;49m\u001b[43mapply\u001b[49m\u001b[43m(\u001b[49m\n\u001b[1;32m    105\u001b[0m \u001b[43m      \u001b[49m\u001b[38;5;28;43mself\u001b[39;49m\u001b[38;5;241;43m.\u001b[39;49m\u001b[43mparams\u001b[49m\u001b[43m,\u001b[49m\n\u001b[1;32m    106\u001b[0m \u001b[43m      \u001b[49m\u001b[38;5;241;43m*\u001b[39;49m\u001b[43margs\u001b[49m\u001b[43m,\u001b[49m\n\u001b[1;32m    107\u001b[0m \u001b[43m      \u001b[49m\u001b[43mmethod\u001b[49m\u001b[38;5;241;43m=\u001b[39;49m\u001b[38;5;28;43;01mlambda\u001b[39;49;00m\u001b[43m \u001b[49m\u001b[43mn\u001b[49m\u001b[43m,\u001b[49m\u001b[43m \u001b[49m\u001b[38;5;241;43m*\u001b[39;49m\u001b[43ma\u001b[49m\u001b[43m,\u001b[49m\u001b[43m \u001b[49m\u001b[38;5;241;43m*\u001b[39;49m\u001b[38;5;241;43m*\u001b[39;49m\u001b[43mkw\u001b[49m\u001b[43m:\u001b[49m\u001b[43m \u001b[49m\u001b[38;5;28;43mgetattr\u001b[39;49m\u001b[43m(\u001b[49m\u001b[43mn\u001b[49m\u001b[43m,\u001b[49m\u001b[43m \u001b[49m\u001b[38;5;28;43mself\u001b[39;49m\u001b[38;5;241;43m.\u001b[39;49m\u001b[43mname\u001b[49m\u001b[43m)\u001b[49m\u001b[43m(\u001b[49m\u001b[38;5;241;43m*\u001b[39;49m\u001b[43ma\u001b[49m\u001b[43m,\u001b[49m\u001b[43m \u001b[49m\u001b[38;5;241;43m*\u001b[39;49m\u001b[38;5;241;43m*\u001b[39;49m\u001b[43mkw\u001b[49m\u001b[43m)\u001b[49m\u001b[43m,\u001b[49m\n\u001b[1;32m    108\u001b[0m \u001b[43m      \u001b[49m\u001b[38;5;241;43m*\u001b[39;49m\u001b[38;5;241;43m*\u001b[39;49m\u001b[43mkwargs\u001b[49m\u001b[43m,\u001b[49m\n\u001b[1;32m    109\u001b[0m \u001b[43m  \u001b[49m\u001b[43m)\u001b[49m\n",
            "    \u001b[0;31m[... skipping hidden 4 frame]\u001b[0m\n",
            "File \u001b[0;32m~/.local/lib/python3.12/site-packages/coix/util.py:107\u001b[0m, in \u001b[0;36m_ChildModule.__call__.<locals>.<lambda>\u001b[0;34m(n, *a, **kw)\u001b[0m\n\u001b[1;32m    103\u001b[0m \u001b[38;5;28;01mdef\u001b[39;00m \u001b[38;5;21m__call__\u001b[39m(\u001b[38;5;28mself\u001b[39m, \u001b[38;5;241m*\u001b[39margs, \u001b[38;5;241m*\u001b[39m\u001b[38;5;241m*\u001b[39mkwargs):\n\u001b[1;32m    104\u001b[0m   \u001b[38;5;28;01mreturn\u001b[39;00m \u001b[38;5;28mself\u001b[39m\u001b[38;5;241m.\u001b[39mmodule\u001b[38;5;241m.\u001b[39mapply(\n\u001b[1;32m    105\u001b[0m       \u001b[38;5;28mself\u001b[39m\u001b[38;5;241m.\u001b[39mparams,\n\u001b[1;32m    106\u001b[0m       \u001b[38;5;241m*\u001b[39margs,\n\u001b[0;32m--> 107\u001b[0m       method\u001b[38;5;241m=\u001b[39m\u001b[38;5;28;01mlambda\u001b[39;00m n, \u001b[38;5;241m*\u001b[39ma, \u001b[38;5;241m*\u001b[39m\u001b[38;5;241m*\u001b[39mkw: \u001b[38;5;28;43mgetattr\u001b[39;49m\u001b[43m(\u001b[49m\u001b[43mn\u001b[49m\u001b[43m,\u001b[49m\u001b[43m \u001b[49m\u001b[38;5;28;43mself\u001b[39;49m\u001b[38;5;241;43m.\u001b[39;49m\u001b[43mname\u001b[49m\u001b[43m)\u001b[49m\u001b[43m(\u001b[49m\u001b[38;5;241;43m*\u001b[39;49m\u001b[43ma\u001b[49m\u001b[43m,\u001b[49m\u001b[43m \u001b[49m\u001b[38;5;241;43m*\u001b[39;49m\u001b[38;5;241;43m*\u001b[39;49m\u001b[43mkw\u001b[49m\u001b[43m)\u001b[49m,\n\u001b[1;32m    108\u001b[0m       \u001b[38;5;241m*\u001b[39m\u001b[38;5;241m*\u001b[39mkwargs,\n\u001b[1;32m    109\u001b[0m   )\n",
            "    \u001b[0;31m[... skipping hidden 2 frame]\u001b[0m\n",
            "Cell \u001b[0;32mIn[19], line 161\u001b[0m, in \u001b[0;36mDecoderWhat.__call__\u001b[0;34m(self, worms)\u001b[0m\n\u001b[1;32m    158\u001b[0m r \u001b[38;5;241m=\u001b[39m jnp\u001b[38;5;241m.\u001b[39mtile(r, (worms\u001b[38;5;241m.\u001b[39mshape[:\u001b[38;5;241m-\u001b[39m\u001b[38;5;241m2\u001b[39m] \u001b[38;5;241m+\u001b[39m (\u001b[38;5;241m1\u001b[39m,)))\n\u001b[1;32m    160\u001b[0m \u001b[38;5;66;03m# draw the circles\u001b[39;00m\n\u001b[0;32m--> 161\u001b[0m circles \u001b[38;5;241m=\u001b[39m \u001b[43membed_worms\u001b[49m\u001b[43m(\u001b[49m\u001b[43mcircle_image\u001b[49m\u001b[43m(\u001b[49m\u001b[38;5;241;43m4\u001b[39;49m\u001b[43m)\u001b[49m\u001b[43m,\u001b[49m\u001b[43m \u001b[49m\u001b[43mworms\u001b[49m\u001b[43m \u001b[49m\u001b[38;5;241;43m*\u001b[39;49m\u001b[43m \u001b[49m\u001b[43mworm_scale\u001b[49m\u001b[43m,\u001b[49m\u001b[43m \u001b[49m\u001b[43mr\u001b[49m\u001b[43m,\u001b[49m\u001b[43m \u001b[49m\u001b[43mframe_size\u001b[49m\u001b[38;5;241;43m=\u001b[39;49m\u001b[38;5;241;43m28\u001b[39;49m\u001b[43m)\u001b[49m\n\u001b[1;32m    162\u001b[0m \u001b[38;5;66;03m# overlay the circles\u001b[39;00m\n\u001b[1;32m    163\u001b[0m p \u001b[38;5;241m=\u001b[39m nn\u001b[38;5;241m.\u001b[39msigmoid(circles\u001b[38;5;241m.\u001b[39msum(\u001b[38;5;241m-\u001b[39m\u001b[38;5;241m3\u001b[39m))\n",
            "Cell \u001b[0;32mIn[18], line 76\u001b[0m, in \u001b[0;36membed_worms\u001b[0;34m(worm_frames, z_where, scale, frame_size)\u001b[0m\n\u001b[1;32m     74\u001b[0m \u001b[38;5;28;01melse\u001b[39;00m:\n\u001b[1;32m     75\u001b[0m   in_axes \u001b[38;5;241m=\u001b[39m (\u001b[38;5;28;01mNone\u001b[39;00m, \u001b[38;5;241m0\u001b[39m, \u001b[38;5;241m0\u001b[39m)\n\u001b[0;32m---> 76\u001b[0m \u001b[38;5;28;01mreturn\u001b[39;00m \u001b[43mjax\u001b[49m\u001b[38;5;241;43m.\u001b[39;49m\u001b[43mvmap\u001b[49m\u001b[43m(\u001b[49m\u001b[43mpartial\u001b[49m\u001b[43m(\u001b[49m\u001b[43membed_worms\u001b[49m\u001b[43m,\u001b[49m\u001b[43m \u001b[49m\u001b[43mframe_size\u001b[49m\u001b[38;5;241;43m=\u001b[39;49m\u001b[43mframe_size\u001b[49m\u001b[43m)\u001b[49m\u001b[43m,\u001b[49m\u001b[43m \u001b[49m\u001b[43min_axes\u001b[49m\u001b[43m)\u001b[49m\u001b[43m(\u001b[49m\n\u001b[1;32m     77\u001b[0m \u001b[43m    \u001b[49m\u001b[43mworm_frames\u001b[49m\u001b[43m,\u001b[49m\u001b[43m \u001b[49m\u001b[43mz_where\u001b[49m\u001b[43m,\u001b[49m\u001b[43m \u001b[49m\u001b[43mscale\u001b[49m\n\u001b[1;32m     78\u001b[0m \u001b[43m\u001b[49m\u001b[43m)\u001b[49m\n",
            "    \u001b[0;31m[... skipping hidden 3 frame]\u001b[0m\n",
            "Cell \u001b[0;32mIn[18], line 76\u001b[0m, in \u001b[0;36membed_worms\u001b[0;34m(worm_frames, z_where, scale, frame_size)\u001b[0m\n\u001b[1;32m     74\u001b[0m \u001b[38;5;28;01melse\u001b[39;00m:\n\u001b[1;32m     75\u001b[0m   in_axes \u001b[38;5;241m=\u001b[39m (\u001b[38;5;28;01mNone\u001b[39;00m, \u001b[38;5;241m0\u001b[39m, \u001b[38;5;241m0\u001b[39m)\n\u001b[0;32m---> 76\u001b[0m \u001b[38;5;28;01mreturn\u001b[39;00m \u001b[43mjax\u001b[49m\u001b[38;5;241;43m.\u001b[39;49m\u001b[43mvmap\u001b[49m\u001b[43m(\u001b[49m\u001b[43mpartial\u001b[49m\u001b[43m(\u001b[49m\u001b[43membed_worms\u001b[49m\u001b[43m,\u001b[49m\u001b[43m \u001b[49m\u001b[43mframe_size\u001b[49m\u001b[38;5;241;43m=\u001b[39;49m\u001b[43mframe_size\u001b[49m\u001b[43m)\u001b[49m\u001b[43m,\u001b[49m\u001b[43m \u001b[49m\u001b[43min_axes\u001b[49m\u001b[43m)\u001b[49m\u001b[43m(\u001b[49m\n\u001b[1;32m     77\u001b[0m \u001b[43m    \u001b[49m\u001b[43mworm_frames\u001b[49m\u001b[43m,\u001b[49m\u001b[43m \u001b[49m\u001b[43mz_where\u001b[49m\u001b[43m,\u001b[49m\u001b[43m \u001b[49m\u001b[43mscale\u001b[49m\n\u001b[1;32m     78\u001b[0m \u001b[43m\u001b[49m\u001b[43m)\u001b[49m\n",
            "    \u001b[0;31m[... skipping hidden 3 frame]\u001b[0m\n",
            "Cell \u001b[0;32mIn[18], line 76\u001b[0m, in \u001b[0;36membed_worms\u001b[0;34m(worm_frames, z_where, scale, frame_size)\u001b[0m\n\u001b[1;32m     74\u001b[0m \u001b[38;5;28;01melse\u001b[39;00m:\n\u001b[1;32m     75\u001b[0m   in_axes \u001b[38;5;241m=\u001b[39m (\u001b[38;5;28;01mNone\u001b[39;00m, \u001b[38;5;241m0\u001b[39m, \u001b[38;5;241m0\u001b[39m)\n\u001b[0;32m---> 76\u001b[0m \u001b[38;5;28;01mreturn\u001b[39;00m \u001b[43mjax\u001b[49m\u001b[38;5;241;43m.\u001b[39;49m\u001b[43mvmap\u001b[49m\u001b[43m(\u001b[49m\u001b[43mpartial\u001b[49m\u001b[43m(\u001b[49m\u001b[43membed_worms\u001b[49m\u001b[43m,\u001b[49m\u001b[43m \u001b[49m\u001b[43mframe_size\u001b[49m\u001b[38;5;241;43m=\u001b[39;49m\u001b[43mframe_size\u001b[49m\u001b[43m)\u001b[49m\u001b[43m,\u001b[49m\u001b[43m \u001b[49m\u001b[43min_axes\u001b[49m\u001b[43m)\u001b[49m\u001b[43m(\u001b[49m\n\u001b[1;32m     77\u001b[0m \u001b[43m    \u001b[49m\u001b[43mworm_frames\u001b[49m\u001b[43m,\u001b[49m\u001b[43m \u001b[49m\u001b[43mz_where\u001b[49m\u001b[43m,\u001b[49m\u001b[43m \u001b[49m\u001b[43mscale\u001b[49m\n\u001b[1;32m     78\u001b[0m \u001b[43m\u001b[49m\u001b[43m)\u001b[49m\n",
            "    \u001b[0;31m[... skipping hidden 3 frame]\u001b[0m\n",
            "Cell \u001b[0;32mIn[18], line 69\u001b[0m, in \u001b[0;36membed_worms\u001b[0;34m(worm_frames, z_where, scale, frame_size)\u001b[0m\n\u001b[1;32m     64\u001b[0m \u001b[38;5;28;01mdef\u001b[39;00m \u001b[38;5;21membed_worms\u001b[39m(worm_frames, z_where, scale, frame_size\u001b[38;5;241m=\u001b[39m\u001b[38;5;241m64\u001b[39m):\n\u001b[1;32m     65\u001b[0m   \u001b[38;5;66;03m# worm_frames:  (worm_frames).      .digit_size.digit_size\u001b[39;00m\n\u001b[1;32m     66\u001b[0m   \u001b[38;5;66;03m# z_where: (worm_frames).(time).2\u001b[39;00m\n\u001b[1;32m     67\u001b[0m   \u001b[38;5;66;03m# out:     (worm_frames).(time).frame_size.frame_size\u001b[39;00m\n\u001b[1;32m     68\u001b[0m   \u001b[38;5;28;01mif\u001b[39;00m worm_frames\u001b[38;5;241m.\u001b[39mndim \u001b[38;5;241m==\u001b[39m \u001b[38;5;241m2\u001b[39m \u001b[38;5;129;01mand\u001b[39;00m z_where\u001b[38;5;241m.\u001b[39mndim \u001b[38;5;241m==\u001b[39m \u001b[38;5;241m1\u001b[39m:\n\u001b[0;32m---> 69\u001b[0m     \u001b[38;5;28;01mreturn\u001b[39;00m \u001b[43mscale_and_translate_variable_scale\u001b[49m\u001b[43m(\u001b[49m\u001b[43mworm_frames\u001b[49m\u001b[43m,\u001b[49m\u001b[43m \u001b[49m\u001b[43mz_where\u001b[49m\u001b[43m,\u001b[49m\u001b[43m \u001b[49m\u001b[43mscale\u001b[49m\u001b[43m,\u001b[49m\u001b[43m \u001b[49m\u001b[43mout_size\u001b[49m\u001b[38;5;241;43m=\u001b[39;49m\u001b[43mframe_size\u001b[49m\u001b[43m)\u001b[49m\n\u001b[1;32m     70\u001b[0m   \u001b[38;5;28;01melif\u001b[39;00m worm_frames\u001b[38;5;241m.\u001b[39mndim \u001b[38;5;241m==\u001b[39m \u001b[38;5;241m2\u001b[39m \u001b[38;5;129;01mand\u001b[39;00m z_where\u001b[38;5;241m.\u001b[39mndim \u001b[38;5;241m==\u001b[39m \u001b[38;5;241m2\u001b[39m:\n\u001b[1;32m     71\u001b[0m     in_axes \u001b[38;5;241m=\u001b[39m (\u001b[38;5;28;01mNone\u001b[39;00m, \u001b[38;5;241m0\u001b[39m, \u001b[38;5;241m0\u001b[39m)\n",
            "Cell \u001b[0;32mIn[18], line 15\u001b[0m, in \u001b[0;36mscale_and_translate_variable_scale\u001b[0;34m(image, where, scale, out_size)\u001b[0m\n\u001b[1;32m     13\u001b[0m \u001b[38;5;28;01mdef\u001b[39;00m \u001b[38;5;21mscale_and_translate_variable_scale\u001b[39m(image, where, scale, out_size):\n\u001b[1;32m     14\u001b[0m   translate \u001b[38;5;241m=\u001b[39m \u001b[38;5;28mabs\u001b[39m(image\u001b[38;5;241m.\u001b[39mshape[\u001b[38;5;241m-\u001b[39m\u001b[38;5;241m1\u001b[39m] \u001b[38;5;241m-\u001b[39m out_size) \u001b[38;5;241m*\u001b[39m (where[\u001b[38;5;241m.\u001b[39m\u001b[38;5;241m.\u001b[39m\u001b[38;5;241m.\u001b[39m, ::\u001b[38;5;241m-\u001b[39m\u001b[38;5;241m1\u001b[39m] \u001b[38;5;241m+\u001b[39m \u001b[38;5;241m1\u001b[39m) \u001b[38;5;241m/\u001b[39m \u001b[38;5;241m2\u001b[39m\n\u001b[0;32m---> 15\u001b[0m   \u001b[38;5;28;01mreturn\u001b[39;00m \u001b[43mjax\u001b[49m\u001b[38;5;241;43m.\u001b[39;49m\u001b[43mimage\u001b[49m\u001b[38;5;241;43m.\u001b[39;49m\u001b[43mscale_and_translate\u001b[49m\u001b[43m(\u001b[49m\n\u001b[1;32m     16\u001b[0m \u001b[43m      \u001b[49m\u001b[43mimage\u001b[49m\u001b[43m,\u001b[49m\n\u001b[1;32m     17\u001b[0m \u001b[43m      \u001b[49m\u001b[43m(\u001b[49m\u001b[43mout_size\u001b[49m\u001b[43m,\u001b[49m\u001b[43m \u001b[49m\u001b[43mout_size\u001b[49m\u001b[43m)\u001b[49m\u001b[43m,\u001b[49m\n\u001b[1;32m     18\u001b[0m \u001b[43m      \u001b[49m\u001b[43m(\u001b[49m\u001b[38;5;241;43m0\u001b[39;49m\u001b[43m,\u001b[49m\u001b[43m \u001b[49m\u001b[38;5;241;43m1\u001b[39;49m\u001b[43m)\u001b[49m\u001b[43m,\u001b[49m\n\u001b[1;32m     19\u001b[0m \u001b[43m      \u001b[49m\u001b[43mscale\u001b[49m\u001b[43m \u001b[49m\u001b[38;5;241;43m*\u001b[39;49m\u001b[43m \u001b[49m\u001b[43mjnp\u001b[49m\u001b[38;5;241;43m.\u001b[39;49m\u001b[43mones\u001b[49m\u001b[43m(\u001b[49m\u001b[38;5;241;43m2\u001b[39;49m\u001b[43m)\u001b[49m\u001b[43m,\u001b[49m\n\u001b[1;32m     20\u001b[0m \u001b[43m      \u001b[49m\u001b[43mtranslate\u001b[49m\u001b[43m,\u001b[49m\n\u001b[1;32m     21\u001b[0m \u001b[43m      \u001b[49m\u001b[43mmethod\u001b[49m\u001b[38;5;241;43m=\u001b[39;49m\u001b[38;5;124;43m\"\u001b[39;49m\u001b[38;5;124;43mcubic\u001b[39;49m\u001b[38;5;124;43m\"\u001b[39;49m\u001b[43m,\u001b[49m\n\u001b[1;32m     22\u001b[0m \u001b[43m      \u001b[49m\u001b[43mantialias\u001b[49m\u001b[38;5;241;43m=\u001b[39;49m\u001b[38;5;28;43;01mFalse\u001b[39;49;00m\u001b[43m,\u001b[49m\n\u001b[1;32m     23\u001b[0m \u001b[43m  \u001b[49m\u001b[43m)\u001b[49m\n",
            "File \u001b[0;32m~/.local/lib/python3.12/site-packages/jax/_src/image/scale.py:250\u001b[0m, in \u001b[0;36mscale_and_translate\u001b[0;34m(image, shape, spatial_dims, scale, translation, method, antialias, precision)\u001b[0m\n\u001b[1;32m    248\u001b[0m image, \u001b[38;5;241m=\u001b[39m promote_dtypes_inexact(image)\n\u001b[1;32m    249\u001b[0m scale, translation \u001b[38;5;241m=\u001b[39m promote_dtypes_inexact(scale, translation)\n\u001b[0;32m--> 250\u001b[0m \u001b[38;5;28;01mreturn\u001b[39;00m \u001b[43m_scale_and_translate\u001b[49m\u001b[43m(\u001b[49m\u001b[43mimage\u001b[49m\u001b[43m,\u001b[49m\u001b[43m \u001b[49m\u001b[43mshape\u001b[49m\u001b[43m,\u001b[49m\u001b[43m \u001b[49m\u001b[43mspatial_dims\u001b[49m\u001b[43m,\u001b[49m\u001b[43m \u001b[49m\u001b[43mscale\u001b[49m\u001b[43m,\u001b[49m\u001b[43m \u001b[49m\u001b[43mtranslation\u001b[49m\u001b[43m,\u001b[49m\n\u001b[1;32m    251\u001b[0m \u001b[43m                            \u001b[49m\u001b[43mkernel\u001b[49m\u001b[43m,\u001b[49m\u001b[43m \u001b[49m\u001b[43mantialias\u001b[49m\u001b[43m,\u001b[49m\u001b[43m \u001b[49m\u001b[43mprecision\u001b[49m\u001b[43m)\u001b[49m\n",
            "File \u001b[0;32m~/.local/lib/python3.12/site-packages/jax/_src/image/scale.py:92\u001b[0m, in \u001b[0;36m_scale_and_translate\u001b[0;34m(x, output_shape, spatial_dims, scale, translation, kernel, antialias, precision)\u001b[0m\n\u001b[1;32m     90\u001b[0m \u001b[38;5;28;01massert\u001b[39;00m \u001b[38;5;28mlen\u001b[39m(input_shape) \u001b[38;5;241m==\u001b[39m \u001b[38;5;28mlen\u001b[39m(output_shape)\n\u001b[1;32m     91\u001b[0m \u001b[38;5;28;01massert\u001b[39;00m \u001b[38;5;28mlen\u001b[39m(spatial_dims) \u001b[38;5;241m==\u001b[39m \u001b[38;5;28mlen\u001b[39m(scale)\n\u001b[0;32m---> 92\u001b[0m \u001b[38;5;28;01massert\u001b[39;00m \u001b[38;5;28mlen\u001b[39m(spatial_dims) \u001b[38;5;241m==\u001b[39m \u001b[38;5;28mlen\u001b[39m(translation)\n\u001b[1;32m     93\u001b[0m \u001b[38;5;28;01mif\u001b[39;00m \u001b[38;5;28mlen\u001b[39m(spatial_dims) \u001b[38;5;241m==\u001b[39m \u001b[38;5;241m0\u001b[39m:\n\u001b[1;32m     94\u001b[0m   \u001b[38;5;28;01mreturn\u001b[39;00m x\n",
            "\u001b[0;31mAssertionError\u001b[0m: "
          ]
        },
        {
          "data": {
            "text/plain": [
              "<Figure size 640x480 with 0 Axes>"
            ]
          },
          "metadata": {},
          "output_type": "display_data"
        }
      ],
      "source": [
        "plt.figure()\n",
        "plt.imshow(network.decode_what(foo))\n"
      ]
    },
    {
      "cell_type": "code",
      "execution_count": null,
      "metadata": {},
      "outputs": [
        {
          "data": {
            "text/plain": [
              "Array([-0.35996825,  0.11951399, -0.21761402,  0.07139164, -0.06978504,\n",
              "        0.02450009,  0.07144185, -0.02158827,  0.21532911, -0.07079058,\n",
              "        0.360167  , -0.1173246 ], dtype=float32)"
            ]
          },
          "execution_count": 53,
          "metadata": {},
          "output_type": "execute_result"
        }
      ],
      "source": [
        "out[\"z_what_0\"][0, 4, 0]"
      ]
    },
    {
      "cell_type": "code",
      "execution_count": null,
      "metadata": {},
      "outputs": [
        {
          "data": {
            "text/plain": [
              "{'Dense_0': {'bias': Array([-4.8308535], dtype=float32),\n",
              "  'kernel': Array([[-6.516733]], dtype=float32)},\n",
              " 'Dense_1': {'bias': Array([0.08292505], dtype=float32),\n",
              "  'kernel': Array([[0.4506103]], dtype=float32)}}"
            ]
          },
          "execution_count": 74,
          "metadata": {},
          "output_type": "execute_result"
        }
      ],
      "source": [
        "network.params['params']['decode_what']"
      ]
    },
    {
      "cell_type": "code",
      "execution_count": null,
      "metadata": {},
      "outputs": [
        {
          "data": {
            "text/plain": [
              "Array(1.9857125, dtype=float32, weak_type=True)"
            ]
          },
          "execution_count": 79,
          "metadata": {},
          "output_type": "execute_result"
        }
      ],
      "source": [
        "nn.softplus(0.45 + 0.08) * 2"
      ]
    },
    {
      "cell_type": "code",
      "execution_count": null,
      "metadata": {},
      "outputs": [
        {
          "data": {
            "text/plain": [
              "Array(0.6000124, dtype=float32, weak_type=True)"
            ]
          },
          "execution_count": 77,
          "metadata": {},
          "output_type": "execute_result"
        }
      ],
      "source": [
        "nn.softplus(-6.5 -4.8) + 0.6"
      ]
    },
    {
      "cell_type": "code",
      "execution_count": null,
      "metadata": {},
      "outputs": [
        {
          "data": {
            "text/plain": [
              "<matplotlib.colorbar.Colorbar at 0x7be33926f860>"
            ]
          },
          "execution_count": 83,
          "metadata": {},
          "output_type": "execute_result"
        },
        {
          "data": {
            "image/png": "[encoded data removed]",
            "text/plain": [
              "<Figure size 640x480 with 2 Axes>"
            ]
          },
          "metadata": {},
          "output_type": "display_data"
        }
      ],
      "source": [
        "plt.figure()\n",
        "plt.imshow(network.decode_what(out[\"z_what_0\"][0, 4, 0].reshape(6, 2)))\n",
        "plt.colorbar()"
      ]
    },
    {
      "cell_type": "code",
      "execution_count": null,
      "metadata": {},
      "outputs": [
        {
          "data": {
            "text/plain": [
              "(2, 12)"
            ]
          },
          "execution_count": 31,
          "metadata": {},
          "output_type": "execute_result"
        }
      ],
      "source": [
        "out[\"z_what_0\"][0, 4].shape"
      ]
    },
    {
      "cell_type": "code",
      "execution_count": null,
      "metadata": {},
      "outputs": [],
      "source": []
    }
  ],
  "metadata": {
    "kernelspec": {
      "display_name": "Python 3",
      "language": "python",
      "name": "python3"
    },
    "language_info": {
      "codemirror_mode": {
        "name": "ipython",
        "version": 3
      },
      "file_extension": ".py",
      "mimetype": "text/x-python",
      "name": "python",
      "nbconvert_exporter": "python",
      "pygments_lexer": "ipython3",
      "version": "3.12.3"
    }
  },
  "nbformat": 4,
  "nbformat_minor": 0
}
